{
 "cells": [
  {
   "cell_type": "code",
   "execution_count": 2,
   "metadata": {},
   "outputs": [],
   "source": [
    "import torch\n",
    "import numpy as np\n",
    "import sys\n",
    "import time"
   ]
  },
  {
   "cell_type": "code",
   "execution_count": 3,
   "metadata": {},
   "outputs": [
    {
     "name": "stdout",
     "output_type": "stream",
     "text": [
      "Using device: cuda\n"
     ]
    }
   ],
   "source": [
    "device = torch.device('cuda' if torch.cuda.is_available() else 'cpu')\n",
    "print('Using device:', device)"
   ]
  },
  {
   "cell_type": "code",
   "execution_count": 4,
   "metadata": {},
   "outputs": [],
   "source": [
    "class SimIonization(torch.nn.Module):\n",
    "\n",
    "    def __init__(self):\n",
    "        super(SimIonization, self).__init__()\n",
    "\n",
    "        self._density = 1.38    # g/cm^3\n",
    "        self._alpha   = 0.847\n",
    "        self._beta    = 0.2061\n",
    "        self._efield  = 0.500   # V/sm\n",
    "        self._lifetime = 6000.  # ms\n",
    "        self._energy_threshold = 0.06 # MeV threshold to ignore drift\n",
    "        self._dedx_threshold   = 0.0001 # MeV/cm threshold to ignore ...\n",
    "        self._vdrift  = 0.153812 # cm/us\n",
    "        \n",
    "    def forward(self,x):\n",
    "        '''\n",
    "        Input: x tensor w/ shape (N,3) where 2 = (E,x,de/dx)\n",
    "        Return: (N,1) where 1 = (Q,x,de/dx)\n",
    "        '''\n",
    "        # apply recombination\n",
    "        x[:,0] *= torch.log(self._alpha + self._beta * x[:,2]) / (self._beta * x[:,2])\n",
    "        # apply lifetime\n",
    "        x[:,1] *= torch.exp( -1. * x[:,1] / self._vdrift / self._lifetime)\n",
    "\n",
    "        return x"
   ]
  },
  {
   "cell_type": "markdown",
   "metadata": {},
   "source": [
    "## Converting numpy arrays into Tensors"
   ]
  },
  {
   "cell_type": "code",
   "execution_count": 43,
   "metadata": {},
   "outputs": [
    {
     "name": "stdout",
     "output_type": "stream",
     "text": [
      "Prepared a tensor torch.Size([100000000, 3])\n",
      "CPU times: user 4.78 s, sys: 1.24 s, total: 6.02 s\n",
      "Wall time: 4.73 s\n"
     ]
    }
   ],
   "source": [
    "%%time\n",
    "npts = int(1e8)\n",
    "de = np.random.random(npts) * 0.9 + 0.1\n",
    "dedx = np.random.random(npts) * 0.5 + 2.0\n",
    "x  = np.random.random(npts) * 200 + 30.\n",
    "ar = torch.Tensor(np.column_stack([de,x,dedx]))\n",
    "print('Prepared a tensor',ar.size())"
   ]
  },
  {
   "cell_type": "code",
   "execution_count": 44,
   "metadata": {},
   "outputs": [
    {
     "name": "stdout",
     "output_type": "stream",
     "text": [
      "Done tensor([[2.3566e-01, 1.7078e+02, 2.2894e+00],\n",
      "        [7.1291e-02, 1.6644e+02, 2.3275e+00],\n",
      "        [3.2906e-01, 1.1768e+02, 2.1446e+00],\n",
      "        ...,\n",
      "        [2.9505e-01, 1.3582e+02, 2.3626e+00],\n",
      "        [5.1798e-01, 1.6613e+02, 2.2790e+00],\n",
      "        [4.5030e-01, 1.1797e+02, 2.1126e+00]])\n",
      "CPU times: user 2.2 s, sys: 859 ms, total: 3.06 s\n",
      "Wall time: 1.61 s\n"
     ]
    }
   ],
   "source": [
    "%%time\n",
    "sim = SimIonization()\n",
    "result = sim(ar)\n",
    "print('Done',result)"
   ]
  },
  {
   "cell_type": "markdown",
   "metadata": {},
   "source": [
    "## Using FloatTensors"
   ]
  },
  {
   "cell_type": "code",
   "execution_count": 15,
   "metadata": {},
   "outputs": [
    {
     "name": "stdout",
     "output_type": "stream",
     "text": [
      "Prepared a tensor torch.Size([100000000, 3])\n",
      "CPU times: user 6.94 s, sys: 410 ms, total: 7.35 s\n",
      "Wall time: 7.22 s\n"
     ]
    }
   ],
   "source": [
    "%%time\n",
    "npts = int(1e8)\n",
    "de = torch.FloatTensor(npts).uniform_(0.1, 1)\n",
    "dedx = torch.FloatTensor(npts).uniform_(1.5, 2.5)\n",
    "x = torch.FloatTensor(npts).uniform_(30, 230)\n",
    "ar = torch.stack([de, x, dedx], dim=1)\n",
    "print('Prepared a tensor',ar.size())"
   ]
  },
  {
   "cell_type": "code",
   "execution_count": 45,
   "metadata": {},
   "outputs": [
    {
     "name": "stdout",
     "output_type": "stream",
     "text": [
      "Done tensor([[1.3822e-01, 1.4193e+02, 2.2894e+00],\n",
      "        [4.2013e-02, 1.3897e+02, 2.3275e+00],\n",
      "        [1.8900e-01, 1.0359e+02, 2.1446e+00],\n",
      "        ...,\n",
      "        [1.7459e-01, 1.1724e+02, 2.3626e+00],\n",
      "        [3.0341e-01, 1.3876e+02, 2.2790e+00],\n",
      "        [2.5725e-01, 1.0381e+02, 2.1126e+00]])\n",
      "CPU times: user 2.2 s, sys: 858 ms, total: 3.06 s\n",
      "Wall time: 1.64 s\n"
     ]
    }
   ],
   "source": [
    "%%time \n",
    "sim = SimIonization()\n",
    "result = sim(ar)\n",
    "print('Done',result)"
   ]
  },
  {
   "cell_type": "markdown",
   "metadata": {},
   "source": [
    "## Using FloatTensors on the GPU"
   ]
  },
  {
   "cell_type": "code",
   "execution_count": 39,
   "metadata": {},
   "outputs": [
    {
     "name": "stdout",
     "output_type": "stream",
     "text": [
      "Prepared a tensor torch.Size([100000000, 3])\n",
      "CPU times: user 3.62 ms, sys: 3.34 ms, total: 6.96 ms\n",
      "Wall time: 6.56 ms\n"
     ]
    }
   ],
   "source": [
    "%%time\n",
    "npts = int(1e8)\n",
    "de = torch.cuda.FloatTensor(npts).uniform_(0.1, 1)\n",
    "dedx = torch.cuda.FloatTensor(npts).uniform_(1.5, 2.5)\n",
    "x = torch.cuda.FloatTensor(npts).uniform_(30, 230)\n",
    "ar = torch.stack([de, x, dedx], dim=1)\n",
    "print('Prepared a tensor',ar.size())"
   ]
  },
  {
   "cell_type": "code",
   "execution_count": 41,
   "metadata": {},
   "outputs": [
    {
     "name": "stdout",
     "output_type": "stream",
     "text": [
      "Done tensor([[6.6116e-02, 1.3512e+02, 1.9368e+00],\n",
      "        [3.9215e-02, 1.3814e+02, 1.8728e+00],\n",
      "        [1.1456e-01, 1.4458e+02, 1.8342e+00],\n",
      "        ...,\n",
      "        [1.4807e-01, 5.6999e+01, 1.5469e+00],\n",
      "        [7.0041e-02, 1.0304e+02, 1.5254e+00],\n",
      "        [6.8445e-02, 9.2175e+01, 2.0959e+00]], device='cuda:0')\n",
      "CPU times: user 27.9 ms, sys: 0 ns, total: 27.9 ms\n",
      "Wall time: 27.1 ms\n"
     ]
    }
   ],
   "source": [
    "%%time \n",
    "sim = SimIonization()\n",
    "result = sim(ar)\n",
    "print('Done',result)"
   ]
  }
 ],
 "metadata": {
  "kernelspec": {
   "display_name": "pytorch-v1.2.0-gpu [conda env:root] *",
   "language": "python",
   "name": "conda-root-pytorch-v1.2.0-gpu"
  },
  "language_info": {
   "codemirror_mode": {
    "name": "ipython",
    "version": 3
   },
   "file_extension": ".py",
   "mimetype": "text/x-python",
   "name": "python",
   "nbconvert_exporter": "python",
   "pygments_lexer": "ipython3",
   "version": "3.6.9"
  }
 },
 "nbformat": 4,
 "nbformat_minor": 4
}
