{
 "cells": [
  {
   "cell_type": "code",
   "execution_count": 1,
   "id": "e59a7bc5-2ede-4083-839f-e99613a6cd53",
   "metadata": {
    "jupyter": {
     "source_hidden": true
    },
    "tags": []
   },
   "outputs": [],
   "source": [
    "# copy paste from simulate_pixels.py\n",
    "from math import ceil\n",
    "from time import time\n",
    "\n",
    "import numpy as np\n",
    "import numpy.lib.recfunctions as rfn\n",
    "\n",
    "import cupy as cp\n",
    "from cupy.cuda.nvtx import RangePush, RangePop\n",
    "\n",
    "import fire\n",
    "import h5py\n",
    "\n",
    "from numba.cuda import device_array\n",
    "from numba.cuda.random import create_xoroshiro128p_states\n",
    "\n",
    "from tqdm import tqdm\n",
    "\n",
    "from larndsim import consts\n",
    "from larndsim.cuda_dict import CudaDict\n",
    "\n",
    "SEED = int(time())\n",
    "\n",
    "def swap_coordinates(tracks):\n",
    "    \"\"\"\n",
    "    Swap x and z coordinates in tracks.\n",
    "    This is because the convention in larnd-sim is different\n",
    "    from the convention in edep-sim. FIXME.\n",
    "\n",
    "    Args:\n",
    "        tracks (:obj:`numpy.ndarray`): tracks array.\n",
    "\n",
    "    Returns:\n",
    "        :obj:`numpy.ndarray`: tracks with swapped axes.\n",
    "    \"\"\"\n",
    "    x_start = np.copy(tracks['x_start'] )\n",
    "    x_end = np.copy(tracks['x_end'])\n",
    "    x = np.copy(tracks['x'])\n",
    "\n",
    "    tracks['x_start'] = np.copy(tracks['z_start'])\n",
    "    tracks['x_end'] = np.copy(tracks['z_end'])\n",
    "    tracks['x'] = np.copy(tracks['z'])\n",
    "\n",
    "    tracks['z_start'] = x_start\n",
    "    tracks['z_end'] = x_end\n",
    "    tracks['z'] = x\n",
    "\n",
    "    return tracks\n",
    "\n",
    "def maybe_create_rng_states(n, seed=0, rng_states=None):\n",
    "    \"\"\"Create or extend random states for CUDA kernel\"\"\"\n",
    "    if rng_states is None:\n",
    "        return create_xoroshiro128p_states(n, seed=seed)\n",
    "    elif n > len(rng_states):\n",
    "        new_states = device_array(n, dtype=rng_states.dtype)\n",
    "        new_states[:len(rng_states)] = rng_states\n",
    "        new_states[len(rng_states):] = create_xoroshiro128p_states(n - len(rng_states), seed=seed)\n",
    "        return new_states\n",
    "    return rng_states"
   ]
  },
  {
   "cell_type": "code",
   "execution_count": 2,
   "id": "69c9aa2f-5551-4f07-bac7-e5b3281d750c",
   "metadata": {},
   "outputs": [],
   "source": [
    "import matplotlib.pyplot as plt"
   ]
  },
  {
   "cell_type": "code",
   "execution_count": 3,
   "id": "1f941239-6a12-458f-ab7e-717b3ed2f86b",
   "metadata": {},
   "outputs": [],
   "source": [
    "pixel_layout = '../larndsim/pixel_layouts/multi_tile_layout-2.3.16.yaml'\n",
    "detector_properties = '../larndsim/detector_properties/module0.yaml'\n",
    "response_file = '../larndsim/bin/response_44.npy'\n",
    "bad_channels = '../larndsim/detector_properties/module0_bad_channels.json'\n",
    "pixel_thresholds_file = None\n",
    "light_lut_filename = '../larndsim/bin/lightLUT.npy'\n",
    "\n",
    "input_filename = '../edep.9951.h5'"
   ]
  },
  {
   "cell_type": "code",
   "execution_count": 4,
   "id": "0e46bb68-9d3e-4837-9c76-85f223df362b",
   "metadata": {
    "jupyter": {
     "source_hidden": true
    },
    "tags": []
   },
   "outputs": [
    {
     "name": "stdout",
     "output_type": "stream",
     "text": [
      "**************************\n",
      "LOADING SETTINGS AND INPUT\n",
      "**************************\n",
      "Random seed: 1649360688\n",
      "Batch size: 4000\n",
      "Pixel layout file: ../larndsim/pixel_layouts/multi_tile_layout-2.3.16.yaml\n",
      "Detector properties file: ../larndsim/detector_properties/module0.yaml\n",
      "edep-sim input file: ../edep.9951.h5\n",
      "Response file: ../larndsim/bin/response_44.npy\n",
      "Disabled channel list:  ../larndsim/detector_properties/module0_bad_channels.json\n",
      "******************\n",
      "RUNNING SIMULATION\n",
      "******************\n",
      "Quenching electrons... 0.22 s\n",
      "Drifting electrons... 0.25 s\n"
     ]
    }
   ],
   "source": [
    "# copy paste from simulate_pixels.py\n",
    "BATCH_SIZE = 4000\n",
    "\n",
    "start_simulation = time()\n",
    "\n",
    "RangePush(\"run_simulation\")\n",
    "\n",
    "print(\"**************************\\nLOADING SETTINGS AND INPUT\\n**************************\")\n",
    "print(\"Random seed:\", SEED)\n",
    "print(\"Batch size:\", BATCH_SIZE)\n",
    "print(\"Pixel layout file:\", pixel_layout)\n",
    "print(\"Detector properties file:\", detector_properties)\n",
    "print(\"edep-sim input file:\", input_filename)\n",
    "print(\"Response file:\", response_file)\n",
    "if bad_channels:\n",
    "    print(\"Disabled channel list: \", bad_channels)\n",
    "RangePush(\"load_detector_properties\")\n",
    "consts.load_properties(detector_properties, pixel_layout)\n",
    "from larndsim.consts import light, detector, physics\n",
    "RangePop()\n",
    "\n",
    "RangePush(\"load_larndsim_modules\")\n",
    "# Here we load the modules after loading the detector properties\n",
    "# maybe can be implemented in a better way?\n",
    "from larndsim import (quenching, drifting, detsim, pixels_from_track, fee,\n",
    "    lightLUT, light_sim)\n",
    "RangePop()\n",
    "\n",
    "RangePush(\"load_pixel_thresholds\")\n",
    "if pixel_thresholds_file is not None:\n",
    "    print(\"Pixel thresholds file:\", pixel_thresholds_file)\n",
    "    pixel_thresholds_lut = CudaDict.load(pixel_thresholds_file, 256)\n",
    "else:\n",
    "    pixel_thresholds_lut = CudaDict(cp.array([fee.DISCRIMINATION_THRESHOLD]), 1, 1)\n",
    "RangePop()\n",
    "\n",
    "RangePush(\"load_hd5_file\")\n",
    "# First of all we load the edep-sim output\n",
    "with h5py.File(input_filename, 'r') as f:\n",
    "    tracks = np.array(f['segments'])\n",
    "    try:\n",
    "        trajectories = np.array(f['trajectories'])\n",
    "        input_has_trajectories = True\n",
    "    except KeyError:\n",
    "        input_has_trajectories = False\n",
    "\n",
    "    try:\n",
    "        vertices = np.array(f['vertices'])\n",
    "        input_has_vertices = True\n",
    "    except KeyError:\n",
    "        print(\"Input file does not have true vertices info\")\n",
    "        input_has_vertices = False\n",
    "\n",
    "RangePop()\n",
    "\n",
    "# Makes an empty array to store data from lightlut\n",
    "if light.LIGHT_SIMULATED:\n",
    "    light_sim_dat = np.zeros([len(tracks), light.N_OP_CHANNEL*2],\n",
    "                             dtype=[('n_photons_det','f4'),('t0_det','f4')])\n",
    "    track_light_voxel = np.zeros([len(tracks), 3], dtype='i4')\n",
    "\n",
    "if tracks.size == 0:\n",
    "    print(\"Empty input dataset, exiting\")\n",
    "    \n",
    "else:\n",
    "\n",
    "    n_tracks = len(tracks)\n",
    "    if n_tracks:\n",
    "        tracks = tracks[:n_tracks]\n",
    "        if light.LIGHT_SIMULATED:\n",
    "            light_sim_dat = light_sim_dat[:n_tracks]\n",
    "\n",
    "    if 'n_photons' not in tracks.dtype.names:\n",
    "        n_photons = np.zeros(tracks.shape[0], dtype=[('n_photons', 'f4')])\n",
    "        tracks = rfn.merge_arrays((tracks, n_photons), flatten=True)\n",
    "\n",
    "    # Here we swap the x and z coordinates of the tracks\n",
    "    # because of the different convention in larnd-sim wrt edep-sim\n",
    "    tracks = swap_coordinates(tracks)\n",
    "\n",
    "    response = cp.load(response_file)\n",
    "\n",
    "    TPB = 256\n",
    "    BPG = ceil(tracks.shape[0] / TPB)\n",
    "\n",
    "    print(\"******************\\nRUNNING SIMULATION\\n******************\")\n",
    "    # We calculate the number of electrons after recombination (quenching module)\n",
    "    # and the position and number of electrons after drifting (drifting module)\n",
    "    print(\"Quenching electrons...\" , end=\"\")\n",
    "    start_quenching = time()\n",
    "    quenching.quench[BPG,TPB](tracks, physics.BIRKS)\n",
    "    end_quenching = time()\n",
    "    print(f\" {end_quenching-start_quenching:.2f} s\")\n",
    "\n",
    "    print(\"Drifting electrons...\", end=\"\")\n",
    "    start_drifting = time()\n",
    "    drifting.drift[BPG,TPB](tracks)\n",
    "    end_drifting = time()\n",
    "    print(f\" {end_drifting-start_drifting:.2f} s\")"
   ]
  },
  {
   "cell_type": "code",
   "execution_count": 5,
   "id": "e9b10123-c1e0-4452-b462-f14508f4e574",
   "metadata": {},
   "outputs": [
    {
     "name": "stdout",
     "output_type": "stream",
     "text": [
      "Calculating optical responses..."
     ]
    },
    {
     "name": "stderr",
     "output_type": "stream",
     "text": [
      "/global/homes/p/pmadigan/.conda/envs/larnd-sim/lib/python3.7/site-packages/ipykernel/ipkernel.py:287: DeprecationWarning: `should_run_async` will not call `transform_cell` automatically in the future. Please pass the result to `transformed_cell` argument and any exception that happen during thetransform in `preprocessing_exc_tuple` in IPython 7.17 and above.\n",
      "  and should_run_async(code)\n"
     ]
    },
    {
     "name": "stdout",
     "output_type": "stream",
     "text": [
      " 0.55 s\n"
     ]
    }
   ],
   "source": [
    "print(\"Calculating optical responses...\", end=\"\")\n",
    "start_light_time = time()\n",
    "lut = np.load(light_lut_filename)\n",
    "TPB = 256\n",
    "BPG = ceil(tracks.shape[0] / TPB)\n",
    "lightLUT.calculate_light_incidence[BPG,TPB](tracks, lut, light_sim_dat, track_light_voxel)\n",
    "print(f\" {time()-start_light_time:.2f} s\")"
   ]
  },
  {
   "cell_type": "code",
   "execution_count": 6,
   "id": "68d0726a-0968-4c61-abb1-bfabfc2ae824",
   "metadata": {},
   "outputs": [
    {
     "name": "stderr",
     "output_type": "stream",
     "text": [
      "/global/homes/p/pmadigan/.conda/envs/larnd-sim/lib/python3.7/site-packages/ipykernel/ipkernel.py:287: DeprecationWarning: `should_run_async` will not call `transform_cell` automatically in the future. Please pass the result to `transformed_cell` argument and any exception that happen during thetransform in `preprocessing_exc_tuple` in IPython 7.17 and above.\n",
      "  and should_run_async(code)\n"
     ]
    },
    {
     "data": {
      "text/plain": [
       "dtype([('n_photons_det', '<f4'), ('t0_det', '<f4')])"
      ]
     },
     "execution_count": 6,
     "metadata": {},
     "output_type": "execute_result"
    }
   ],
   "source": [
    "light_sim_dat.dtype"
   ]
  },
  {
   "cell_type": "code",
   "execution_count": 7,
   "id": "582e0715-47c0-4038-bfad-31365007f323",
   "metadata": {},
   "outputs": [
    {
     "data": {
      "image/png": "[encoded data removed]",
      "text/plain": [
       "<Figure size 600x400 with 1 Axes>"
      ]
     },
     "metadata": {
      "needs_background": "light"
     },
     "output_type": "display_data"
    }
   ],
   "source": [
    "%matplotlib inline\n",
    "plt.figure(dpi=100)\n",
    "# bins = np.linspace(tracks['t0'].min(),tracks['t0'].max(),100)\n",
    "bins = np.linspace(0,0.5,100)\n",
    "mask = light_sim_dat['n_photons_det'] > 0\n",
    "plt.hist(light_sim_dat['t0_det'][mask].ravel(),\n",
    "         bins=bins, label='first photon hit')\n",
    "plt.hist(tracks['t0'].ravel(), bins=bins, label='edepsim segments')\n",
    "plt.xlabel(r'time [$\\mu$s]')\n",
    "plt.legend()\n",
    "plt.yscale('log')"
   ]
  },
  {
   "cell_type": "code",
   "execution_count": 133,
   "id": "95646a2d-862f-4f8d-8778-709583740d76",
   "metadata": {},
   "outputs": [],
   "source": [
    "ievd = 1047"
   ]
  },
  {
   "cell_type": "code",
   "execution_count": 134,
   "id": "b100855a-b547-40c8-9f1b-d4d4eccfb7ed",
   "metadata": {
    "jupyter": {
     "source_hidden": true
    },
    "tags": []
   },
   "outputs": [
    {
     "name": "stderr",
     "output_type": "stream",
     "text": [
      "                                                                                \r"
     ]
    }
   ],
   "source": [
    "# copy paste from simulate_pixels.py\n",
    "\n",
    "# create a lookup table that maps between unique event ids and the segments in the file\n",
    "tot_evids = np.unique(tracks['eventID'])\n",
    "_, _, start_idx = np.intersect1d(tot_evids, tracks['eventID'], return_indices=True)\n",
    "_, _, rev_idx = np.intersect1d(tot_evids, tracks['eventID'][::-1], return_indices=True)\n",
    "end_idx = len(tracks['eventID']) - 1 - rev_idx\n",
    "\n",
    "# We divide the sample in portions that can be processed by the GPU\n",
    "step = 1\n",
    "\n",
    "# pre-allocate some random number states\n",
    "rng_states = maybe_create_rng_states(1024*256, seed=0)\n",
    "t0 = 0\n",
    "\n",
    "\n",
    "event_id_list = []\n",
    "adc_tot_list = []\n",
    "adc_tot_ticks_list = []\n",
    "track_pixel_map_tot = []\n",
    "unique_pix_tot = []\n",
    "current_fractions_tot = []\n",
    "\n",
    "first_event = tot_evids[ievd]\n",
    "last_event = tot_evids[min(ievd+step, tot_evids.shape[0]-1)]\n",
    "\n",
    "if first_event == last_event:\n",
    "    last_event += 1\n",
    "\n",
    "# load a subset of segments from the file and process those that are from the current event\n",
    "track_subset = tracks[min(start_idx[ievd:ievd + step]):max(end_idx[ievd:ievd + step])+1]\n",
    "evt_tracks = track_subset[(track_subset['eventID'] >= first_event) & (track_subset['eventID'] < last_event)]\n",
    "first_trk_id = np.where(track_subset['eventID'] == evt_tracks['eventID'][0])[0][0] + min(start_idx[ievd:ievd + step])\n",
    "\n",
    "for itrk in tqdm(range(0, evt_tracks.shape[0], BATCH_SIZE), desc='  Simulating event %i batches...' % ievd, leave=False, ncols=80):\n",
    "    selected_tracks = evt_tracks[itrk:itrk+BATCH_SIZE]\n",
    "    RangePush(\"event_id_map\")\n",
    "    event_ids = selected_tracks['eventID']\n",
    "    unique_eventIDs = np.unique(event_ids)\n",
    "    RangePop()\n",
    "\n",
    "    # We find the pixels intersected by the projection of the tracks on\n",
    "    # the anode plane using the Bresenham's algorithm. We also take into\n",
    "    # account the neighboring pixels, due to the transverse diffusion of the charges.\n",
    "    RangePush(\"pixels_from_track\")\n",
    "    max_radius = ceil(max(selected_tracks[\"tran_diff\"])*5/detector.PIXEL_PITCH)\n",
    "\n",
    "    TPB = 128\n",
    "    BPG = ceil(selected_tracks.shape[0] / TPB)\n",
    "    max_pixels = np.array([0])\n",
    "    pixels_from_track.max_pixels[BPG,TPB](selected_tracks, max_pixels)\n",
    "\n",
    "    # This formula tries to estimate the maximum number of pixels which can have\n",
    "    # a current induced on them.\n",
    "    max_neighboring_pixels = (2*max_radius+1)*max_pixels[0]+(1+2*max_radius)*max_radius*2\n",
    "\n",
    "    active_pixels = cp.full((selected_tracks.shape[0], max_pixels[0]), -1, dtype=np.int32)\n",
    "    neighboring_pixels = cp.full((selected_tracks.shape[0], max_neighboring_pixels), -1, dtype=np.int32)\n",
    "    n_pixels_list = cp.zeros(shape=(selected_tracks.shape[0]))\n",
    "\n",
    "    if not active_pixels.shape[1] or not neighboring_pixels.shape[1]:\n",
    "        continue\n",
    "\n",
    "    pixels_from_track.get_pixels[BPG,TPB](selected_tracks,\n",
    "                                          active_pixels,\n",
    "                                          neighboring_pixels,\n",
    "                                          n_pixels_list,\n",
    "                                          max_radius)\n",
    "    RangePop()\n",
    "\n",
    "    RangePush(\"unique_pix\")\n",
    "    shapes = neighboring_pixels.shape\n",
    "    joined = neighboring_pixels.reshape(shapes[0] * shapes[1])\n",
    "    unique_pix = cp.unique(joined)\n",
    "    unique_pix = unique_pix[(unique_pix != -1)]\n",
    "    RangePop()\n",
    "\n",
    "    if not unique_pix.shape[0]:\n",
    "        continue\n",
    "\n",
    "    RangePush(\"time_intervals\")\n",
    "    # Here we find the longest signal in time and we store an array with the start in time of each track\n",
    "    max_length = cp.array([0])\n",
    "    track_starts = cp.empty(selected_tracks.shape[0])\n",
    "    detsim.time_intervals[BPG,TPB](track_starts, max_length, selected_tracks)\n",
    "    RangePop()\n",
    "\n",
    "    RangePush(\"tracks_current\")\n",
    "    # Here we calculate the induced current on each pixel\n",
    "    signals = cp.zeros((selected_tracks.shape[0],\n",
    "                        neighboring_pixels.shape[1],\n",
    "                        cp.asnumpy(max_length)[0]), dtype=np.float32)\n",
    "    TPB = (1,1,64)\n",
    "    BPG_X = ceil(signals.shape[0] / TPB[0])\n",
    "    BPG_Y = ceil(signals.shape[1] / TPB[1])\n",
    "    BPG_Z = ceil(signals.shape[2] / TPB[2])\n",
    "    BPG = (BPG_X, BPG_Y, BPG_Z)\n",
    "    rng_states = maybe_create_rng_states(int(np.prod(TPB[:2]) * np.prod(BPG[:2])), seed=SEED+ievd+itrk, rng_states=rng_states)\n",
    "    detsim.tracks_current_mc[BPG,TPB](signals, neighboring_pixels, selected_tracks, response, rng_states)\n",
    "    RangePop()\n",
    "\n",
    "    RangePush(\"pixel_index_map\")\n",
    "    # Here we create a map between tracks and index in the unique pixel array\n",
    "    pixel_index_map = cp.full((selected_tracks.shape[0], neighboring_pixels.shape[1]), -1)\n",
    "    for i_ in range(selected_tracks.shape[0]):\n",
    "        compare = neighboring_pixels[i_, ..., cp.newaxis] == unique_pix\n",
    "        indices = cp.where(compare)\n",
    "        pixel_index_map[i_, indices[0]] = indices[1]\n",
    "    RangePop()\n",
    "\n",
    "    RangePush(\"track_pixel_map\")\n",
    "    # Mapping between unique pixel array and track array index\n",
    "    track_pixel_map = cp.full((unique_pix.shape[0], detsim.MAX_TRACKS_PER_PIXEL), -1)\n",
    "    TPB = 32\n",
    "    BPG = ceil(unique_pix.shape[0] / TPB)\n",
    "    detsim.get_track_pixel_map[BPG, TPB](track_pixel_map, unique_pix, neighboring_pixels)\n",
    "    RangePop()\n",
    "\n",
    "    RangePush(\"sum_pixels_signals\")\n",
    "    # Here we combine the induced current on the same pixels by different tracks\n",
    "    TPB = (8,8,8)\n",
    "    BPG_X = ceil(signals.shape[0] / TPB[0])\n",
    "    BPG_Y = ceil(signals.shape[1] / TPB[1])\n",
    "    BPG_Z = ceil(signals.shape[2] / TPB[2])\n",
    "    BPG = (BPG_X, BPG_Y, BPG_Z)\n",
    "    pixels_signals = cp.zeros((len(unique_pix), len(detector.TIME_TICKS)))\n",
    "    pixels_tracks_signals = cp.zeros((len(unique_pix),\n",
    "                                      len(detector.TIME_TICKS),\n",
    "                                      track_pixel_map.shape[1]))\n",
    "    detsim.sum_pixel_signals[BPG,TPB](pixels_signals,\n",
    "                                      signals,\n",
    "                                      track_starts,\n",
    "                                      pixel_index_map,\n",
    "                                      track_pixel_map,\n",
    "                                      pixels_tracks_signals)\n",
    "    RangePop()\n",
    "\n",
    "    RangePush(\"get_adc_values\")\n",
    "    # Here we simulate the electronics response (the self-triggering cycle) and the signal digitization\n",
    "    time_ticks = cp.linspace(0, len(unique_eventIDs) * detector.TIME_INTERVAL[1], pixels_signals.shape[1]+1)\n",
    "    integral_list = cp.zeros((pixels_signals.shape[0], fee.MAX_ADC_VALUES))\n",
    "    adc_ticks_list = cp.zeros((pixels_signals.shape[0], fee.MAX_ADC_VALUES))\n",
    "    current_fractions = cp.zeros((pixels_signals.shape[0], fee.MAX_ADC_VALUES, track_pixel_map.shape[1]))\n",
    "\n",
    "    TPB = 128\n",
    "    BPG = ceil(pixels_signals.shape[0] / TPB)\n",
    "    rng_states = maybe_create_rng_states(int(TPB * BPG), seed=SEED+ievd+itrk, rng_states=rng_states)\n",
    "    pixel_thresholds_lut.tpb = TPB\n",
    "    pixel_thresholds_lut.bpg = BPG\n",
    "    pixel_thresholds = pixel_thresholds_lut[unique_pix.ravel()].reshape(unique_pix.shape)\n",
    "\n",
    "    fee.get_adc_values[BPG, TPB](pixels_signals,\n",
    "                                 pixels_tracks_signals,\n",
    "                                 time_ticks,\n",
    "                                 integral_list,\n",
    "                                 adc_ticks_list,\n",
    "                                 0,\n",
    "                                 rng_states,\n",
    "                                 current_fractions,\n",
    "                                 pixel_thresholds)\n",
    "\n",
    "    adc_list = fee.digitize(integral_list)\n",
    "    adc_event_ids = np.full(adc_list.shape, unique_eventIDs[0]) # FIXME: only works if looping on a single event\n",
    "    RangePop()"
   ]
  },
  {
   "cell_type": "code",
   "execution_count": 141,
   "id": "cfd41079-b97a-4fbb-806e-d4fb1d539f8f",
   "metadata": {},
   "outputs": [
    {
     "name": "stderr",
     "output_type": "stream",
     "text": [
      "/global/homes/p/pmadigan/.conda/envs/larnd-sim/lib/python3.7/site-packages/ipykernel/ipkernel.py:287: DeprecationWarning: `should_run_async` will not call `transform_cell` automatically in the future. Please pass the result to `transformed_cell` argument and any exception that happen during thetransform in `preprocessing_exc_tuple` in IPython 7.17 and above.\n",
      "  and should_run_async(code)\n"
     ]
    },
    {
     "data": {
      "text/plain": [
       "Text(0, 0.5, 'y [cm]')"
      ]
     },
     "execution_count": 141,
     "metadata": {},
     "output_type": "execute_result"
    },
    {
     "data": {
      "image/png": "[encoded data removed]",
      "text/plain": [
       "<Figure size 600x400 with 1 Axes>"
      ]
     },
     "metadata": {
      "needs_background": "light"
     },
     "output_type": "display_data"
    },
    {
     "data": {
      "image/png": "[encoded data removed]",
      "text/plain": [
       "<Figure size 600x400 with 1 Axes>"
      ]
     },
     "metadata": {
      "needs_background": "light"
     },
     "output_type": "display_data"
    }
   ],
   "source": [
    "plt.figure(dpi=100)\n",
    "for t in selected_tracks:\n",
    "    plt.plot([t['x_start'], t['x_end']],\n",
    "             [t['y_start'], t['y_end']],\n",
    "             color=f'C{int(abs(t[\"pdgId\"]))}')\n",
    "plt.xlabel('x [cm]')\n",
    "plt.ylabel('y [cm]')\n",
    "\n",
    "plt.figure(dpi=100)\n",
    "for t in selected_tracks:\n",
    "    plt.plot([t['z_start'], t['z_end']],\n",
    "             [t['y_start'], t['y_end']],\n",
    "             color=f'C{int(abs(t[\"pdgId\"]))}')\n",
    "plt.xlabel('z [cm]')\n",
    "plt.ylabel('y [cm]')"
   ]
  },
  {
   "cell_type": "code",
   "execution_count": 136,
   "id": "1e49d183-d920-4570-ab83-8c15612304cb",
   "metadata": {},
   "outputs": [],
   "source": [
    "RangePush(\"sum_light_signals\")\n",
    "light_inc = light_sim_dat[itrk:itrk+BATCH_SIZE]\n",
    "n_light_ticks, light_t_start = light_sim.get_nticks(light_inc)\n",
    "\n",
    "n_light_det = light_inc.shape[-1]\n",
    "light_sample_inc = cp.zeros((n_light_det,n_light_ticks), dtype='f4')\n",
    "TPB = (1,64)\n",
    "BPG = (ceil(light_sample_inc.shape[0] / TPB[0]),\n",
    "       ceil(light_sample_inc.shape[1] / TPB[1]))\n",
    "light_sim.sum_light_signals[BPG, TPB](selected_tracks, track_light_voxel[itrk:itrk+BATCH_SIZE], light_inc, lut, light_t_start, light_sample_inc)\n",
    "RangePop()"
   ]
  },
  {
   "cell_type": "code",
   "execution_count": 140,
   "id": "fa502827-10c9-494f-a628-598335a3ad13",
   "metadata": {},
   "outputs": [
    {
     "name": "stderr",
     "output_type": "stream",
     "text": [
      "/global/homes/p/pmadigan/.conda/envs/larnd-sim/lib/python3.7/site-packages/ipykernel/ipkernel.py:287: DeprecationWarning: `should_run_async` will not call `transform_cell` automatically in the future. Please pass the result to `transformed_cell` argument and any exception that happen during thetransform in `preprocessing_exc_tuple` in IPython 7.17 and above.\n",
      "  and should_run_async(code)\n"
     ]
    },
    {
     "data": {
      "text/plain": [
       "Text(0.5, 1.0, 'propagation delay only')"
      ]
     },
     "execution_count": 140,
     "metadata": {},
     "output_type": "execute_result"
    },
    {
     "data": {
      "image/png": "[encoded data removed]",
      "text/plain": [
       "<Figure size 600x400 with 1 Axes>"
      ]
     },
     "metadata": {
      "needs_background": "light"
     },
     "output_type": "display_data"
    }
   ],
   "source": [
    "from larndsim.consts.light import LIGHT_TICK_SIZE\n",
    "\n",
    "plt.figure(dpi=100)\n",
    "for idet in range(light_sample_inc.shape[0]):\n",
    "    plt.plot(np.arange(light_sample_inc.shape[1]) * LIGHT_TICK_SIZE, light_sample_inc[idet].get(),\n",
    "             label='detector channel' if idet == 0 else None, color='b', lw=1, alpha=0.5)\n",
    "\n",
    "plt.plot(np.arange(light_sample_inc.shape[1]) * LIGHT_TICK_SIZE, light_sample_inc.sum(axis=0).get(), label='sum', color='k')\n",
    "plt.xlabel(r'time [$\\mu$s]')\n",
    "plt.ylabel('n photons')\n",
    "plt.xlim(0,1)\n",
    "plt.legend()\n",
    "plt.title('propagation delay only')"
   ]
  },
  {
   "cell_type": "code",
   "execution_count": 138,
   "id": "2403bf7a-c239-4005-b2ac-689252acbe7e",
   "metadata": {},
   "outputs": [
    {
     "name": "stderr",
     "output_type": "stream",
     "text": [
      "/global/homes/p/pmadigan/.conda/envs/larnd-sim/lib/python3.7/site-packages/ipykernel/ipkernel.py:287: DeprecationWarning: `should_run_async` will not call `transform_cell` automatically in the future. Please pass the result to `transformed_cell` argument and any exception that happen during thetransform in `preprocessing_exc_tuple` in IPython 7.17 and above.\n",
      "  and should_run_async(code)\n"
     ]
    }
   ],
   "source": [
    "RangePush(\"sim_scintillation\")\n",
    "light_sample_inc_scint = cp.zeros_like(light_sample_inc)\n",
    "light_sim.calc_scintillation_effect[BPG, TPB](light_sample_inc, light_sample_inc_scint)\n",
    "RangePop()"
   ]
  },
  {
   "cell_type": "code",
   "execution_count": 142,
   "id": "65260116-a2dd-4221-8527-610ef6cdba3b",
   "metadata": {},
   "outputs": [
    {
     "data": {
      "text/plain": [
       "(0.0, 1.0)"
      ]
     },
     "execution_count": 142,
     "metadata": {},
     "output_type": "execute_result"
    },
    {
     "data": {
      "image/png": "[encoded data removed]",
      "text/plain": [
       "<Figure size 600x400 with 1 Axes>"
      ]
     },
     "metadata": {
      "needs_background": "light"
     },
     "output_type": "display_data"
    }
   ],
   "source": [
    "plt.figure(dpi=100)\n",
    "for idet in range(light_sample_inc_scint.shape[0]):\n",
    "    plt.plot(np.arange(light_sample_inc_scint.shape[1]) * LIGHT_TICK_SIZE, light_sample_inc_scint[idet].get(),\n",
    "             label='detector channel' if idet == 0 else None, color='b', lw=1, alpha=0.5)\n",
    "\n",
    "plt.plot(np.arange(light_sample_inc_scint.shape[1]) * LIGHT_TICK_SIZE, light_sample_inc_scint.sum(axis=0).get(), label='sum', color='k')\n",
    "plt.xlabel(r'time [$\\mu$s]')\n",
    "plt.ylabel('n photons')\n",
    "plt.legend()\n",
    "plt.title('propagation and scintillation')\n",
    "plt.xlim(0,1)"
   ]
  },
  {
   "cell_type": "code",
   "execution_count": null,
   "id": "c599b61d-9ff1-4f2f-901e-e37311eeb8ea",
   "metadata": {},
   "outputs": [],
   "source": []
  }
 ],
 "metadata": {
  "kernelspec": {
   "display_name": "larnd-sim",
   "language": "python",
   "name": "larnd-sim"
  },
  "language_info": {
   "codemirror_mode": {
    "name": "ipython",
    "version": 3
   },
   "file_extension": ".py",
   "mimetype": "text/x-python",
   "name": "python",
   "nbconvert_exporter": "python",
   "pygments_lexer": "ipython3",
   "version": "3.7.11"
  }
 },
 "nbformat": 4,
 "nbformat_minor": 5
}
