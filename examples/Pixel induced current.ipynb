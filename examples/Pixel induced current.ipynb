{
 "cells": [
  {
   "cell_type": "markdown",
   "metadata": {},
   "source": [
    "# Pixel induced current\n",
    "In this notebook we load a track dataset and we calculate the current induced on the pixels placed at the anode."
   ]
  },
  {
   "cell_type": "code",
   "execution_count": 1,
   "metadata": {},
   "outputs": [],
   "source": [
    "# This is need so you can import larndsim without doing python setup.py install\n",
    "import os,sys,inspect\n",
    "currentdir = os.path.dirname(os.path.abspath(inspect.getfile(inspect.currentframe())))\n",
    "parentdir = os.path.dirname(currentdir)\n",
    "sys.path.insert(0,parentdir) "
   ]
  },
  {
   "cell_type": "code",
   "execution_count": 2,
   "metadata": {},
   "outputs": [],
   "source": [
    "from larndsim import consts, quenching, drifting, detsim, pixels_from_track, fee\n",
    "from larndsim import indeces as i\n",
    "\n",
    "import importlib\n",
    "importlib.reload(detsim)\n",
    "importlib.reload(drifting)\n",
    "importlib.reload(quenching)\n",
    "importlib.reload(consts)\n",
    "importlib.reload(pixels_from_track)\n",
    "importlib.reload(fee)\n",
    "importlib.reload(i)\n",
    "\n",
    "\n",
    "import numpy as np\n",
    "import matplotlib.pyplot as plt\n",
    "import matplotlib as mpl\n",
    "import matplotlib.cm as cm\n",
    "from mpl_toolkits.axes_grid1 import make_axes_locatable\n",
    "\n",
    "import pickle\n",
    "import numpy as np\n",
    "import numba as nb\n",
    "import pandas as pd\n",
    "\n",
    "from numba import cuda\n",
    "from math import ceil, sqrt, pi, exp, erf\n",
    "from time import time"
   ]
  },
  {
   "cell_type": "markdown",
   "metadata": {},
   "source": [
    "Here we load the dataset with the tracks and we store the column cols corresponding to the each variable."
   ]
  },
  {
   "cell_type": "code",
   "execution_count": 3,
   "metadata": {},
   "outputs": [],
   "source": [
    "tracks_np = pickle.load(open('qc_tpc_10k.p', 'rb'))\n",
    "x_start, x_end = np.copy(tracks_np[:,i.x_start]), np.copy(tracks_np[:,i.x_end])\n",
    "z_start, z_end = np.copy(tracks_np[:,i.z_start]), np.copy(tracks_np[:,i.z_end])\n",
    "tracks_np[:,i.z_start], tracks_np[:,i.z_end] = x_start, x_end\n",
    "tracks_np[:,i.x_start], tracks_np[:,i.x_end] = z_start, z_end\n",
    "\n",
    "d_tracks_np = cuda.to_device(tracks_np)"
   ]
  },
  {
   "cell_type": "code",
   "execution_count": 4,
   "metadata": {},
   "outputs": [],
   "source": [
    "threadsperblock = 256\n",
    "blockspergrid = ceil(tracks_np.shape[0] / threadsperblock)\n",
    "\n",
    "quenching.quench[blockspergrid,threadsperblock](d_tracks_np, consts.box)\n",
    "drifting.drift[blockspergrid,threadsperblock](d_tracks_np)"
   ]
  },
  {
   "cell_type": "markdown",
   "metadata": {},
   "source": [
    "## Charge distribution calculation\n",
    "Here we calculate the current induced by each track on the pixels, taking into account longitudinal and transverse diffusion. The track segment is parametrized as:\n",
    "\\begin{align}\n",
    "x'(r') &=x_s + \\frac{\\Delta x}{\\Delta r}r'\\\\\n",
    "y'(r') &=y_s + \\frac{\\Delta y}{\\Delta r}r'\\\\\n",
    "z'(r') &=z_s + \\frac{\\Delta z}{\\Delta r}r',\n",
    "\\end{align}\n",
    "where $\\Delta r$ is the segment length. Here we assume $z$ as the drift direction.\n",
    "The diffused charge distribution is calculated with the following integral:\n",
    "\\begin{equation}\n",
    "\\rho(x,y,z) = \\frac{Q}{\\sqrt{(2\\pi)^3}\\sigma_x\\sigma_y\\sigma_z\\Delta r}\\exp\\left[-\\frac{(x-x_s)^2}{2\\sigma_x^2}-\\frac{(y-y_s)^2}{2\\sigma_y^2}-\\frac{(z-z_s)^2}{2\\sigma_z^2}\\right]\\int^{r'=\\Delta r}_{r'=0}dr'\\exp[-(ar'^2+br')],\n",
    "\\end{equation}\n",
    "where \n",
    "\\begin{align}\n",
    "a &= \\left[\\left(\\frac{\\Delta x}{\\Delta r}\\right)^2\\frac{1}{2\\sigma_x^2} + \\left(\\frac{\\Delta y}{\\Delta r}\\right)^2\\frac{1}{2\\sigma_y^2} + \\left(\\frac{\\Delta z}{\\Delta r}\\right)^2\\frac{1}{2\\sigma_z^2} \\right]\\\\\n",
    "b &= -\\left[\\frac{(x-x_s)}{\\sigma_x^2}\\frac{\\Delta x}{\\Delta r}+\n",
    "\\frac{(y-y_s)}{\\sigma_y^2}\\frac{\\Delta y}{\\Delta r}+\n",
    "\\frac{(z-z_s)}{\\sigma_z^2}\\frac{\\Delta z}{\\Delta r}\\right].\n",
    "\\end{align}\n",
    "\n",
    "The simmetry of the transverse diffusion along the track allows to take a slice on the $xy$ plane and solve the integral once at a fixed $z$ coordinate (e.g. at $z_{m} = (z_s+z_e)/2$) and re-use it at other $z$ coordinates away from the endpoints (where $\\rho(x,y,z)$ varies along $z$ so must be calculated at each $z$). "
   ]
  },
  {
   "cell_type": "code",
   "execution_count": 5,
   "metadata": {},
   "outputs": [],
   "source": [
    "selected_tracks = d_tracks_np[:100]"
   ]
  },
  {
   "cell_type": "code",
   "execution_count": 6,
   "metadata": {},
   "outputs": [],
   "source": [
    "unique_eventIDs = np.unique(selected_tracks[:,i.eventID])\n",
    "event_id_map = np.zeros_like(selected_tracks[:,i.eventID],dtype=np.int32)\n",
    "for iev, evID in enumerate(selected_tracks[:,i.eventID]):\n",
    "    event_id_map[iev] = np.where(evID == unique_eventIDs)[0][0]\n",
    "d_event_id_map = cuda.to_device(event_id_map)"
   ]
  },
  {
   "cell_type": "code",
   "execution_count": 7,
   "metadata": {},
   "outputs": [],
   "source": [
    "MAX_PIXELS = 50\n",
    "MAX_ACTIVE_PIXELS = 20\n",
    "active_pixels = np.zeros(shape=(selected_tracks.shape[0], MAX_ACTIVE_PIXELS, 2))\n",
    "neighboring_pixels = np.full((selected_tracks.shape[0], MAX_PIXELS, 2), -1, dtype=np.int32)\n",
    "d_active_pixels = cuda.to_device(active_pixels)\n",
    "n_pixels_list = np.zeros(shape=(selected_tracks.shape[0]))\n",
    "threadsperblock = 128\n",
    "blockspergrid = ceil(selected_tracks.shape[0] / threadsperblock)\n",
    "pixels_from_track.get_pixels[blockspergrid,threadsperblock](selected_tracks, \n",
    "                                                            d_active_pixels, \n",
    "                                                            neighboring_pixels, \n",
    "                                                            n_pixels_list)"
   ]
  },
  {
   "cell_type": "code",
   "execution_count": 8,
   "metadata": {},
   "outputs": [],
   "source": [
    "# Here we calculate the track start times and the longest signal time\n",
    "max_length = np.array([0])\n",
    "track_starts = np.empty(selected_tracks.shape[0])\n",
    "d_track_starts = cuda.to_device(track_starts)\n",
    "threadsperblock = 128\n",
    "blockspergrid = ceil(selected_tracks.shape[0] / threadsperblock)\n",
    "detsim.time_intervals[blockspergrid,threadsperblock](d_track_starts, max_length,  d_event_id_map, selected_tracks)"
   ]
  },
  {
   "cell_type": "code",
   "execution_count": 9,
   "metadata": {},
   "outputs": [],
   "source": [
    "# Here we calculate the induced current signals\n",
    "signals = np.zeros((selected_tracks.shape[0], \n",
    "                    neighboring_pixels.shape[1], \n",
    "                    max_length[0]), dtype=np.float32)\n",
    "threadsperblock = (4,4,4)\n",
    "blockspergrid_x = ceil(signals.shape[0] / threadsperblock[0])\n",
    "blockspergrid_y = ceil(signals.shape[1] / threadsperblock[1])\n",
    "blockspergrid_z = ceil(signals.shape[2] / threadsperblock[2])\n",
    "blockspergrid = (blockspergrid_x, blockspergrid_y, blockspergrid_z)\n",
    "d_signals = cuda.to_device(signals)\n",
    "\n",
    "detsim.tracks_current[blockspergrid,threadsperblock](d_signals, \n",
    "                                                     neighboring_pixels, \n",
    "                                                     selected_tracks)"
   ]
  },
  {
   "cell_type": "code",
   "execution_count": 10,
   "metadata": {},
   "outputs": [],
   "source": [
    "shapes = neighboring_pixels.shape\n",
    "joined = neighboring_pixels.reshape(shapes[0]*shapes[1],2)\n",
    "unique_pix = np.unique(joined, axis=0)[1:]"
   ]
  },
  {
   "cell_type": "code",
   "execution_count": 11,
   "metadata": {},
   "outputs": [],
   "source": [
    "pixel_index_map = np.full((selected_tracks.shape[0], neighboring_pixels.shape[1]), -1)\n",
    "\n",
    "for itr in range(neighboring_pixels.shape[0]):\n",
    "    for ipix in range(neighboring_pixels.shape[1]):\n",
    "        pID = neighboring_pixels[itr][ipix]\n",
    "        if pID[0] >= 0 and pID[1] >= 0:\n",
    "            try:\n",
    "                index = np.where((unique_pix[:,0] == pID[0]) & (unique_pix[:,1] == pID[1]))[0][0]\n",
    "            except IndexError:\n",
    "                print(\"More pixels than maximum value\")\n",
    "            pixel_index_map[itr,ipix] = index\n",
    "            \n",
    "d_pixel_index_map = cuda.to_device(pixel_index_map)"
   ]
  },
  {
   "cell_type": "code",
   "execution_count": 12,
   "metadata": {},
   "outputs": [],
   "source": [
    "pixels_signals = np.zeros((len(unique_pix),len(consts.time_ticks)*len(unique_eventIDs)))\n",
    "d_pixels_signals = cuda.to_device(pixels_signals)"
   ]
  },
  {
   "cell_type": "code",
   "execution_count": 13,
   "metadata": {},
   "outputs": [],
   "source": [
    "pix_signals = [{} for i in range(len(unique_pix))]\n",
    "for isig in range(d_signals.shape[0]):\n",
    "    for ipix in range(d_signals.shape[1]):\n",
    "        pix_signals[d_pixel_index_map[isig,ipix]][int(d_track_starts[isig]//consts.t_sampling)] = d_signals[isig,ipix]"
   ]
  },
  {
   "cell_type": "code",
   "execution_count": 14,
   "metadata": {},
   "outputs": [],
   "source": [
    "threadsperblock = (4,4,4)\n",
    "blockspergrid_x = ceil(d_signals.shape[0] / threadsperblock[0])\n",
    "blockspergrid_y = ceil(d_signals.shape[1] / threadsperblock[1])\n",
    "blockspergrid_z = ceil(d_signals.shape[2] / threadsperblock[2])\n",
    "blockspergrid = (blockspergrid_x, blockspergrid_y, blockspergrid_z)\n",
    "detsim.sum_pixel_signals[blockspergrid,threadsperblock](d_pixels_signals, \n",
    "                                                        d_signals, \n",
    "                                                        d_track_starts, \n",
    "                                                        d_pixel_index_map)"
   ]
  },
  {
   "cell_type": "code",
   "execution_count": 15,
   "metadata": {},
   "outputs": [],
   "source": [
    "currents = np.sum(d_pixels_signals,axis=1)*consts.t_sampling/consts.e_charge"
   ]
  },
  {
   "cell_type": "code",
   "execution_count": 16,
   "metadata": {},
   "outputs": [],
   "source": [
    "time_ticks = np.linspace(0,len(unique_eventIDs)*consts.time_interval[1]*2,d_pixels_signals.shape[1]+1)"
   ]
  },
  {
   "cell_type": "code",
   "execution_count": 17,
   "metadata": {},
   "outputs": [],
   "source": [
    "integral_list = np.zeros((d_pixels_signals.shape[0], fee.MAX_ADC_VALUES))\n",
    "adc_ticks_list = np.zeros((d_pixels_signals.shape[0], fee.MAX_ADC_VALUES))\n",
    "threadsperblock = 32\n",
    "blockspergrid_x = ceil(d_pixels_signals.shape[0] / threadsperblock)\n",
    "blockspergrid = (blockspergrid_x, blockspergrid_y)\n",
    "fee.get_adc_values[blockspergrid,threadsperblock](d_pixels_signals, \n",
    "                                                  time_ticks, \n",
    "                                                  integral_list, \n",
    "                                                  adc_ticks_list,\n",
    "                                                  0)"
   ]
  },
  {
   "cell_type": "code",
   "execution_count": 18,
   "metadata": {},
   "outputs": [],
   "source": [
    "adc_list = fee.digitize(integral_list)"
   ]
  },
  {
   "cell_type": "code",
   "execution_count": 19,
   "metadata": {},
   "outputs": [
    {
     "data": {
      "text/plain": [
       "<matplotlib.colorbar.Colorbar at 0x2aaaefa46550>"
      ]
     },
     "execution_count": 19,
     "metadata": {},
     "output_type": "execute_result"
    },
    {
     "data": {
      "image/png": "[encoded data removed]",
      "text/plain": [
       "<Figure size 936x576 with 4 Axes>"
      ]
     },
     "metadata": {
      "needs_background": "light"
     },
     "output_type": "display_data"
    }
   ],
   "source": [
    "%matplotlib inline\n",
    "cmap = cm.viridis\n",
    "\n",
    "norm_curr = mpl.colors.LogNorm(vmin=min(currents[currents>0]), vmax=max(currents))\n",
    "m_curr = cm.ScalarMappable(norm=norm_curr, cmap=cmap)\n",
    "\n",
    "cmap = cm.Spectral_r\n",
    "norm = mpl.colors.Normalize(vmin=0, vmax=256)\n",
    "m = cm.ScalarMappable(norm=norm, cmap=cmap)\n",
    "\n",
    "fig, ax = plt.subplots(1,2,figsize=(13,8))\n",
    "plt.subplots_adjust(wspace=0.3)\n",
    "for it,t in enumerate(selected_tracks):\n",
    "    ax[0].plot((t[i.x_start], t[i.x_end]), \n",
    "            (t[i.y_start], t[i.y_end]),\n",
    "            c='r',\n",
    "            zorder=10)\n",
    "    ax[0].scatter((t[i.x_start], t[i.x_end]), \n",
    "               (t[i.y_start], t[i.y_end]),\n",
    "               c='r',\n",
    "               s=10,\n",
    "               zorder=10)\n",
    "    ax[1].plot((t[i.x_start], t[i.x_end]), \n",
    "            (t[i.y_start], t[i.y_end]),\n",
    "            c='r',\n",
    "            zorder=10)\n",
    "    ax[1].scatter((t[i.x_start], t[i.x_end]), \n",
    "               (t[i.y_start], t[i.y_end]),\n",
    "               c='r',\n",
    "               s=10,\n",
    "               zorder=10)\n",
    "\n",
    "for ip, p in enumerate(unique_pix):\n",
    "    x_rect = p[0]*consts.pixel_size[0]+consts.tpc_borders[0][0]\n",
    "    y_rect = p[1]*consts.pixel_size[1]+consts.tpc_borders[1][0]\n",
    "    c = sum(adc_list[ip]-fee.digitize(0))\n",
    "    rect_curr = plt.Rectangle((x_rect, y_rect),\n",
    "                     consts.pixel_size[0], consts.pixel_size[1],\n",
    "                     linewidth=0.3, fc=m_curr.to_rgba(currents[ip]),\n",
    "                     edgecolor='grey')\n",
    "    ax[0].add_patch(rect_curr)\n",
    "    \n",
    "    if c > 0:    \n",
    "        rect = plt.Rectangle((x_rect, y_rect),\n",
    "                             consts.pixel_size[0], consts.pixel_size[1],\n",
    "                             linewidth=0.3, fc=m.to_rgba(c),\n",
    "                             edgecolor='grey', label='Pixel')\n",
    "    else:\n",
    "        rect = plt.Rectangle((x_rect, y_rect),\n",
    "                     consts.pixel_size[0], consts.pixel_size[1],\n",
    "                     linewidth=0.3, fc='none',\n",
    "                     edgecolor='grey', label='Pixel')\n",
    "    ax[1].add_patch(rect)\n",
    "\n",
    "ax[0].set_aspect('equal')\n",
    "ax[1].set_aspect('equal')\n",
    "\n",
    "ax[0].set_title(\"Integrated charge\")\n",
    "ax[1].set_title(\"After digitization\")\n",
    "\n",
    "divider0 = make_axes_locatable(ax[0])\n",
    "cax0 = divider0.append_axes(\"right\", size=\"7%\", pad=0.07)\n",
    "divider1 = make_axes_locatable(ax[1])\n",
    "cax1 = divider1.append_axes(\"right\", size=\"7%\", pad=0.07)\n",
    "fig.colorbar(m_curr, ax=ax[0], cax=cax0, label='Charge')\n",
    "fig.colorbar(m, ax=ax[1], cax=cax1, label='ADC')\n"
   ]
  },
  {
   "cell_type": "code",
   "execution_count": 22,
   "metadata": {},
   "outputs": [
    {
     "name": "stderr",
     "output_type": "stream",
     "text": [
      "Writing to HDF5...: 100%|██████████| 501/501 [00:00<00:00, 25125.80it/s]\n"
     ]
    }
   ],
   "source": [
    "pc = fee.export_to_hdf5(adc_list, adc_ticks_list, unique_pix, \"qc_tpc_10k.h5\")"
   ]
  }
 ],
 "metadata": {
  "kernelspec": {
   "display_name": "NumbaKernel",
   "language": "python",
   "name": "numbaenv"
  },
  "language_info": {
   "codemirror_mode": {
    "name": "ipython",
    "version": 3
   },
   "file_extension": ".py",
   "mimetype": "text/x-python",
   "name": "python",
   "nbconvert_exporter": "python",
   "pygments_lexer": "ipython3",
   "version": "3.7.7"
  }
 },
 "nbformat": 4,
 "nbformat_minor": 4
}
