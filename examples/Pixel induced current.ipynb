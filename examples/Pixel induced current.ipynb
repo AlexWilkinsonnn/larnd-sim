{
 "cells": [
  {
   "cell_type": "markdown",
   "metadata": {},
   "source": [
    "# Pixel induced current\n",
    "In this notebook we load a track dataset and we calculate the current induced on the pixels placed at the anode."
   ]
  },
  {
   "cell_type": "code",
   "execution_count": null,
   "metadata": {},
   "outputs": [],
   "source": [
    "# This is need so you can import larndsim without doing python setup.py install\n",
    "import os,sys,inspect\n",
    "currentdir = os.path.dirname(os.path.abspath(inspect.getfile(inspect.currentframe())))\n",
    "parentdir = os.path.dirname(currentdir)\n",
    "sys.path.insert(0,parentdir) "
   ]
  },
  {
   "cell_type": "code",
   "execution_count": 2,
   "metadata": {},
   "outputs": [
    {
     "name": "stderr",
     "output_type": "stream",
     "text": [
      "INFO:quenching:QUENCHING MODULE PARAMETERS\n",
      "INFO:quenching:TPC parameters\n",
      "Electric field magnitude: 0.5 kV/cm\n",
      "Liquid argon density: 1.38 g/cm^3\n",
      "Box alpha parameter: 0.847\n",
      "Box beta parameter: 0.2061 cm/MeV\n",
      "Birks A_b parameter: 0.8\n",
      "Birks k_b parameter: 0.0486 g/cm^2/MeV\n",
      "\n",
      "INFO:drifting:DRIFTING MODULE PARAMETERS\n",
      "INFO:drifting:Drift velocity: 0.153812 us/cm\n",
      "Longitudinal diffusion coefficient: 0.004 cm^2 / us,\n",
      "Transverse diffusion coefficient: 0.0088 cm\n",
      "Electron lifetime: 10000 us\n",
      "TPC borders: (-15.519 cm, 15.519 cm) x, (-15.519 cm, 15.519 cm) y, (0 cm, 150 cm) z\n",
      "\n",
      "INFO:detsim:DETSIM MODULE PARAMETERS\n",
      "INFO:detsim:TPC parameters\n",
      "Drift velocity: 0.153812 us/cm\n",
      "Time sampling: 0.05 us\n",
      "Time padding: 10 us\n",
      "TPC borders: (-15.519 cm, 15.519 cm) x, (-15.519 cm, 15.519 cm) y, (0 cm, 150 cm) z\n",
      "Sampled points per slice: 50\n",
      "INFO:detsim:Pixel parameters\n",
      "Pixel size: (0.4434 x 0.4434) cm^2\n",
      "\n",
      "INFO:pixels_from_track:PIXEL_FROM_TRACK MODULE PARAMETERS\n",
      "INFO:pixels_from_track:TPC parameters\n",
      "TPC borders: (-15.519 cm, 15.519 cm) x, (-15.519 cm, 15.519 cm) y, (0 cm, 150 cm) z\n",
      "\n",
      "INFO:pixels_from_track:Pixel parameters\n",
      "Pixel size: (0.4434 x 0.4434) cm^2\n",
      "\n",
      "INFO:detsim:DETSIM MODULE PARAMETERS\n",
      "INFO:detsim:TPC parameters\n",
      "Drift velocity: 0.153812 us/cm\n",
      "Time sampling: 0.05 us\n",
      "Time padding: 10 us\n",
      "TPC borders: (-15.519 cm, 15.519 cm) x, (-15.519 cm, 15.519 cm) y, (0 cm, 150 cm) z\n",
      "Sampled points per slice: 50\n",
      "INFO:detsim:Pixel parameters\n",
      "Pixel size: (0.4434 x 0.4434) cm^2\n",
      "\n",
      "INFO:drifting:DRIFTING MODULE PARAMETERS\n",
      "INFO:drifting:Drift velocity: 0.153812 us/cm\n",
      "Longitudinal diffusion coefficient: 0.004 cm^2 / us,\n",
      "Transverse diffusion coefficient: 0.0088 cm\n",
      "Electron lifetime: 10000 us\n",
      "TPC borders: (-15.519 cm, 15.519 cm) x, (-15.519 cm, 15.519 cm) y, (0 cm, 150 cm) z\n",
      "\n",
      "INFO:quenching:QUENCHING MODULE PARAMETERS\n",
      "INFO:quenching:TPC parameters\n",
      "Electric field magnitude: 0.5 kV/cm\n",
      "Liquid argon density: 1.38 g/cm^3\n",
      "Box alpha parameter: 0.847\n",
      "Box beta parameter: 0.2061 cm/MeV\n",
      "Birks A_b parameter: 0.8\n",
      "Birks k_b parameter: 0.0486 g/cm^2/MeV\n",
      "\n",
      "INFO:pixels_from_track:PIXEL_FROM_TRACK MODULE PARAMETERS\n",
      "INFO:pixels_from_track:TPC parameters\n",
      "TPC borders: (-15.519 cm, 15.519 cm) x, (-15.519 cm, 15.519 cm) y, (0 cm, 150 cm) z\n",
      "\n",
      "INFO:pixels_from_track:Pixel parameters\n",
      "Pixel size: (0.4434 x 0.4434) cm^2\n",
      "\n"
     ]
    }
   ],
   "source": [
    "from larndsim import consts, quenching, drifting, detsim, pixels_from_track, fee\n",
    "from larndsim import indeces as i\n",
    "\n",
    "import importlib\n",
    "importlib.reload(detsim)\n",
    "importlib.reload(drifting)\n",
    "importlib.reload(quenching)\n",
    "importlib.reload(consts)\n",
    "importlib.reload(pixels_from_track)\n",
    "importlib.reload(fee)\n",
    "\n",
    "import numpy as np\n",
    "import matplotlib.pyplot as plt\n",
    "import matplotlib as mpl\n",
    "import matplotlib.cm as cm\n",
    "from mpl_toolkits.axes_grid1 import make_axes_locatable\n",
    "\n",
    "import pickle\n",
    "import numpy as np\n",
    "import numba as nb\n",
    "import pandas as pd\n",
    "\n",
    "from numba import cuda\n",
    "from math import ceil, sqrt, pi, exp, erf\n",
    "from time import time"
   ]
  },
  {
   "cell_type": "markdown",
   "metadata": {},
   "source": [
    "Here we load the dataset with the tracks and we store the column cols corresponding to the each variable."
   ]
  },
  {
   "cell_type": "code",
   "execution_count": 3,
   "metadata": {},
   "outputs": [],
   "source": [
    "tracks_np = pickle.load(open('argoncube_tracks.p', 'rb'))\n",
    "x_start_mask = (tracks_np[:,i.x_start] < consts.tpc_borders[0][1]) & (tracks_np[:,i.x_start] > consts.tpc_borders[0][0])\n",
    "x_end_mask = (tracks_np[:,i.x_end] < consts.tpc_borders[1][1]) & (tracks_np[:,i.x_end] > consts.tpc_borders[1][0])\n",
    "y_start_mask = (tracks_np[:,i.y_start] < consts.tpc_borders[1][1]) & (tracks_np[:,i.y_start] > consts.tpc_borders[1][0])\n",
    "y_end_mask = (tracks_np[:,i.y_end] < consts.tpc_borders[1][1]) & (tracks_np[:,i.y_end] > consts.tpc_borders[1][0])\n",
    "z_start_mask = (tracks_np[:,i.z_start] < consts.tpc_borders[2][1]) & (tracks_np[:,i.z_start] > consts.tpc_borders[2][0])\n",
    "z_end_mask = (tracks_np[:,i.z_end] < consts.tpc_borders[2][1]) & (tracks_np[:,i.z_end] > consts.tpc_borders[2][0])\n",
    "tracks_np = tracks_np[x_start_mask&x_end_mask&y_start_mask&y_end_mask]\n",
    "d_tracks_np = cuda.to_device(tracks_np)"
   ]
  },
  {
   "cell_type": "code",
   "execution_count": 4,
   "metadata": {},
   "outputs": [],
   "source": [
    "threadsperblock = 256\n",
    "blockspergrid = ceil(tracks_np.shape[0] / threadsperblock)\n",
    "\n",
    "quenching.quench[threadsperblock,blockspergrid](d_tracks_np, consts.box)\n",
    "drifting.drift[threadsperblock,blockspergrid](d_tracks_np)"
   ]
  },
  {
   "cell_type": "code",
   "execution_count": 5,
   "metadata": {},
   "outputs": [],
   "source": [
    "tracks_np = d_tracks_np.copy_to_host()"
   ]
  },
  {
   "cell_type": "markdown",
   "metadata": {},
   "source": [
    "## Charge distribution calculation\n",
    "Here we calculate the current induced by each track on the pixels, taking into account longitudinal and transverse diffusion. The track segment is parametrized as:\n",
    "\\begin{align}\n",
    "x'(r') &=x_s + \\frac{\\Delta x}{\\Delta r}r'\\\\\n",
    "y'(r') &=y_s + \\frac{\\Delta y}{\\Delta r}r'\\\\\n",
    "z'(r') &=z_s + \\frac{\\Delta z}{\\Delta r}r',\n",
    "\\end{align}\n",
    "where $\\Delta r$ is the segment length. Here we assume $z$ as the drift direction.\n",
    "The diffused charge distribution is calculated with the following integral:\n",
    "\\begin{equation}\n",
    "\\rho(x,y,z) = \\frac{Q}{\\sqrt{(2\\pi)^3}\\sigma_x\\sigma_y\\sigma_z\\Delta r}\\exp\\left[-\\frac{(x-x_s)^2}{2\\sigma_x^2}-\\frac{(y-y_s)^2}{2\\sigma_y^2}-\\frac{(z-z_s)^2}{2\\sigma_z^2}\\right]\\int^{r'=\\Delta r}_{r'=0}dr'\\exp[-(ar'^2+br')],\n",
    "\\end{equation}\n",
    "where \n",
    "\\begin{align}\n",
    "a &= \\left[\\left(\\frac{\\Delta x}{\\Delta r}\\right)^2\\frac{1}{2\\sigma_x^2} + \\left(\\frac{\\Delta y}{\\Delta r}\\right)^2\\frac{1}{2\\sigma_y^2} + \\left(\\frac{\\Delta z}{\\Delta r}\\right)^2\\frac{1}{2\\sigma_z^2} \\right]\\\\\n",
    "b &= -\\left[\\frac{(x-x_s)}{\\sigma_x^2}\\frac{\\Delta x}{\\Delta r}+\n",
    "\\frac{(y-y_s)}{\\sigma_y^2}\\frac{\\Delta y}{\\Delta r}+\n",
    "\\frac{(z-z_s)}{\\sigma_z^2}\\frac{\\Delta z}{\\Delta r}\\right].\n",
    "\\end{align}\n",
    "\n",
    "The simmetry of the transverse diffusion along the track allows to take a slice on the $xy$ plane and solve the integral once at a fixed $z$ coordinate (e.g. at $z_{m} = (z_s+z_e)/2$) and re-use it at other $z$ coordinates away from the endpoints (where $\\rho(x,y,z)$ varies along $z$ so must be calculated at each $z$). "
   ]
  },
  {
   "cell_type": "code",
   "execution_count": 6,
   "metadata": {},
   "outputs": [],
   "source": [
    "selected_tracks = d_tracks_np\n",
    "# Here we find the pixels involved \n",
    "active_pixels = np.zeros(shape=(selected_tracks.shape[0], 15, 2))\n",
    "neighboring_pixels = np.full((selected_tracks.shape[0], 50, 2), -1, dtype=np.int32)\n",
    "d_neighboring_pixels = cuda.to_device(neighboring_pixels)\n",
    "d_active_pixels = cuda.to_device(active_pixels)\n",
    "n_pixels_list = np.zeros(shape=(selected_tracks.shape[0]))\n",
    "threadsperblock = 128\n",
    "blockspergrid = ceil(selected_tracks.shape[0] / threadsperblock)\n",
    "pixels_from_track.get_pixels[blockspergrid,threadsperblock](selected_tracks, \n",
    "                                                            d_active_pixels, \n",
    "                                                            d_neighboring_pixels, \n",
    "                                                            n_pixels_list)\n",
    "\n",
    "# Here we calculate the track start times and the longest signal time\n",
    "max_length = np.array([0])\n",
    "track_starts = np.empty(selected_tracks.shape[0])\n",
    "d_track_starts = cuda.to_device(track_starts)\n",
    "blockspergrid = ceil(selected_tracks.shape[0] / threadsperblock)\n",
    "detsim.time_intervals[blockspergrid,threadsperblock](d_track_starts, max_length, selected_tracks)\n",
    "\n",
    "# Here we calculate the induced current signals\n",
    "signals = np.zeros((selected_tracks.shape[0], \n",
    "                    neighboring_pixels.shape[1], \n",
    "                    max_length[0]), dtype=np.float32)\n",
    "threadsperblock = (4,4,4)\n",
    "blockspergrid_x = ceil(signals.shape[0] / threadsperblock[0])\n",
    "blockspergrid_y = ceil(signals.shape[1] / threadsperblock[1])\n",
    "blockspergrid_z = ceil(signals.shape[2] / threadsperblock[2])\n",
    "blockspergrid = (blockspergrid_x, blockspergrid_y, blockspergrid_z)\n",
    "d_signals = cuda.to_device(signals)\n",
    "\n",
    "detsim.tracks_current[blockspergrid,threadsperblock](d_signals, \n",
    "                                                     d_neighboring_pixels, \n",
    "                                                     selected_tracks)"
   ]
  },
  {
   "cell_type": "code",
   "execution_count": null,
   "metadata": {},
   "outputs": [],
   "source": [
    "shapes = d_neighboring_pixels.shape\n",
    "joined = d_neighboring_pixels.reshape(shapes[0]*shapes[1],2)\n",
    "unique_pix = np.unique(joined, axis=0)[1:]"
   ]
  },
  {
   "cell_type": "code",
   "execution_count": null,
   "metadata": {},
   "outputs": [],
   "source": [
    "pixel_index_map = np.full((selected_tracks.shape[0], 50), -1)\n",
    "\n",
    "for itr in range(d_neighboring_pixels.shape[0]):\n",
    "    for ipix in range(d_neighboring_pixels.shape[1]):\n",
    "        pID = d_neighboring_pixels[itr][ipix]\n",
    "        if pID[0] >= 0 and pID[1] >= 0:\n",
    "            index = np.where((unique_pix[:,0] == pID[0]) & (unique_pix[:,1] == pID[1]))[0][0]\n",
    "            pixel_index_map[itr,ipix] = index\n",
    "            \n",
    "d_pixel_index_map = cuda.to_device(pixel_index_map)"
   ]
  },
  {
   "cell_type": "code",
   "execution_count": null,
   "metadata": {},
   "outputs": [],
   "source": [
    "pixels_signals = np.zeros((len(unique_pix),len(consts.time_ticks)))\n",
    "d_pixels_signals = cuda.to_device(pixels_signals)"
   ]
  },
  {
   "cell_type": "code",
   "execution_count": null,
   "metadata": {},
   "outputs": [],
   "source": [
    "threadsperblock = (4,4,4)\n",
    "blockspergrid_x = ceil(d_signals.shape[0] / threadsperblock[0])\n",
    "blockspergrid_y = ceil(d_signals.shape[1] / threadsperblock[1])\n",
    "blockspergrid_z = ceil(d_signals.shape[2] / threadsperblock[2])\n",
    "blockspergrid = (blockspergrid_x, blockspergrid_y, blockspergrid_z)\n",
    "detsim.sum_pixel_signals[blockspergrid,threadsperblock](d_pixels_signals, \n",
    "                                                        d_signals, \n",
    "                                                        d_track_starts, \n",
    "                                                        d_pixel_index_map)"
   ]
  },
  {
   "cell_type": "code",
   "execution_count": null,
   "metadata": {},
   "outputs": [],
   "source": [
    "currents = np.sum(d_pixels_signals,axis=1)*consts.t_sampling/consts.e_charge"
   ]
  },
  {
   "cell_type": "code",
   "execution_count": null,
   "metadata": {},
   "outputs": [],
   "source": [
    "integral_list = np.zeros((d_pixels_signals.shape[0], fee.MAX_ADC_VALUES))\n",
    "adc_ticks_list = np.zeros((d_pixels_signals.shape[0], fee.MAX_ADC_VALUES))\n",
    "\n",
    "threadsperblock = 128\n",
    "blockspergrid = ceil(d_pixels_signals.shape[0] / threadsperblock)\n",
    "fee.get_adc_values[blockspergrid,threadsperblock](d_pixels_signals, consts.time_ticks, integral_list, adc_ticks_list)"
   ]
  },
  {
   "cell_type": "code",
   "execution_count": null,
   "metadata": {},
   "outputs": [],
   "source": [
    "adc_list = fee.digitize(integral_list)"
   ]
  },
  {
   "cell_type": "code",
   "execution_count": null,
   "metadata": {},
   "outputs": [],
   "source": [
    "cmap = cm.viridis\n",
    "\n",
    "norm_curr = mpl.colors.LogNorm(vmin=min(currents[currents>0]), vmax=max(currents))\n",
    "m_curr = cm.ScalarMappable(norm=norm_curr, cmap=cmap)\n",
    "\n",
    "cmap = cm.Spectral_r\n",
    "norm = mpl.colors.Normalize(vmin=np.min(adc_list[adc_list>0]), vmax=np.max(adc_list))\n",
    "m = cm.ScalarMappable(norm=norm, cmap=cmap)\n",
    "\n",
    "fig, ax = plt.subplots(1,2,figsize=(10,8),constrained_layout=True)\n",
    "\n",
    "for it,t in enumerate(selected_tracks):\n",
    "    ax[0].plot((t[i.x_start], t[i.x_end]), \n",
    "            (t[i.y_start], t[i.y_end]),\n",
    "            c='r',\n",
    "            zorder=10)\n",
    "    ax[0].scatter((t[i.x_start], t[i.x_end]), \n",
    "               (t[i.y_start], t[i.y_end]),\n",
    "               c='r',\n",
    "               s=10,\n",
    "               zorder=10)\n",
    "    ax[1].plot((t[i.x_start], t[i.x_end]), \n",
    "            (t[i.y_start], t[i.y_end]),\n",
    "            c='r',\n",
    "            zorder=10)\n",
    "    ax[1].scatter((t[i.x_start], t[i.x_end]), \n",
    "               (t[i.y_start], t[i.y_end]),\n",
    "               c='r',\n",
    "               s=10,\n",
    "               zorder=10)\n",
    "\n",
    "for ip, p in enumerate(unique_pix):\n",
    "    x_rect = p[0]*consts.pixel_size[0]+consts.tpc_borders[0][0]\n",
    "    y_rect = p[1]*consts.pixel_size[1]+consts.tpc_borders[1][0]\n",
    "    \n",
    "    c = sum(adc_list[ip])\n",
    "    \n",
    "    rect_curr = plt.Rectangle((x_rect, y_rect),\n",
    "                     consts.pixel_size[0], consts.pixel_size[1],\n",
    "                     linewidth=0.3, fc=m_curr.to_rgba(currents[ip]),\n",
    "                     edgecolor='grey')\n",
    "    ax[0].add_patch(rect_curr)\n",
    "    \n",
    "    if c > 0:\n",
    "        rect = plt.Rectangle((x_rect, y_rect),\n",
    "                             consts.pixel_size[0], consts.pixel_size[1],\n",
    "                             linewidth=0.3, fc=m.to_rgba(c),\n",
    "                             edgecolor='grey', label='Pixel')\n",
    "        ax[1].add_patch(rect)\n",
    "\n",
    "ax[0].set_aspect('equal')\n",
    "ax[1].set_aspect('equal')\n",
    "ax[0].set_title(\"Integrated charge\")\n",
    "ax[1].set_title(\"After digitization\")\n",
    "divider0 = make_axes_locatable(ax[0])\n",
    "cax0 = divider0.append_axes(\"right\", size=\"7%\", pad=0.07)\n",
    "divider1 = make_axes_locatable(ax[1])\n",
    "cax1 = divider1.append_axes(\"right\", size=\"7%\", pad=0.07)\n",
    "\n",
    "fig.colorbar(m_curr, ax=ax[0], cax=cax0, label=\"Integrated charge [# electrons]\")\n",
    "fig.colorbar(m, ax=ax[1], cax=cax1, label=\"ADC count\")"
   ]
  },
  {
   "cell_type": "code",
   "execution_count": null,
   "metadata": {},
   "outputs": [],
   "source": [
    "fig, ax = plt.subplots(1,1, constrained_layout=True)\n",
    "pixelID = detsim.pixel_from_coordinates(2,12.5, consts.n_pixels)\n",
    "\n",
    "index = np.where((unique_pix[:,0] == pixelID[0]) & (unique_pix[:,1] == pixelID[1]))[0][0]\n",
    "ax.plot(consts.time_ticks,d_pixels_signals[index].copy_to_host()/(1e3*consts.e_charge))\n",
    "\n",
    "ax.set_title(\"Pixel (%i,%i) at (%g, %g)\" % (pixelID[0], pixelID[1], \n",
    "                                            *consts.get_pixel_coordinates(pixelID)))\n",
    "ax.set_xlabel(r\"Time [$\\mathrm{\\mu}$s]\")\n",
    "\n",
    "ticks = adc_ticks_list[index][adc_ticks_list[index] > 0]\n",
    "for adcs in ticks:\n",
    "    ax.axvline(x=adcs,lw=1,c='black')\n",
    "    \n",
    "ax.axhline(y=fee.DISCRIMINATION_THRESHOLD/(1e3*consts.e_charge),c='k',ls='--')\n",
    "ax.set_xlim(np.min(ticks)-20,np.max(ticks)+20)\n",
    "ax.set_ylabel(\"Induced charge [ke$^{-}$]\")"
   ]
  },
  {
   "cell_type": "code",
   "execution_count": null,
   "metadata": {},
   "outputs": [],
   "source": [
    "pc = fee.export_to_hdf5(adc_list, adc_ticks_list, unique_pix, \"test.h5\")"
   ]
  }
 ],
 "metadata": {
  "kernelspec": {
   "display_name": "NumbaKernel",
   "language": "python",
   "name": "numbaenv"
  },
  "language_info": {
   "codemirror_mode": {
    "name": "ipython",
    "version": 3
   },
   "file_extension": ".py",
   "mimetype": "text/x-python",
   "name": "python",
   "nbconvert_exporter": "python",
   "pygments_lexer": "ipython3",
   "version": "3.7.7"
  }
 },
 "nbformat": 4,
 "nbformat_minor": 4
}
