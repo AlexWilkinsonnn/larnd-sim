{
 "cells": [
  {
   "cell_type": "markdown",
   "metadata": {},
   "source": [
    "# Pixel induced current\n",
    "In this notebook we load a track dataset and we calculate the current induced on the pixels placed at the anode."
   ]
  },
  {
   "cell_type": "code",
   "execution_count": 1,
   "metadata": {},
   "outputs": [],
   "source": [
    "# This is need so you can import larndsim without doing python setup.py install\n",
    "import os,sys,inspect\n",
    "currentdir = os.path.dirname(os.path.abspath(inspect.getfile(inspect.currentframe())))\n",
    "parentdir = os.path.dirname(currentdir)\n",
    "sys.path.insert(0,parentdir) "
   ]
  },
  {
   "cell_type": "code",
   "execution_count": 2,
   "metadata": {},
   "outputs": [],
   "source": [
    "from larndsim import consts, quenching, drifting\n",
    "import importlib\n",
    "importlib.reload(drifting)\n",
    "importlib.reload(quenching)\n",
    "\n",
    "import numpy as np\n",
    "import matplotlib.pyplot as plt\n",
    "import matplotlib as mpl\n",
    "import matplotlib.cm as cm\n",
    "from mpl_toolkits.mplot3d import Axes3D\n",
    "import mpl_toolkits.mplot3d.art3d as art3d\n",
    "\n",
    "import pickle\n",
    "import numpy as np\n",
    "import numba as nb\n",
    "from tqdm import tqdm_notebook as progress_bar\n",
    "import pandas as pd\n",
    "import time"
   ]
  },
  {
   "cell_type": "markdown",
   "metadata": {},
   "source": [
    "Here we load the dataset with the tracks and we store the column cols corresponding to the each variable."
   ]
  },
  {
   "cell_type": "code",
   "execution_count": 3,
   "metadata": {},
   "outputs": [],
   "source": [
    "tracks_dict = pickle.load(open('edepsimDataset.p', 'rb'))\n",
    "tracks = pd.DataFrame.from_dict(tracks_dict)\n",
    "tracks['t'] = 0.\n",
    "tracks['t_start'] = 0.\n",
    "tracks['t_end'] = 0.\n",
    "tracks['x_start'] = tracks_dict['z_start'] \n",
    "tracks['z_start'] = tracks_dict['x_start'] \n",
    "tracks['x_end'] = tracks_dict['z_end'] \n",
    "tracks['z_end'] = tracks_dict['x_end'] \n",
    "\n",
    "tracks['z_start'] /= 1e2\n",
    "tracks['z_end'] /= 1e2\n",
    "tracks['y_start'] /= 1e2\n",
    "tracks['y_end'] /= 1e2\n",
    "tracks['x_start'] /= 1e2\n",
    "tracks['x_end'] /= 1e2\n",
    "\n",
    "tracks['dx'] = np.sqrt(pow(tracks['x_end']-tracks['x_start'], 2) +\n",
    "                    pow(tracks['y_end']-tracks['y_start'], 2) +\n",
    "                    pow(tracks['z_end']-tracks['z_start'], 2))\n",
    "tracks['x'] = (tracks['x_end']+tracks['x_start'])/2\n",
    "tracks['y'] = (tracks['y_end']+tracks['y_start'])/2\n",
    "tracks['z'] = (tracks['z_end']+tracks['z_start'])/2\n",
    "tracks['dE'] = np.abs(tracks['dE'])*1e3\n",
    "tracks['dEdx'] = tracks['dE']/tracks['dx']\n",
    "tracks['NElectrons'] = 0.\n",
    "tracks['longDiff'] = 0.\n",
    "tracks['tranDiff'] = 0.\n",
    "\n",
    "tracks_np = tracks.to_numpy()\n",
    "cols = nb.typed.Dict()\n",
    "for i, c, in enumerate(tracks.columns):\n",
    "    cols[c] = i\n",
    "\n",
    "quenching.Quench(tracks_np, cols, mode=\"box\")\n",
    "drifting.Drift(tracks_np, cols)"
   ]
  },
  {
   "cell_type": "code",
   "execution_count": 4,
   "metadata": {},
   "outputs": [
    {
     "output_type": "execute_result",
     "data": {
      "text/plain": "<module 'larndsim.detsim' from '/Users/soleti/dune/larnd-sim/larndsim/detsim.py'>"
     },
     "metadata": {},
     "execution_count": 4
    }
   ],
   "source": [
    "import larndsim.detsim as detsim\n",
    "importlib.reload(detsim)"
   ]
  },
  {
   "cell_type": "code",
   "execution_count": 5,
   "metadata": {},
   "outputs": [],
   "source": [
    "n_pixels = 333\n",
    "x_pixel_size = (consts.tpc_borders[0][1] - consts.tpc_borders[0][0]) / n_pixels\n",
    "y_pixel_size = (consts.tpc_borders[1][1] - consts.tpc_borders[1][0]) / n_pixels\n",
    "pixel_size = (x_pixel_size, y_pixel_size)"
   ]
  },
  {
   "cell_type": "markdown",
   "metadata": {},
   "source": [
    "## Charge distribution calculation\n",
    "Here we calculate the current induced by each track on the pixels, taking into account longitudinal and transverse diffusion. The track segment is parametrized as:\n",
    "\\begin{align}\n",
    "x'(r') &=x_s + \\frac{\\Delta x}{\\Delta r}r'\\\\\n",
    "y'(r') &=y_s + \\frac{\\Delta y}{\\Delta r}r'\\\\\n",
    "z'(r') &=z_s + \\frac{\\Delta z}{\\Delta r}r',\n",
    "\\end{align}\n",
    "where $\\Delta r$ is the segment length. Here we assume $z$ as the drift direction.\n",
    "The diffused charge distribution is calculated with the following integral:\n",
    "\\begin{equation}\n",
    "\\rho(x,y,z) = \\frac{Q}{\\sqrt{(2\\pi)^3}\\sigma_x\\sigma_y\\sigma_z\\Delta r}\\exp\\left[-\\frac{(x-x_s)^2}{2\\sigma_x^2}-\\frac{(y-y_s)^2}{2\\sigma_y^2}-\\frac{(z-z_s)^2}{2\\sigma_z^2}\\right]\\int^{r'=\\Delta r}_{r'=0}dr'\\exp[-(ar'^2+br')],\n",
    "\\end{equation}\n",
    "where \n",
    "\\begin{align}\n",
    "a &= \\left[\\left(\\frac{\\Delta x}{\\Delta r}\\right)^2\\frac{1}{2\\sigma_x^2} + \\left(\\frac{\\Delta y}{\\Delta r}\\right)^2\\frac{1}{2\\sigma_y^2} + \\left(\\frac{\\Delta z}{\\Delta r}\\right)^2\\frac{1}{2\\sigma_z^2} \\right]\\\\\n",
    "b &= -\\left[\\frac{(x-x_s)}{\\sigma_x^2}\\frac{\\Delta x}{\\Delta r}+\n",
    "\\frac{(y-y_s)}{\\sigma_y^2}\\frac{\\Delta y}{\\Delta r}+\n",
    "\\frac{(z-z_s)}{\\sigma_z^2}\\frac{\\Delta z}{\\Delta r}\\right].\n",
    "\\end{align}\n",
    "\n",
    "The simmetry of the transverse diffusion along the track allows to take a slice on the $xy$ plane and solve the integral once at a fixed $z$ coordinate (e.g. at $z_{m} = (z_s+z_e)/2$) and re-use it at other $z$ coordinates away from the endpoints (where $\\rho(x,y,z)$ varies along $z$ so must be calculated at each $z$). "
   ]
  },
  {
   "cell_type": "code",
   "execution_count": 6,
   "metadata": {
    "tags": []
   },
   "outputs": [],
   "source": [
    "selected_tracks = tracks_np[:100]\n",
    "pixelTrackIDs = detsim.pixelID_track(selected_tracks, cols, (x_pixel_size, y_pixel_size))\n",
    "pIDs_array = detsim.list2array(pixelTrackIDs)\n",
    "\n",
    "t_sampling = 0.5\n",
    "slice_size = 20\n",
    "anode_t = np.linspace(consts.timeInterval[0], \n",
    "                      consts.timeInterval[1], \n",
    "                      int(round(consts.timeInterval[1]-consts.timeInterval[0])/t_sampling))\n",
    "active_pixels = detsim.tracks_current(selected_tracks, pIDs_array, cols, pixel_size, t_sampling, slice_size)"
   ]
  },
  {
   "cell_type": "code",
   "execution_count": 7,
   "metadata": {
    "tags": []
   },
   "outputs": [
    {
     "output_type": "error",
     "ename": "TypingError",
     "evalue": "Failed in nopython mode pipeline (step: nopython frontend)\n\u001b[1m\u001b[1m\u001b[1m\u001b[1mFailed in nopython mode pipeline (step: nopython frontend)\n\u001b[1m\u001b[1mNo implementation of function Function(<built-in function contains>) found for signature:\n \n >>> contains(DictType[UniTuple(int64 x 2),ListType[Tuple(float64, float64, array(float64, 1d, C))]], array(float64, 1d, C))\n \nThere are 16 candidate implementations:\n\u001b[1m   - Of which 14 did not match due to:\n   Overload of function 'contains': File: <numerous>: Line N/A.\n     With argument(s): '(DictType[UniTuple(int64 x 2),ListType[Tuple(float64, float64, array(float64, 1d, C))]], array(float64, 1d, C))':\u001b[0m\n\u001b[1m    No match.\u001b[0m\n\u001b[1m   - Of which 2 did not match due to:\n   Overload in function 'impl_contains': File: numba/typed/dictobject.py: Line 799.\n     With argument(s): '(DictType[UniTuple(int64 x 2),ListType[Tuple(float64, float64, array(float64, 1d, C))]], array(float64, 1d, C))':\u001b[0m\n\u001b[1m    Rejected as the implementation raised a specific error:\n      LoweringError: Failed in nopython mode pipeline (step: nopython mode backend)\n    \u001b[1m\u001b[1mCannot cast array(float64, 1d, C) to UniTuple(int64 x 2): %\".35\" = load {i8*, i8*, i64, i64, double*, [1 x i64], [1 x i64]}, {i8*, i8*, i64, i64, double*, [1 x i64], [1 x i64]}* %\"k\"\n    \u001b[1m\n    File \"../../../../../usr/local/lib/python3.8/site-packages/numba/typed/dictobject.py\", line 807:\u001b[0m\n    \u001b[1m    def impl(d, k):\n    \u001b[1m        k = _cast(k, keyty)\n    \u001b[0m        \u001b[1m^\u001b[0m\u001b[0m\n    \u001b[0m\n    \u001b[0m\u001b[1mDuring: lowering \"$8call_function.3 = call $2load_global.0(k, $6load_deref.2, func=$2load_global.0, args=[Var(k, dictobject.py:807), Var($6load_deref.2, dictobject.py:807)], kws=(), vararg=None)\" at /usr/local/lib/python3.8/site-packages/numba/typed/dictobject.py (807)\u001b[0m\u001b[0m\n  raised from /usr/local/lib/python3.8/site-packages/numba/core/utils.py:81\n\u001b[0m\n\u001b[0m\u001b[1mDuring: typing of intrinsic-call at /Users/soleti/dune/larnd-sim/larndsim/detsim.py (309)\u001b[0m\n\u001b[1m\nFile \"../larndsim/detsim.py\", line 309:\u001b[0m\n\u001b[1mdef track_current(track, pixels, cols, slice_size, t_sampling, active_pixels, pixel_size, time_padding=20):\n    <source elided>\n        # t = (pID[0], pID[1])\n\u001b[1m        if pID in active_pixels:\n\u001b[0m        \u001b[1m^\u001b[0m\u001b[0m\n\n\u001b[0m\u001b[1mDuring: resolving callee type: type(CPUDispatcher(<function track_current at 0x12dcbcaf0>))\u001b[0m\n\u001b[0m\u001b[1mDuring: typing of call at /Users/soleti/dune/larnd-sim/larndsim/detsim.py (338)\n\u001b[0m\n\u001b[0m\u001b[1mDuring: resolving callee type: type(CPUDispatcher(<function track_current at 0x12dcbcaf0>))\u001b[0m\n\u001b[0m\u001b[1mDuring: typing of call at /Users/soleti/dune/larnd-sim/larndsim/detsim.py (338)\n\u001b[0m\n\u001b[1m\nFile \"../larndsim/detsim.py\", line 338:\u001b[0m\n\u001b[1mdef tracks_current(tracks, pIDs_array, cols, pixel_size, t_sampling=1, slice_size=20):\n    <source elided>\n        pID = pIDs_array[i]\n\u001b[1m        track_current(track, pID, cols, slice_size, t_sampling, active_pixels, pixel_size)\n\u001b[0m        \u001b[1m^\u001b[0m\u001b[0m\n",
     "traceback": [
      "\u001b[0;31m---------------------------------------------------------------------------\u001b[0m",
      "\u001b[0;31mTypingError\u001b[0m                               Traceback (most recent call last)",
      "\u001b[0;32m<ipython-input-7-8fd480364f6c>\u001b[0m in \u001b[0;36m<module>\u001b[0;34m\u001b[0m\n\u001b[0;32m----> 1\u001b[0;31m \u001b[0mget_ipython\u001b[0m\u001b[0;34m(\u001b[0m\u001b[0;34m)\u001b[0m\u001b[0;34m.\u001b[0m\u001b[0mrun_cell_magic\u001b[0m\u001b[0;34m(\u001b[0m\u001b[0;34m'timeit'\u001b[0m\u001b[0;34m,\u001b[0m \u001b[0;34m''\u001b[0m\u001b[0;34m,\u001b[0m \u001b[0;34m'active_pixels = detsim.tracks_current(selected_tracks, pIDs_array, cols, pixel_size, t_sampling, slice_size)\\n'\u001b[0m\u001b[0;34m)\u001b[0m\u001b[0;34m\u001b[0m\u001b[0;34m\u001b[0m\u001b[0m\n\u001b[0m",
      "\u001b[0;32m/usr/local/lib/python3.8/site-packages/IPython/core/interactiveshell.py\u001b[0m in \u001b[0;36mrun_cell_magic\u001b[0;34m(self, magic_name, line, cell)\u001b[0m\n\u001b[1;32m   2369\u001b[0m             \u001b[0;32mwith\u001b[0m \u001b[0mself\u001b[0m\u001b[0;34m.\u001b[0m\u001b[0mbuiltin_trap\u001b[0m\u001b[0;34m:\u001b[0m\u001b[0;34m\u001b[0m\u001b[0;34m\u001b[0m\u001b[0m\n\u001b[1;32m   2370\u001b[0m                 \u001b[0margs\u001b[0m \u001b[0;34m=\u001b[0m \u001b[0;34m(\u001b[0m\u001b[0mmagic_arg_s\u001b[0m\u001b[0;34m,\u001b[0m \u001b[0mcell\u001b[0m\u001b[0;34m)\u001b[0m\u001b[0;34m\u001b[0m\u001b[0;34m\u001b[0m\u001b[0m\n\u001b[0;32m-> 2371\u001b[0;31m                 \u001b[0mresult\u001b[0m \u001b[0;34m=\u001b[0m \u001b[0mfn\u001b[0m\u001b[0;34m(\u001b[0m\u001b[0;34m*\u001b[0m\u001b[0margs\u001b[0m\u001b[0;34m,\u001b[0m \u001b[0;34m**\u001b[0m\u001b[0mkwargs\u001b[0m\u001b[0;34m)\u001b[0m\u001b[0;34m\u001b[0m\u001b[0;34m\u001b[0m\u001b[0m\n\u001b[0m\u001b[1;32m   2372\u001b[0m             \u001b[0;32mreturn\u001b[0m \u001b[0mresult\u001b[0m\u001b[0;34m\u001b[0m\u001b[0;34m\u001b[0m\u001b[0m\n\u001b[1;32m   2373\u001b[0m \u001b[0;34m\u001b[0m\u001b[0m\n",
      "\u001b[0;32m<decorator-gen-60>\u001b[0m in \u001b[0;36mtimeit\u001b[0;34m(self, line, cell, local_ns)\u001b[0m\n",
      "\u001b[0;32m/usr/local/lib/python3.8/site-packages/IPython/core/magic.py\u001b[0m in \u001b[0;36m<lambda>\u001b[0;34m(f, *a, **k)\u001b[0m\n\u001b[1;32m    185\u001b[0m     \u001b[0;31m# but it's overkill for just that one bit of state.\u001b[0m\u001b[0;34m\u001b[0m\u001b[0;34m\u001b[0m\u001b[0;34m\u001b[0m\u001b[0m\n\u001b[1;32m    186\u001b[0m     \u001b[0;32mdef\u001b[0m \u001b[0mmagic_deco\u001b[0m\u001b[0;34m(\u001b[0m\u001b[0marg\u001b[0m\u001b[0;34m)\u001b[0m\u001b[0;34m:\u001b[0m\u001b[0;34m\u001b[0m\u001b[0;34m\u001b[0m\u001b[0m\n\u001b[0;32m--> 187\u001b[0;31m         \u001b[0mcall\u001b[0m \u001b[0;34m=\u001b[0m \u001b[0;32mlambda\u001b[0m \u001b[0mf\u001b[0m\u001b[0;34m,\u001b[0m \u001b[0;34m*\u001b[0m\u001b[0ma\u001b[0m\u001b[0;34m,\u001b[0m \u001b[0;34m**\u001b[0m\u001b[0mk\u001b[0m\u001b[0;34m:\u001b[0m \u001b[0mf\u001b[0m\u001b[0;34m(\u001b[0m\u001b[0;34m*\u001b[0m\u001b[0ma\u001b[0m\u001b[0;34m,\u001b[0m \u001b[0;34m**\u001b[0m\u001b[0mk\u001b[0m\u001b[0;34m)\u001b[0m\u001b[0;34m\u001b[0m\u001b[0;34m\u001b[0m\u001b[0m\n\u001b[0m\u001b[1;32m    188\u001b[0m \u001b[0;34m\u001b[0m\u001b[0m\n\u001b[1;32m    189\u001b[0m         \u001b[0;32mif\u001b[0m \u001b[0mcallable\u001b[0m\u001b[0;34m(\u001b[0m\u001b[0marg\u001b[0m\u001b[0;34m)\u001b[0m\u001b[0;34m:\u001b[0m\u001b[0;34m\u001b[0m\u001b[0;34m\u001b[0m\u001b[0m\n",
      "\u001b[0;32m/usr/local/lib/python3.8/site-packages/IPython/core/magics/execution.py\u001b[0m in \u001b[0;36mtimeit\u001b[0;34m(self, line, cell, local_ns)\u001b[0m\n\u001b[1;32m   1161\u001b[0m             \u001b[0;32mfor\u001b[0m \u001b[0mindex\u001b[0m \u001b[0;32min\u001b[0m \u001b[0mrange\u001b[0m\u001b[0;34m(\u001b[0m\u001b[0;36m0\u001b[0m\u001b[0;34m,\u001b[0m \u001b[0;36m10\u001b[0m\u001b[0;34m)\u001b[0m\u001b[0;34m:\u001b[0m\u001b[0;34m\u001b[0m\u001b[0;34m\u001b[0m\u001b[0m\n\u001b[1;32m   1162\u001b[0m                 \u001b[0mnumber\u001b[0m \u001b[0;34m=\u001b[0m \u001b[0;36m10\u001b[0m \u001b[0;34m**\u001b[0m \u001b[0mindex\u001b[0m\u001b[0;34m\u001b[0m\u001b[0;34m\u001b[0m\u001b[0m\n\u001b[0;32m-> 1163\u001b[0;31m                 \u001b[0mtime_number\u001b[0m \u001b[0;34m=\u001b[0m \u001b[0mtimer\u001b[0m\u001b[0;34m.\u001b[0m\u001b[0mtimeit\u001b[0m\u001b[0;34m(\u001b[0m\u001b[0mnumber\u001b[0m\u001b[0;34m)\u001b[0m\u001b[0;34m\u001b[0m\u001b[0;34m\u001b[0m\u001b[0m\n\u001b[0m\u001b[1;32m   1164\u001b[0m                 \u001b[0;32mif\u001b[0m \u001b[0mtime_number\u001b[0m \u001b[0;34m>=\u001b[0m \u001b[0;36m0.2\u001b[0m\u001b[0;34m:\u001b[0m\u001b[0;34m\u001b[0m\u001b[0;34m\u001b[0m\u001b[0m\n\u001b[1;32m   1165\u001b[0m                     \u001b[0;32mbreak\u001b[0m\u001b[0;34m\u001b[0m\u001b[0;34m\u001b[0m\u001b[0m\n",
      "\u001b[0;32m/usr/local/lib/python3.8/site-packages/IPython/core/magics/execution.py\u001b[0m in \u001b[0;36mtimeit\u001b[0;34m(self, number)\u001b[0m\n\u001b[1;32m    167\u001b[0m         \u001b[0mgc\u001b[0m\u001b[0;34m.\u001b[0m\u001b[0mdisable\u001b[0m\u001b[0;34m(\u001b[0m\u001b[0;34m)\u001b[0m\u001b[0;34m\u001b[0m\u001b[0;34m\u001b[0m\u001b[0m\n\u001b[1;32m    168\u001b[0m         \u001b[0;32mtry\u001b[0m\u001b[0;34m:\u001b[0m\u001b[0;34m\u001b[0m\u001b[0;34m\u001b[0m\u001b[0m\n\u001b[0;32m--> 169\u001b[0;31m             \u001b[0mtiming\u001b[0m \u001b[0;34m=\u001b[0m \u001b[0mself\u001b[0m\u001b[0;34m.\u001b[0m\u001b[0minner\u001b[0m\u001b[0;34m(\u001b[0m\u001b[0mit\u001b[0m\u001b[0;34m,\u001b[0m \u001b[0mself\u001b[0m\u001b[0;34m.\u001b[0m\u001b[0mtimer\u001b[0m\u001b[0;34m)\u001b[0m\u001b[0;34m\u001b[0m\u001b[0;34m\u001b[0m\u001b[0m\n\u001b[0m\u001b[1;32m    170\u001b[0m         \u001b[0;32mfinally\u001b[0m\u001b[0;34m:\u001b[0m\u001b[0;34m\u001b[0m\u001b[0;34m\u001b[0m\u001b[0m\n\u001b[1;32m    171\u001b[0m             \u001b[0;32mif\u001b[0m \u001b[0mgcold\u001b[0m\u001b[0;34m:\u001b[0m\u001b[0;34m\u001b[0m\u001b[0;34m\u001b[0m\u001b[0m\n",
      "\u001b[0;32m<magic-timeit>\u001b[0m in \u001b[0;36minner\u001b[0;34m(_it, _timer)\u001b[0m\n",
      "\u001b[0;32m/usr/local/lib/python3.8/site-packages/numba/core/dispatcher.py\u001b[0m in \u001b[0;36m_compile_for_args\u001b[0;34m(self, *args, **kws)\u001b[0m\n\u001b[1;32m    413\u001b[0m                 \u001b[0me\u001b[0m\u001b[0;34m.\u001b[0m\u001b[0mpatch_message\u001b[0m\u001b[0;34m(\u001b[0m\u001b[0mmsg\u001b[0m\u001b[0;34m)\u001b[0m\u001b[0;34m\u001b[0m\u001b[0;34m\u001b[0m\u001b[0m\n\u001b[1;32m    414\u001b[0m \u001b[0;34m\u001b[0m\u001b[0m\n\u001b[0;32m--> 415\u001b[0;31m             \u001b[0merror_rewrite\u001b[0m\u001b[0;34m(\u001b[0m\u001b[0me\u001b[0m\u001b[0;34m,\u001b[0m \u001b[0;34m'typing'\u001b[0m\u001b[0;34m)\u001b[0m\u001b[0;34m\u001b[0m\u001b[0;34m\u001b[0m\u001b[0m\n\u001b[0m\u001b[1;32m    416\u001b[0m         \u001b[0;32mexcept\u001b[0m \u001b[0merrors\u001b[0m\u001b[0;34m.\u001b[0m\u001b[0mUnsupportedError\u001b[0m \u001b[0;32mas\u001b[0m \u001b[0me\u001b[0m\u001b[0;34m:\u001b[0m\u001b[0;34m\u001b[0m\u001b[0;34m\u001b[0m\u001b[0m\n\u001b[1;32m    417\u001b[0m             \u001b[0;31m# Something unsupported is present in the user code, add help info\u001b[0m\u001b[0;34m\u001b[0m\u001b[0;34m\u001b[0m\u001b[0;34m\u001b[0m\u001b[0m\n",
      "\u001b[0;32m/usr/local/lib/python3.8/site-packages/numba/core/dispatcher.py\u001b[0m in \u001b[0;36merror_rewrite\u001b[0;34m(e, issue_type)\u001b[0m\n\u001b[1;32m    356\u001b[0m                 \u001b[0;32mraise\u001b[0m \u001b[0me\u001b[0m\u001b[0;34m\u001b[0m\u001b[0;34m\u001b[0m\u001b[0m\n\u001b[1;32m    357\u001b[0m             \u001b[0;32melse\u001b[0m\u001b[0;34m:\u001b[0m\u001b[0;34m\u001b[0m\u001b[0;34m\u001b[0m\u001b[0m\n\u001b[0;32m--> 358\u001b[0;31m                 \u001b[0mreraise\u001b[0m\u001b[0;34m(\u001b[0m\u001b[0mtype\u001b[0m\u001b[0;34m(\u001b[0m\u001b[0me\u001b[0m\u001b[0;34m)\u001b[0m\u001b[0;34m,\u001b[0m \u001b[0me\u001b[0m\u001b[0;34m,\u001b[0m \u001b[0;32mNone\u001b[0m\u001b[0;34m)\u001b[0m\u001b[0;34m\u001b[0m\u001b[0;34m\u001b[0m\u001b[0m\n\u001b[0m\u001b[1;32m    359\u001b[0m \u001b[0;34m\u001b[0m\u001b[0m\n\u001b[1;32m    360\u001b[0m         \u001b[0margtypes\u001b[0m \u001b[0;34m=\u001b[0m \u001b[0;34m[\u001b[0m\u001b[0;34m]\u001b[0m\u001b[0;34m\u001b[0m\u001b[0;34m\u001b[0m\u001b[0m\n",
      "\u001b[0;32m/usr/local/lib/python3.8/site-packages/numba/core/utils.py\u001b[0m in \u001b[0;36mreraise\u001b[0;34m(tp, value, tb)\u001b[0m\n\u001b[1;32m     78\u001b[0m         \u001b[0mvalue\u001b[0m \u001b[0;34m=\u001b[0m \u001b[0mtp\u001b[0m\u001b[0;34m(\u001b[0m\u001b[0;34m)\u001b[0m\u001b[0;34m\u001b[0m\u001b[0;34m\u001b[0m\u001b[0m\n\u001b[1;32m     79\u001b[0m     \u001b[0;32mif\u001b[0m \u001b[0mvalue\u001b[0m\u001b[0;34m.\u001b[0m\u001b[0m__traceback__\u001b[0m \u001b[0;32mis\u001b[0m \u001b[0;32mnot\u001b[0m \u001b[0mtb\u001b[0m\u001b[0;34m:\u001b[0m\u001b[0;34m\u001b[0m\u001b[0;34m\u001b[0m\u001b[0m\n\u001b[0;32m---> 80\u001b[0;31m         \u001b[0;32mraise\u001b[0m \u001b[0mvalue\u001b[0m\u001b[0;34m.\u001b[0m\u001b[0mwith_traceback\u001b[0m\u001b[0;34m(\u001b[0m\u001b[0mtb\u001b[0m\u001b[0;34m)\u001b[0m\u001b[0;34m\u001b[0m\u001b[0;34m\u001b[0m\u001b[0m\n\u001b[0m\u001b[1;32m     81\u001b[0m     \u001b[0;32mraise\u001b[0m \u001b[0mvalue\u001b[0m\u001b[0;34m\u001b[0m\u001b[0;34m\u001b[0m\u001b[0m\n\u001b[1;32m     82\u001b[0m \u001b[0;34m\u001b[0m\u001b[0m\n",
      "\u001b[0;31mTypingError\u001b[0m: Failed in nopython mode pipeline (step: nopython frontend)\n\u001b[1m\u001b[1m\u001b[1m\u001b[1mFailed in nopython mode pipeline (step: nopython frontend)\n\u001b[1m\u001b[1mNo implementation of function Function(<built-in function contains>) found for signature:\n \n >>> contains(DictType[UniTuple(int64 x 2),ListType[Tuple(float64, float64, array(float64, 1d, C))]], array(float64, 1d, C))\n \nThere are 16 candidate implementations:\n\u001b[1m   - Of which 14 did not match due to:\n   Overload of function 'contains': File: <numerous>: Line N/A.\n     With argument(s): '(DictType[UniTuple(int64 x 2),ListType[Tuple(float64, float64, array(float64, 1d, C))]], array(float64, 1d, C))':\u001b[0m\n\u001b[1m    No match.\u001b[0m\n\u001b[1m   - Of which 2 did not match due to:\n   Overload in function 'impl_contains': File: numba/typed/dictobject.py: Line 799.\n     With argument(s): '(DictType[UniTuple(int64 x 2),ListType[Tuple(float64, float64, array(float64, 1d, C))]], array(float64, 1d, C))':\u001b[0m\n\u001b[1m    Rejected as the implementation raised a specific error:\n      LoweringError: Failed in nopython mode pipeline (step: nopython mode backend)\n    \u001b[1m\u001b[1mCannot cast array(float64, 1d, C) to UniTuple(int64 x 2): %\".35\" = load {i8*, i8*, i64, i64, double*, [1 x i64], [1 x i64]}, {i8*, i8*, i64, i64, double*, [1 x i64], [1 x i64]}* %\"k\"\n    \u001b[1m\n    File \"../../../../../usr/local/lib/python3.8/site-packages/numba/typed/dictobject.py\", line 807:\u001b[0m\n    \u001b[1m    def impl(d, k):\n    \u001b[1m        k = _cast(k, keyty)\n    \u001b[0m        \u001b[1m^\u001b[0m\u001b[0m\n    \u001b[0m\n    \u001b[0m\u001b[1mDuring: lowering \"$8call_function.3 = call $2load_global.0(k, $6load_deref.2, func=$2load_global.0, args=[Var(k, dictobject.py:807), Var($6load_deref.2, dictobject.py:807)], kws=(), vararg=None)\" at /usr/local/lib/python3.8/site-packages/numba/typed/dictobject.py (807)\u001b[0m\u001b[0m\n  raised from /usr/local/lib/python3.8/site-packages/numba/core/utils.py:81\n\u001b[0m\n\u001b[0m\u001b[1mDuring: typing of intrinsic-call at /Users/soleti/dune/larnd-sim/larndsim/detsim.py (309)\u001b[0m\n\u001b[1m\nFile \"../larndsim/detsim.py\", line 309:\u001b[0m\n\u001b[1mdef track_current(track, pixels, cols, slice_size, t_sampling, active_pixels, pixel_size, time_padding=20):\n    <source elided>\n        # t = (pID[0], pID[1])\n\u001b[1m        if pID in active_pixels:\n\u001b[0m        \u001b[1m^\u001b[0m\u001b[0m\n\n\u001b[0m\u001b[1mDuring: resolving callee type: type(CPUDispatcher(<function track_current at 0x12dcbcaf0>))\u001b[0m\n\u001b[0m\u001b[1mDuring: typing of call at /Users/soleti/dune/larnd-sim/larndsim/detsim.py (338)\n\u001b[0m\n\u001b[0m\u001b[1mDuring: resolving callee type: type(CPUDispatcher(<function track_current at 0x12dcbcaf0>))\u001b[0m\n\u001b[0m\u001b[1mDuring: typing of call at /Users/soleti/dune/larnd-sim/larndsim/detsim.py (338)\n\u001b[0m\n\u001b[1m\nFile \"../larndsim/detsim.py\", line 338:\u001b[0m\n\u001b[1mdef tracks_current(tracks, pIDs_array, cols, pixel_size, t_sampling=1, slice_size=20):\n    <source elided>\n        pID = pIDs_array[i]\n\u001b[1m        track_current(track, pID, cols, slice_size, t_sampling, active_pixels, pixel_size)\n\u001b[0m        \u001b[1m^\u001b[0m\u001b[0m\n"
     ]
    }
   ],
   "source": [
    "%%timeit\n",
    "active_pixels = detsim.tracks_current(selected_tracks, pIDs_array, cols, pixel_size, t_sampling, slice_size)"
   ]
  },
  {
   "cell_type": "code",
   "execution_count": 8,
   "metadata": {},
   "outputs": [
    {
     "output_type": "error",
     "ename": "NameError",
     "evalue": "name 'active_pixels' is not defined",
     "traceback": [
      "\u001b[0;31m---------------------------------------------------------------------------\u001b[0m",
      "\u001b[0;31mNameError\u001b[0m                                 Traceback (most recent call last)",
      "\u001b[0;32m<ipython-input-8-888d71adfbd5>\u001b[0m in \u001b[0;36m<module>\u001b[0;34m\u001b[0m\n\u001b[0;32m----> 1\u001b[0;31m \u001b[0mcurrents\u001b[0m \u001b[0;34m=\u001b[0m \u001b[0mnp\u001b[0m\u001b[0;34m.\u001b[0m\u001b[0marray\u001b[0m\u001b[0;34m(\u001b[0m\u001b[0;34m[\u001b[0m\u001b[0msum\u001b[0m\u001b[0;34m(\u001b[0m\u001b[0mdetsim\u001b[0m\u001b[0;34m.\u001b[0m\u001b[0mpixel_response\u001b[0m\u001b[0;34m(\u001b[0m\u001b[0mactive_pixels\u001b[0m\u001b[0;34m[\u001b[0m\u001b[0mp\u001b[0m\u001b[0;34m]\u001b[0m\u001b[0;34m,\u001b[0m \u001b[0manode_t\u001b[0m\u001b[0;34m)\u001b[0m\u001b[0;34m)\u001b[0m \u001b[0;32mfor\u001b[0m \u001b[0mp\u001b[0m \u001b[0;32min\u001b[0m \u001b[0mactive_pixels\u001b[0m\u001b[0;34m.\u001b[0m\u001b[0mkeys\u001b[0m\u001b[0;34m(\u001b[0m\u001b[0;34m)\u001b[0m\u001b[0;34m]\u001b[0m\u001b[0;34m)\u001b[0m\u001b[0;34m\u001b[0m\u001b[0;34m\u001b[0m\u001b[0m\n\u001b[0m",
      "\u001b[0;31mNameError\u001b[0m: name 'active_pixels' is not defined"
     ]
    }
   ],
   "source": [
    "currents = np.array([sum(detsim.pixel_response(active_pixels[p], anode_t)) for p in active_pixels.keys()])"
   ]
  },
  {
   "cell_type": "markdown",
   "metadata": {},
   "source": [
    "## Track and pixel display\n",
    "Here we show the selected tracks and the pixels affected by them. The color of the pixel correspond to the integrated induced current."
   ]
  },
  {
   "cell_type": "code",
   "execution_count": 9,
   "metadata": {},
   "outputs": [
    {
     "output_type": "error",
     "ename": "NameError",
     "evalue": "name 'currents' is not defined",
     "traceback": [
      "\u001b[0;31m---------------------------------------------------------------------------\u001b[0m",
      "\u001b[0;31mNameError\u001b[0m                                 Traceback (most recent call last)",
      "\u001b[0;32m<ipython-input-9-d297ba52ccc9>\u001b[0m in \u001b[0;36m<module>\u001b[0;34m\u001b[0m\n\u001b[1;32m      3\u001b[0m \u001b[0max\u001b[0m \u001b[0;34m=\u001b[0m \u001b[0mfig\u001b[0m\u001b[0;34m.\u001b[0m\u001b[0madd_subplot\u001b[0m\u001b[0;34m(\u001b[0m\u001b[0;36m111\u001b[0m\u001b[0;34m,\u001b[0m \u001b[0mprojection\u001b[0m\u001b[0;34m=\u001b[0m\u001b[0;34m'3d'\u001b[0m\u001b[0;34m)\u001b[0m\u001b[0;34m\u001b[0m\u001b[0;34m\u001b[0m\u001b[0m\n\u001b[1;32m      4\u001b[0m \u001b[0;34m\u001b[0m\u001b[0m\n\u001b[0;32m----> 5\u001b[0;31m \u001b[0mnorm\u001b[0m \u001b[0;34m=\u001b[0m \u001b[0mmpl\u001b[0m\u001b[0;34m.\u001b[0m\u001b[0mcolors\u001b[0m\u001b[0;34m.\u001b[0m\u001b[0mLogNorm\u001b[0m\u001b[0;34m(\u001b[0m\u001b[0mvmin\u001b[0m\u001b[0;34m=\u001b[0m\u001b[0mmin\u001b[0m\u001b[0;34m(\u001b[0m\u001b[0mcurrents\u001b[0m\u001b[0;34m[\u001b[0m\u001b[0mcurrents\u001b[0m\u001b[0;34m>\u001b[0m\u001b[0;36m0\u001b[0m\u001b[0;34m]\u001b[0m\u001b[0;34m)\u001b[0m\u001b[0;34m,\u001b[0m \u001b[0mvmax\u001b[0m\u001b[0;34m=\u001b[0m\u001b[0mmax\u001b[0m\u001b[0;34m(\u001b[0m\u001b[0mcurrents\u001b[0m\u001b[0;34m)\u001b[0m\u001b[0;34m)\u001b[0m\u001b[0;34m\u001b[0m\u001b[0;34m\u001b[0m\u001b[0m\n\u001b[0m\u001b[1;32m      6\u001b[0m \u001b[0mcmap\u001b[0m \u001b[0;34m=\u001b[0m \u001b[0mcm\u001b[0m\u001b[0;34m.\u001b[0m\u001b[0mviridis\u001b[0m\u001b[0;34m\u001b[0m\u001b[0;34m\u001b[0m\u001b[0m\n\u001b[1;32m      7\u001b[0m \u001b[0mm\u001b[0m \u001b[0;34m=\u001b[0m \u001b[0mcm\u001b[0m\u001b[0;34m.\u001b[0m\u001b[0mScalarMappable\u001b[0m\u001b[0;34m(\u001b[0m\u001b[0mnorm\u001b[0m\u001b[0;34m=\u001b[0m\u001b[0mnorm\u001b[0m\u001b[0;34m,\u001b[0m \u001b[0mcmap\u001b[0m\u001b[0;34m=\u001b[0m\u001b[0mcmap\u001b[0m\u001b[0;34m)\u001b[0m\u001b[0;34m\u001b[0m\u001b[0;34m\u001b[0m\u001b[0m\n",
      "\u001b[0;31mNameError\u001b[0m: name 'currents' is not defined"
     ]
    }
   ],
   "source": [
    "%matplotlib inline\n",
    "fig = plt.figure(constrained_layout=True)\n",
    "ax = fig.add_subplot(111, projection='3d')\n",
    "\n",
    "norm = mpl.colors.LogNorm(vmin=min(currents[currents>0]), vmax=max(currents))\n",
    "cmap = cm.viridis\n",
    "m = cm.ScalarMappable(norm=norm, cmap=cmap)\n",
    "\n",
    "\n",
    "for i,p in enumerate(list(active_pixels.keys())):\n",
    "    rect = plt.Rectangle((p[0]*x_pixel_size+consts.tpc_borders[0][0],\n",
    "                          p[1]*y_pixel_size+consts.tpc_borders[1][0]),\n",
    "                         x_pixel_size,y_pixel_size,\n",
    "                         linewidth=0,\n",
    "                         edgecolor='grey', \n",
    "                         facecolor=m.to_rgba(currents[i]), label='Pixel')\n",
    "    ax.add_patch(rect)\n",
    "    art3d.pathpatch_2d_to_3d(rect, z=-50, zdir=\"z\")\n",
    "    \n",
    "for t in selected_tracks:\n",
    "    ax.plot((t[cols['x_start']], t[cols['x_end']]), \n",
    "            (t[cols['y_start']], t[cols['y_end']]),\n",
    "            (t[cols['z_start']], t[cols['z_end']]),\n",
    "            c='r',\n",
    "            zorder=99999)\n",
    "    ax.scatter((t[cols['x_start']], t[cols['x_end']]), \n",
    "               (t[cols['y_start']], t[cols['y_end']]),\n",
    "               (t[cols['z_start']], t[cols['z_end']]),\n",
    "               c='r')\n",
    "\n",
    "ax.set_xlabel(\"$x$ coordinate [cm]\")\n",
    "ax.set_ylabel(\"$y$ coordinate [cm]\")\n",
    "ax.set_zlabel(\"$z$ coordinate [cm]\")\n",
    "ax.set_zlim3d(-50,50)\n",
    "ax.set_xlim3d(80,95)\n",
    "ax.set_ylim3d(-7,7)"
   ]
  },
  {
   "cell_type": "code",
   "execution_count": 10,
   "metadata": {},
   "outputs": [
    {
     "output_type": "error",
     "ename": "NameError",
     "evalue": "name 'currents' is not defined",
     "traceback": [
      "\u001b[0;31m---------------------------------------------------------------------------\u001b[0m",
      "\u001b[0;31mNameError\u001b[0m                                 Traceback (most recent call last)",
      "\u001b[0;32m<ipython-input-10-8a8f73a7e39a>\u001b[0m in \u001b[0;36m<module>\u001b[0;34m\u001b[0m\n\u001b[0;32m----> 1\u001b[0;31m \u001b[0mnorm\u001b[0m \u001b[0;34m=\u001b[0m \u001b[0mmpl\u001b[0m\u001b[0;34m.\u001b[0m\u001b[0mcolors\u001b[0m\u001b[0;34m.\u001b[0m\u001b[0mLogNorm\u001b[0m\u001b[0;34m(\u001b[0m\u001b[0mvmin\u001b[0m\u001b[0;34m=\u001b[0m\u001b[0mmin\u001b[0m\u001b[0;34m(\u001b[0m\u001b[0mcurrents\u001b[0m\u001b[0;34m[\u001b[0m\u001b[0mcurrents\u001b[0m\u001b[0;34m>\u001b[0m\u001b[0;36m0\u001b[0m\u001b[0;34m]\u001b[0m\u001b[0;34m)\u001b[0m\u001b[0;34m,\u001b[0m \u001b[0mvmax\u001b[0m\u001b[0;34m=\u001b[0m\u001b[0mmax\u001b[0m\u001b[0;34m(\u001b[0m\u001b[0mcurrents\u001b[0m\u001b[0;34m)\u001b[0m\u001b[0;34m)\u001b[0m\u001b[0;34m\u001b[0m\u001b[0;34m\u001b[0m\u001b[0m\n\u001b[0m\u001b[1;32m      2\u001b[0m \u001b[0mcmap\u001b[0m \u001b[0;34m=\u001b[0m \u001b[0mcm\u001b[0m\u001b[0;34m.\u001b[0m\u001b[0mviridis\u001b[0m\u001b[0;34m\u001b[0m\u001b[0;34m\u001b[0m\u001b[0m\n\u001b[1;32m      3\u001b[0m \u001b[0mm\u001b[0m \u001b[0;34m=\u001b[0m \u001b[0mcm\u001b[0m\u001b[0;34m.\u001b[0m\u001b[0mScalarMappable\u001b[0m\u001b[0;34m(\u001b[0m\u001b[0mnorm\u001b[0m\u001b[0;34m=\u001b[0m\u001b[0mnorm\u001b[0m\u001b[0;34m,\u001b[0m \u001b[0mcmap\u001b[0m\u001b[0;34m=\u001b[0m\u001b[0mcmap\u001b[0m\u001b[0;34m)\u001b[0m\u001b[0;34m\u001b[0m\u001b[0;34m\u001b[0m\u001b[0m\n\u001b[1;32m      4\u001b[0m \u001b[0;34m\u001b[0m\u001b[0m\n\u001b[1;32m      5\u001b[0m \u001b[0mfig\u001b[0m\u001b[0;34m,\u001b[0m \u001b[0max\u001b[0m \u001b[0;34m=\u001b[0m \u001b[0mplt\u001b[0m\u001b[0;34m.\u001b[0m\u001b[0msubplots\u001b[0m\u001b[0;34m(\u001b[0m\u001b[0;36m1\u001b[0m\u001b[0;34m,\u001b[0m\u001b[0;36m1\u001b[0m\u001b[0;34m)\u001b[0m\u001b[0;34m\u001b[0m\u001b[0;34m\u001b[0m\u001b[0m\n",
      "\u001b[0;31mNameError\u001b[0m: name 'currents' is not defined"
     ]
    }
   ],
   "source": [
    "norm = mpl.colors.LogNorm(vmin=min(currents[currents>0]), vmax=max(currents))\n",
    "cmap = cm.viridis\n",
    "m = cm.ScalarMappable(norm=norm, cmap=cmap)\n",
    "\n",
    "fig, ax = plt.subplots(1,1)\n",
    "for i,p in enumerate(active_pixels.keys()):\n",
    "    if currents[i]:\n",
    "        rect = plt.Rectangle((p[0]*x_pixel_size+consts.tpc_borders[0][0],\n",
    "                              p[1]*y_pixel_size+consts.tpc_borders[1][0]),\n",
    "                             x_pixel_size,y_pixel_size,\n",
    "                             linewidth=0.3,\n",
    "                             edgecolor='grey', \n",
    "                             facecolor=m.to_rgba(currents[i]), label='Pixel')\n",
    "        ax.add_patch(rect)\n",
    "    \n",
    "for t in selected_tracks:\n",
    "    ax.plot((t[cols['x_start']], t[cols['x_end']]), \n",
    "            (t[cols['y_start']], t[cols['y_end']]),\n",
    "            c='r',\n",
    "            zorder=10)\n",
    "    ax.scatter((t[cols['x_start']], t[cols['x_end']]), \n",
    "               (t[cols['y_start']], t[cols['y_end']]),\n",
    "               c='r',\n",
    "               s=10,\n",
    "               zorder=10)\n",
    "\n",
    "ax.set_xlabel(\"$x$ coordinate [cm]\")\n",
    "ax.set_ylabel(\"$y$ coordinate [cm]\")\n",
    "ax.set_aspect(\"equal\")\n",
    "_ = plt.colorbar(m,fraction=0.046, pad=0.04, label='Current integral [a.u.]')\n"
   ]
  },
  {
   "cell_type": "code",
   "execution_count": 11,
   "metadata": {
    "tags": []
   },
   "outputs": [
    {
     "output_type": "error",
     "ename": "NameError",
     "evalue": "name 'active_pixels' is not defined",
     "traceback": [
      "\u001b[0;31m---------------------------------------------------------------------------\u001b[0m",
      "\u001b[0;31mNameError\u001b[0m                                 Traceback (most recent call last)",
      "\u001b[0;32m<ipython-input-11-9ad2c27378ab>\u001b[0m in \u001b[0;36m<module>\u001b[0;34m\u001b[0m\n\u001b[1;32m      1\u001b[0m \u001b[0mfig\u001b[0m\u001b[0;34m,\u001b[0m \u001b[0max\u001b[0m \u001b[0;34m=\u001b[0m \u001b[0mplt\u001b[0m\u001b[0;34m.\u001b[0m\u001b[0msubplots\u001b[0m\u001b[0;34m(\u001b[0m\u001b[0;36m1\u001b[0m\u001b[0;34m,\u001b[0m\u001b[0;36m1\u001b[0m\u001b[0;34m,\u001b[0m \u001b[0mconstrained_layout\u001b[0m\u001b[0;34m=\u001b[0m\u001b[0;32mTrue\u001b[0m\u001b[0;34m)\u001b[0m\u001b[0;34m\u001b[0m\u001b[0;34m\u001b[0m\u001b[0m\n\u001b[1;32m      2\u001b[0m \u001b[0mpixelID\u001b[0m \u001b[0;34m=\u001b[0m \u001b[0mdetsim\u001b[0m\u001b[0;34m.\u001b[0m\u001b[0mpixel_from_coordinates\u001b[0m\u001b[0;34m(\u001b[0m\u001b[0;36m83.6\u001b[0m\u001b[0;34m,\u001b[0m\u001b[0;36m1.8\u001b[0m\u001b[0;34m,\u001b[0m\u001b[0mn_pixels\u001b[0m\u001b[0;34m)\u001b[0m\u001b[0;34m\u001b[0m\u001b[0;34m\u001b[0m\u001b[0m\n\u001b[0;32m----> 3\u001b[0;31m \u001b[0mcurrent\u001b[0m \u001b[0;34m=\u001b[0m \u001b[0mdetsim\u001b[0m\u001b[0;34m.\u001b[0m\u001b[0mpixel_response\u001b[0m\u001b[0;34m(\u001b[0m\u001b[0mactive_pixels\u001b[0m\u001b[0;34m[\u001b[0m\u001b[0mpixelID\u001b[0m\u001b[0;34m]\u001b[0m\u001b[0;34m,\u001b[0m \u001b[0manode_t\u001b[0m\u001b[0;34m)\u001b[0m\u001b[0;34m\u001b[0m\u001b[0;34m\u001b[0m\u001b[0m\n\u001b[0m\u001b[1;32m      4\u001b[0m \u001b[0max\u001b[0m\u001b[0;34m.\u001b[0m\u001b[0mplot\u001b[0m\u001b[0;34m(\u001b[0m\u001b[0manode_t\u001b[0m\u001b[0;34m,\u001b[0m \u001b[0mcurrent\u001b[0m\u001b[0;34m,\u001b[0m \u001b[0mlabel\u001b[0m\u001b[0;34m=\u001b[0m\u001b[0;34m'Current'\u001b[0m\u001b[0;34m)\u001b[0m\u001b[0;34m\u001b[0m\u001b[0;34m\u001b[0m\u001b[0m\n\u001b[1;32m      5\u001b[0m \u001b[0max\u001b[0m\u001b[0;34m.\u001b[0m\u001b[0mset_xlim\u001b[0m\u001b[0;34m(\u001b[0m\u001b[0;36m300\u001b[0m\u001b[0;34m,\u001b[0m\u001b[0;36m380\u001b[0m\u001b[0;34m)\u001b[0m\u001b[0;34m\u001b[0m\u001b[0;34m\u001b[0m\u001b[0m\n",
      "\u001b[0;31mNameError\u001b[0m: name 'active_pixels' is not defined"
     ]
    }
   ],
   "source": [
    "fig, ax = plt.subplots(1,1, constrained_layout=True)\n",
    "pixelID = detsim.pixel_from_coordinates(83.6,1.8,n_pixels)\n",
    "current = detsim.pixel_response(active_pixels[pixelID], anode_t)\n",
    "ax.plot(anode_t, current, label='Current')\n",
    "ax.set_xlim(300,380)  \n",
    "ax.set_title(\"Pixel (%i,%i) at (%g, %g)\" % (pixelID[0], pixelID[1], \n",
    "                                      (pixelID[0] + x_pixel_size/2)*x_pixel_size+consts.tpc_borders[0][0], \n",
    "                                      (pixelID[1] + y_pixel_size/2)*y_pixel_size+consts.tpc_borders[1][0]))\n",
    "ax.set_xlabel(\"Time [$\\mathrm{\\mu}$s]\")\n",
    "ax.set_ylabel(\"Current [a.u.]\")"
   ]
  },
  {
   "cell_type": "code",
   "execution_count": null,
   "metadata": {},
   "outputs": [],
   "source": []
  }
 ],
 "metadata": {
  "kernelspec": {
   "display_name": "Python 3",
   "language": "python",
   "name": "python3"
  },
  "language_info": {
   "codemirror_mode": {
    "name": "ipython",
    "version": 3
   },
   "file_extension": ".py",
   "mimetype": "text/x-python",
   "name": "python",
   "nbconvert_exporter": "python",
   "pygments_lexer": "ipython3",
   "version": "3.8.5"
  }
 },
 "nbformat": 4,
 "nbformat_minor": 4
}