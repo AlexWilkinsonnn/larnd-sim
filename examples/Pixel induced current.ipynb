{
 "cells": [
  {
   "cell_type": "markdown",
   "metadata": {},
   "source": [
    "# Pixel induced current\n",
    "In this notebook we load a track dataset and we calculate the current induced on the pixels placed at the anode."
   ]
  },
  {
   "cell_type": "code",
   "execution_count": 349,
   "metadata": {},
   "outputs": [],
   "source": [
    "# This is need so you can import larndsim without doing python setup.py install\n",
    "import os,sys,inspect\n",
    "currentdir = os.path.dirname(os.path.abspath(inspect.getfile(inspect.currentframe())))\n",
    "parentdir = os.path.dirname(currentdir)\n",
    "sys.path.insert(0,parentdir) "
   ]
  },
  {
   "cell_type": "code",
   "execution_count": 350,
   "metadata": {},
   "outputs": [],
   "source": [
    "from larndsim import detsim\n",
    "\n",
    "import importlib\n",
    "importlib.reload(detsim)\n",
    "from larndsim import consts, quenching, drifting\n",
    "importlib.reload(drifting)\n",
    "importlib.reload(quenching)\n",
    "\n",
    "import matplotlib.pyplot as plt\n",
    "import matplotlib as mpl\n",
    "import matplotlib.cm as cm\n",
    "from mpl_toolkits.mplot3d import Axes3D\n",
    "import mpl_toolkits.mplot3d.art3d as art3d\n",
    "\n",
    "import pickle\n",
    "import numpy as np\n",
    "import numba as nb\n",
    "from tqdm import tqdm_notebook as progress_bar"
   ]
  },
  {
   "cell_type": "markdown",
   "metadata": {},
   "source": [
    "Here we load the dataset with the tracks and we store the column indeces corresponding to the each variable."
   ]
  },
  {
   "cell_type": "code",
   "execution_count": 351,
   "metadata": {},
   "outputs": [],
   "source": [
    "tracks = pickle.load(open('FakeTrackDataSet.p', 'rb'))\n",
    "tracks['t'] = 0.\n",
    "tracks['t_start'] = 0.\n",
    "tracks['t_end'] = 0.\n",
    "\n",
    "tracks['dx'] = np.sqrt(pow(tracks['x_end']-tracks['x_start'], 2) +\n",
    "                    pow(tracks['y_end']-tracks['y_start'], 2) +\n",
    "                    pow(tracks['z_end']-tracks['z_start'], 2))\n",
    "tracks['x'] = (tracks['x_end']+tracks['x_start'])/2\n",
    "tracks['y'] = (tracks['y_end']+tracks['y_start'])/2\n",
    "tracks['z'] = (tracks['z_end']+tracks['z_start'])/2\n",
    "tracks['dE'] = np.abs(tracks['dE'])*1e3\n",
    "tracks['dEdx'] = tracks['dE']/tracks['dx']\n",
    "tracks['NElectrons'] = 0.\n",
    "tracks['longDiff'] = 0.\n",
    "tracks['tranDiff'] = 0."
   ]
  },
  {
   "cell_type": "markdown",
   "metadata": {},
   "source": [
    "Here we pass our columnar data through the quenching and drifting stages, so we calculate the amount of electrons that reach the anode."
   ]
  },
  {
   "cell_type": "code",
   "execution_count": 352,
   "metadata": {},
   "outputs": [],
   "source": [
    "tracks_np = tracks.to_numpy()\n",
    "cols = nb.typed.Dict()\n",
    "for i, c, in enumerate(tracks.columns):\n",
    "    cols[c] = i"
   ]
  },
  {
   "cell_type": "code",
   "execution_count": 353,
   "metadata": {
    "tags": []
   },
   "outputs": [],
   "source": [
    "quenching.Quench(tracks_np, cols, mode=\"box\")"
   ]
  },
  {
   "cell_type": "code",
   "execution_count": 354,
   "metadata": {},
   "outputs": [],
   "source": [
    "drifting.Drift(tracks_np, cols)"
   ]
  },
  {
   "cell_type": "code",
   "execution_count": 355,
   "metadata": {},
   "outputs": [],
   "source": [
    "indeces = {c:i for i, c, in enumerate(tracks.columns)}\n",
    "selectedTracks = tracks_np[(tracks_np[:,cols['trackID']] > 6) & (tracks_np[:,cols['trackID']] < 9)]"
   ]
  },
  {
   "cell_type": "markdown",
   "metadata": {},
   "source": [
    "Here we instantiate a TPC class with a determined number of pixels per axis and a determined sampling in time."
   ]
  },
  {
   "cell_type": "code",
   "execution_count": 371,
   "metadata": {},
   "outputs": [],
   "source": [
    "tpc = detsim.TPC(t_sampling=1, n_pixels=1000, **indeces)"
   ]
  },
  {
   "cell_type": "markdown",
   "metadata": {},
   "source": [
    "Here we calculate the current induced by each track on the pixels."
   ]
  },
  {
   "cell_type": "code",
   "execution_count": 372,
   "metadata": {
    "tags": []
   },
   "outputs": [
    {
     "data": {
      "application/vnd.jupyter.widget-view+json": {
       "model_id": "8b9761ee22694229b791fd7193cee3bb",
       "version_major": 2,
       "version_minor": 0
      },
      "text/plain": [
       "HBox(children=(FloatProgress(value=0.0, description='Processing tracks...', max=2.0, style=ProgressStyle(descr…"
      ]
     },
     "metadata": {},
     "output_type": "display_data"
    },
    {
     "data": {
      "application/vnd.jupyter.widget-view+json": {
       "model_id": "bd6025a42d674542bb0d5da2d4de7e99",
       "version_major": 2,
       "version_minor": 0
      },
      "text/plain": [
       "HBox(children=(FloatProgress(value=0.0, description='Calculating pixel response...', max=363.0, style=Progress…"
      ]
     },
     "metadata": {},
     "output_type": "display_data"
    },
    {
     "name": "stdout",
     "output_type": "stream",
     "text": [
      "\n"
     ]
    },
    {
     "data": {
      "application/vnd.jupyter.widget-view+json": {
       "model_id": "8c0565a6184645d9b123d6e37f89d57b",
       "version_major": 2,
       "version_minor": 0
      },
      "text/plain": [
       "HBox(children=(FloatProgress(value=0.0, description='Calculating pixel response...', max=381.0, style=Progress…"
      ]
     },
     "metadata": {},
     "output_type": "display_data"
    },
    {
     "name": "stdout",
     "output_type": "stream",
     "text": [
      "\n",
      "\n"
     ]
    }
   ],
   "source": [
    "for t in progress_bar(selectedTracks, desc='Processing tracks...'):\n",
    "    img = tpc.calculateCurrent(t)"
   ]
  },
  {
   "cell_type": "markdown",
   "metadata": {},
   "source": [
    "## Track and pixel display\n",
    "Here we show the selected tracks and the pixels affected by them. The color of the pixel correspond to the integrated induced current."
   ]
  },
  {
   "cell_type": "code",
   "execution_count": 373,
   "metadata": {},
   "outputs": [
    {
     "data": {
      "application/vnd.jupyter.widget-view+json": {
       "model_id": "f204461a22c044998a94136b98c4b8c2",
       "version_major": 2,
       "version_minor": 0
      },
      "text/plain": [
       "Canvas(toolbar=Toolbar(toolitems=[('Home', 'Reset original view', 'home', 'home'), ('Back', 'Back to previous …"
      ]
     },
     "metadata": {},
     "output_type": "display_data"
    }
   ],
   "source": [
    "%matplotlib widget\n",
    "fig = plt.figure()\n",
    "ax = fig.add_subplot(111, projection='3d')\n",
    "\n",
    "currents = np.array([sum(tpc.getPixelResponse(p)) for p in tpc.activePixels])\n",
    "norm = mpl.colors.LogNorm(vmin=min(currents[currents>0]), vmax=max(currents))\n",
    "cmap = cm.viridis\n",
    "m = cm.ScalarMappable(norm=norm, cmap=cmap)\n",
    "\n",
    "\n",
    "for i,p in enumerate(list(tpc.activePixels.keys())):\n",
    "    rect = plt.Rectangle((p[0]*tpc.x_pixel_size+consts.tpcBorders[0][0],\n",
    "                          p[1]*tpc.y_pixel_size+consts.tpcBorders[1][0]),\n",
    "                         tpc.x_pixel_size,tpc.y_pixel_size,\n",
    "                         linewidth=0,\n",
    "                         edgecolor='grey', \n",
    "                         facecolor=m.to_rgba(currents[i]), label='Pixel')\n",
    "    ax.add_patch(rect)\n",
    "    art3d.pathpatch_2d_to_3d(rect, z=150, zdir=\"z\")\n",
    "    \n",
    "for t in selectedTracks:\n",
    "    ax.plot((t[indeces['x_start']], t[indeces['x_end']]), \n",
    "            (t[indeces['y_start']], t[indeces['y_end']]),\n",
    "            (t[indeces['z_start']], t[indeces['z_end']]),\n",
    "            c='r')\n",
    "    ax.scatter((t[indeces['x_start']], t[indeces['x_end']]), \n",
    "               (t[indeces['y_start']], t[indeces['y_end']]),\n",
    "               (t[indeces['z_start']], t[indeces['z_end']]),\n",
    "               c='r')\n",
    "\n",
    "ax.set_xlabel(\"$x$ coordinate [cm]\")\n",
    "ax.set_ylabel(\"$y$ coordinate [cm]\")\n",
    "ax.set_zlabel(\"$z$ coordinate [cm]\")\n",
    "ax.set_zlim3d(150,50)\n",
    "ax.set_xlim3d(-80,-130)\n",
    "ax.set_ylim3d(55,100)\n",
    "\n",
    "_ = plt.colorbar(m,fraction=0.046, pad=0.04, label='Current integral')"
   ]
  },
  {
   "cell_type": "code",
   "execution_count": 374,
   "metadata": {},
   "outputs": [
    {
     "data": {
      "application/vnd.jupyter.widget-view+json": {
       "model_id": "e56ca379f2a644349bab052d108034de",
       "version_major": 2,
       "version_minor": 0
      },
      "text/plain": [
       "Canvas(toolbar=Toolbar(toolitems=[('Home', 'Reset original view', 'home', 'home'), ('Back', 'Back to previous …"
      ]
     },
     "metadata": {},
     "output_type": "display_data"
    }
   ],
   "source": [
    "%matplotlib widget\n",
    "fig,ax = plt.subplots(1,1, constrained_layout=True)\n",
    "\n",
    "for i,p in enumerate(list(tpc.activePixels.keys())):\n",
    "    rect = plt.Rectangle((p[0]*tpc.x_pixel_size+consts.tpcBorders[0][0],\n",
    "                          p[1]*tpc.y_pixel_size+consts.tpcBorders[1][0]),\n",
    "                         tpc.x_pixel_size,tpc.y_pixel_size,\n",
    "                         linewidth=0.3,\n",
    "                         edgecolor='grey', \n",
    "                         facecolor=m.to_rgba(currents[i]), label='Pixel')\n",
    "    ax.add_patch(rect)\n",
    "    \n",
    "for t in selectedTracks:\n",
    "    ax.plot((t[indeces['x_start']], t[indeces['x_end']]), \n",
    "            (t[indeces['y_start']], t[indeces['y_end']]),\n",
    "            c='r',\n",
    "            zorder=10)\n",
    "#     ax.scatter((t[indeces['x_start']], t[indeces['x_end']]), \n",
    "#                (t[indeces['y_start']], t[indeces['y_end']]),\n",
    "#                c='r',\n",
    "#                zorder=10)\n",
    "\n",
    "ax.set_xlabel(\"$x$ coordinate [cm]\")\n",
    "ax.set_ylabel(\"$y$ coordinate [cm]\")\n",
    "ax.set_aspect(\"equal\")\n",
    "_ = plt.colorbar(m,fraction=0.046, pad=0.04, label='Current integral')"
   ]
  },
  {
   "cell_type": "markdown",
   "metadata": {},
   "source": [
    "## Pixel induced current\n",
    "We are able to plot the current induced on each pixel. The `getPixelFromCoordinates` allows to get the pixel ID corresponding to a specific $(x,y)$ pair of coordinates."
   ]
  },
  {
   "cell_type": "code",
   "execution_count": 375,
   "metadata": {},
   "outputs": [
    {
     "data": {
      "application/vnd.jupyter.widget-view+json": {
       "model_id": "7a1cff074fb24b50ba63a72738c908cd",
       "version_major": 2,
       "version_minor": 0
      },
      "text/plain": [
       "Canvas(toolbar=Toolbar(toolitems=[('Home', 'Reset original view', 'home', 'home'), ('Back', 'Back to previous …"
      ]
     },
     "metadata": {},
     "output_type": "display_data"
    }
   ],
   "source": [
    "fig, ax = plt.subplots(1,1, constrained_layout=True)\n",
    "pixelID = tpc.getPixelFromCoordinates(-111.8,72.3)\n",
    "current = tpc.getPixelResponse(pixelID)\n",
    "ax.plot(tpc.anode_t, current, label='Current')\n",
    "ax.set_xlim(1100,1500) \n",
    "ax.set_title(\"Pixel (%i,%i) at (%.2f, %2.f)\" % (pixelID[0], \n",
    "                                      pixelID[1], \n",
    "                                      (pixelID[0] + 0.5)*tpc.x_pixel_size-150, \n",
    "                                      (pixelID[1] + 0.5)*tpc.y_pixel_size-150))\n",
    "ax.set_xlabel(\"Time [$\\mathrm{\\mu}$s]\")\n",
    "_ = ax.legend()"
   ]
  },
  {
   "cell_type": "code",
   "execution_count": null,
   "metadata": {},
   "outputs": [],
   "source": []
  }
 ],
 "metadata": {
  "kernelspec": {
   "display_name": "Python 3",
   "language": "python",
   "name": "python3"
  },
  "language_info": {
   "codemirror_mode": {
    "name": "ipython",
    "version": 3
   },
   "file_extension": ".py",
   "mimetype": "text/x-python",
   "name": "python",
   "nbconvert_exporter": "python",
   "pygments_lexer": "ipython3",
   "version": "3.8.4"
  }
 },
 "nbformat": 4,
 "nbformat_minor": 4
}
