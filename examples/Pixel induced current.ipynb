{
 "cells": [
  {
   "cell_type": "markdown",
   "metadata": {},
   "source": [
    "# Pixel induced current\n",
    "In this notebook we load a track dataset and we calculate the current induced on the pixels placed at the anode."
   ]
  },
  {
   "cell_type": "code",
   "execution_count": 1,
   "metadata": {},
   "outputs": [],
   "source": [
    "# This is need so you can import larndsim without doing python setup.py install\n",
    "import os,sys,inspect\n",
    "currentdir = os.path.dirname(os.path.abspath(inspect.getfile(inspect.currentframe())))\n",
    "parentdir = os.path.dirname(currentdir)\n",
    "sys.path.insert(0,parentdir) "
   ]
  },
  {
   "cell_type": "code",
   "execution_count": 2,
   "metadata": {},
   "outputs": [],
   "source": [
    "from larndsim import consts, quenching, drifting\n",
    "import importlib\n",
    "importlib.reload(drifting)\n",
    "importlib.reload(quenching)\n",
    "\n",
    "import numpy as np\n",
    "import matplotlib.pyplot as plt\n",
    "import matplotlib as mpl\n",
    "import matplotlib.cm as cm\n",
    "from mpl_toolkits.mplot3d import Axes3D\n",
    "import mpl_toolkits.mplot3d.art3d as art3d\n",
    "\n",
    "import pickle\n",
    "import numpy as np\n",
    "import numba as nb\n",
    "from tqdm import tqdm_notebook as progress_bar\n",
    "import pandas as pd\n",
    "import time"
   ]
  },
  {
   "cell_type": "markdown",
   "metadata": {},
   "source": [
    "Here we load the dataset with the tracks and we store the column cols corresponding to the each variable."
   ]
  },
  {
   "cell_type": "code",
   "execution_count": 3,
   "metadata": {},
   "outputs": [],
   "source": [
    "tracks_dict = pickle.load(open('edepsimDataset.p', 'rb'))\n",
    "tracks = pd.DataFrame.from_dict(tracks_dict)\n",
    "tracks['t'] = 0.\n",
    "tracks['t_start'] = 0.\n",
    "tracks['t_end'] = 0.\n",
    "tracks['x_start'] = tracks_dict['z_start'] \n",
    "tracks['z_start'] = tracks_dict['x_start'] \n",
    "tracks['x_end'] = tracks_dict['z_end'] \n",
    "tracks['z_end'] = tracks_dict['x_end'] \n",
    "\n",
    "tracks['z_start'] /= 1e2\n",
    "tracks['z_end'] /= 1e2\n",
    "tracks['y_start'] /= 1e2\n",
    "tracks['y_end'] /= 1e2\n",
    "tracks['x_start'] /= 1e2\n",
    "tracks['x_end'] /= 1e2\n",
    "\n",
    "tracks['dx'] = np.sqrt(pow(tracks['x_end']-tracks['x_start'], 2) +\n",
    "                    pow(tracks['y_end']-tracks['y_start'], 2) +\n",
    "                    pow(tracks['z_end']-tracks['z_start'], 2))\n",
    "tracks['x'] = (tracks['x_end']+tracks['x_start'])/2\n",
    "tracks['y'] = (tracks['y_end']+tracks['y_start'])/2\n",
    "tracks['z'] = (tracks['z_end']+tracks['z_start'])/2\n",
    "tracks['dE'] = np.abs(tracks['dE'])*1e3\n",
    "tracks['dEdx'] = tracks['dE']/tracks['dx']\n",
    "tracks['NElectrons'] = 0.\n",
    "tracks['longDiff'] = 0.\n",
    "tracks['tranDiff'] = 0.\n",
    "\n",
    "tracks_np = tracks.to_numpy()\n",
    "cols = nb.typed.Dict()\n",
    "for i, c, in enumerate(tracks.columns):\n",
    "    cols[c] = i\n",
    "\n",
    "quenching.Quench(tracks_np, cols, mode=\"box\")\n",
    "drifting.Drift(tracks_np, cols)"
   ]
  },
  {
   "cell_type": "code",
   "execution_count": 4,
   "metadata": {},
   "outputs": [
    {
     "output_type": "execute_result",
     "data": {
      "text/plain": "<module 'larndsim.detsim' from '/Users/soleti/dune/larnd-sim/larndsim/detsim.py'>"
     },
     "metadata": {},
     "execution_count": 4
    }
   ],
   "source": [
    "import larndsim.detsim as detsim\n",
    "importlib.reload(detsim)"
   ]
  },
  {
   "cell_type": "markdown",
   "metadata": {},
   "source": [
    "Here we pass our columnar data through the quenching and drifting stages, so we calculate the amount of electrons that reach the anode."
   ]
  },
  {
   "cell_type": "code",
   "execution_count": 5,
   "metadata": {},
   "outputs": [],
   "source": [
    "tracks_np = tracks.to_numpy()\n",
    "cols = nb.typed.Dict()\n",
    "for i, c, in enumerate(tracks.columns):\n",
    "    cols[c] = i"
   ]
  },
  {
   "cell_type": "code",
   "execution_count": 6,
   "metadata": {
    "tags": []
   },
   "outputs": [],
   "source": [
    "quenching.Quench(tracks_np, cols, mode=\"box\")"
   ]
  },
  {
   "cell_type": "code",
   "execution_count": 7,
   "metadata": {},
   "outputs": [],
   "source": [
    "drifting.Drift(tracks_np, cols)"
   ]
  },
  {
   "cell_type": "code",
   "execution_count": 8,
   "metadata": {},
   "outputs": [],
   "source": [
    "selectedTracks = tracks_np[:100]"
   ]
  },
  {
   "cell_type": "markdown",
   "metadata": {},
   "source": [
    "Here we instantiate a TPC class with a determined number of pixels per axis and a determined sampling in time."
   ]
  },
  {
   "cell_type": "code",
   "execution_count": 9,
   "metadata": {},
   "outputs": [],
   "source": [
    "tpc = detsim.TPC(cols, t_sampling=1, n_pixels=333)"
   ]
  },
  {
   "cell_type": "markdown",
   "metadata": {},
   "source": [
    "## Charge distribution calculation\n",
    "Here we calculate the current induced by each track on the pixels, taking into account longitudinal and transverse diffusion. The track segment is parametrized as:\n",
    "\\begin{align}\n",
    "x'(r') &=x_s + \\frac{\\Delta x}{\\Delta r}r'\\\\\n",
    "y'(r') &=y_s + \\frac{\\Delta y}{\\Delta r}r'\\\\\n",
    "z'(r') &=z_s + \\frac{\\Delta z}{\\Delta r}r',\n",
    "\\end{align}\n",
    "where $\\Delta r$ is the segment length. Here we assume $z$ as the drift direction.\n",
    "The diffused charge distribution is calculated with the following integral:\n",
    "\\begin{equation}\n",
    "\\rho(x,y,z) = \\frac{Q}{\\sqrt{(2\\pi)^3}\\sigma_x\\sigma_y\\sigma_z\\Delta r}\\exp\\left[-\\frac{(x-x_s)^2}{2\\sigma_x^2}-\\frac{(y-y_s)^2}{2\\sigma_y^2}-\\frac{(z-z_s)^2}{2\\sigma_z^2}\\right]\\int^{r'=\\Delta r}_{r'=0}dr'\\exp[-(ar'^2+br')],\n",
    "\\end{equation}\n",
    "where \n",
    "\\begin{align}\n",
    "a &= \\left[\\left(\\frac{\\Delta x}{\\Delta r}\\right)^2\\frac{1}{2\\sigma_x^2} + \\left(\\frac{\\Delta y}{\\Delta r}\\right)^2\\frac{1}{2\\sigma_y^2} + \\left(\\frac{\\Delta z}{\\Delta r}\\right)^2\\frac{1}{2\\sigma_z^2} \\right]\\\\\n",
    "b &= -\\left[\\frac{(x-x_s)}{\\sigma_x^2}\\frac{\\Delta x}{\\Delta r}+\n",
    "\\frac{(y-y_s)}{\\sigma_y^2}\\frac{\\Delta y}{\\Delta r}+\n",
    "\\frac{(z-z_s)}{\\sigma_z^2}\\frac{\\Delta z}{\\Delta r}\\right].\n",
    "\\end{align}\n",
    "\n",
    "The simmetry of the transverse diffusion along the track allows to take a slice on the $xy$ plane and solve the integral once at a fixed $z$ coordinate (e.g. at $z_{m} = (z_s+z_e)/2$) and re-use it at other $z$ coordinates away from the endpoints (where $\\rho(x,y,z)$ varies along $z$ so must be calculated at each $z$). "
   ]
  },
  {
   "cell_type": "code",
   "execution_count": 10,
   "metadata": {},
   "outputs": [],
   "source": [
    "for t in selectedTracks:\n",
    "    tpcimport larndsim.detsim as detsim\n",
    "importlib.reload(detsim).calculate_current(t)"
   ]
  },
  {
   "cell_type": "markdown",
   "metadata": {},
   "source": [
    "## Track and pixel display\n",
    "Here we show the selected tracks and the pixels affected by them. The color of the pixel correspond to the integrated induced current."
   ]
  },
  {
   "cell_type": "code",
   "execution_count": 11,
   "metadata": {},
   "outputs": [
    {
     "output_type": "display_data",
     "data": {
      "text/plain": "Canvas(toolbar=Toolbar(toolitems=[('Home', 'Reset original view', 'home', 'home'), ('Back', 'Back to previous …",
      "application/vnd.jupyter.widget-view+json": {
       "version_major": 2,
       "version_minor": 0,
       "model_id": "222e303163d649dfa58e995c97c625d0"
      }
     },
     "metadata": {}
    },
    {
     "output_type": "execute_result",
     "data": {
      "text/plain": "(-7.0, 7.0)"
     },
     "metadata": {},
     "execution_count": 11
    }
   ],
   "source": [
    "%matplotlib widget\n",
    "fig = plt.figure(constrained_layout=True)\n",
    "ax = fig.add_subplot(111, projection='3d')\n",
    "\n",
    "currents = np.array([sum(tpc.pixel_response(p)) for p in tpc.active_pixels])\n",
    "norm = mpl.colors.LogNorm(vmin=min(currents[currents>0]), vmax=max(currents))\n",
    "cmap = cm.viridis\n",
    "m = cm.ScalarMappable(norm=norm, cmap=cmap)\n",
    "\n",
    "\n",
    "for i,p in enumerate(list(tpc.active_pixels.keys())):\n",
    "    rect = plt.Rectangle((p[0]*tpc.x_pixel_size+consts.tpcBorders[0][0],\n",
    "                          p[1]*tpc.y_pixel_size+consts.tpcBorders[1][0]),\n",
    "                         tpc.x_pixel_size,tpc.y_pixel_size,\n",
    "                         linewidth=0,\n",
    "                         edgecolor='grey', \n",
    "                         facecolor=m.to_rgba(currents[i]), label='Pixel')\n",
    "    ax.add_patch(rect)\n",
    "    art3d.pathpatch_2d_to_3d(rect, z=-50, zdir=\"z\")\n",
    "    \n",
    "for t in selectedTracks:\n",
    "    ax.plot((t[cols['x_start']], t[cols['x_end']]), \n",
    "            (t[cols['y_start']], t[cols['y_end']]),\n",
    "            (t[cols['z_start']], t[cols['z_end']]),\n",
    "            c='r',\n",
    "            zorder=99999)\n",
    "    ax.scatter((t[cols['x_start']], t[cols['x_end']]), \n",
    "               (t[cols['y_start']], t[cols['y_end']]),\n",
    "               (t[cols['z_start']], t[cols['z_end']]),\n",
    "               c='r')\n",
    "\n",
    "ax.set_xlabel(\"$x$ coordinate [cm]\")\n",
    "ax.set_ylabel(\"$y$ coordinate [cm]\")\n",
    "ax.set_zlabel(\"$z$ coordinate [cm]\")\n",
    "ax.set_zlim3d(-50,50)\n",
    "ax.set_xlim3d(80,95)\n",
    "ax.set_ylim3d(-7,7)"
   ]
  },
  {
   "cell_type": "code",
   "execution_count": 12,
   "metadata": {},
   "outputs": [
    {
     "output_type": "display_data",
     "data": {
      "text/plain": "Canvas(toolbar=Toolbar(toolitems=[('Home', 'Reset original view', 'home', 'home'), ('Back', 'Back to previous …",
      "application/vnd.jupyter.widget-view+json": {
       "version_major": 2,
       "version_minor": 0,
       "model_id": "9a3c0df958db49b2b9988541ef270b33"
      }
     },
     "metadata": {}
    }
   ],
   "source": [
    "fig,ax = plt.subplots(1,1, constrained_layout=True)\n",
    "currents = np.array([sum(tpc.pixel_response(p)) for p in tpc.active_pixels])\n",
    "\n",
    "for i,p in enumerate(list(tpc.active_pixels.keys())):\n",
    "    if currents[i]:\n",
    "        rect = plt.Rectangle((p[0]*tpc.x_pixel_size+consts.tpcBorders[0][0],\n",
    "                              p[1]*tpc.y_pixel_size+consts.tpcBorders[1][0]),\n",
    "                             tpc.x_pixel_size,tpc.y_pixel_size,\n",
    "                             linewidth=0.3,\n",
    "                             edgecolor='grey', \n",
    "                             facecolor=m.to_rgba(currents[i]), label='Pixel')\n",
    "        ax.add_patch(rect)\n",
    "    \n",
    "for t in selectedTracks:\n",
    "    ax.plot((t[cols['x_start']], t[cols['x_end']]), \n",
    "            (t[cols['y_start']], t[cols['y_end']]),\n",
    "            c='r',\n",
    "            zorder=10)\n",
    "    ax.scatter((t[cols['x_start']], t[cols['x_end']]), \n",
    "               (t[cols['y_start']], t[cols['y_end']]),\n",
    "               c='r',\n",
    "               s=10,\n",
    "               zorder=10)\n",
    "# ax.set_xlim(-6,6)\n",
    "# ax.set_ylim(-6,6)\n",
    "\n",
    "ax.set_xlabel(\"$x$ coordinate [cm]\")\n",
    "ax.set_ylabel(\"$y$ coordinate [cm]\")\n",
    "ax.set_aspect(\"equal\")\n",
    "ticks = np.arange(-6, 6, tpc.x_pixel_size)\n",
    "# ax.set_xticks(ticks, minor=True)\n",
    "# ax.set_yticks(ticks, minor=True)\n",
    "# ax.grid(True, which='both')\n",
    "_ = plt.colorbar(m,fraction=0.046, pad=0.04, label='Current integral [a.u.]')"
   ]
  },
  {
   "cell_type": "code",
   "execution_count": 13,
   "metadata": {
    "tags": []
   },
   "outputs": [
    {
     "output_type": "display_data",
     "data": {
      "text/plain": "Canvas(toolbar=Toolbar(toolitems=[('Home', 'Reset original view', 'home', 'home'), ('Back', 'Back to previous …",
      "application/vnd.jupyter.widget-view+json": {
       "version_major": 2,
       "version_minor": 0,
       "model_id": "eebca48cd34941a1b8b8d720e5fe8637"
      }
     },
     "metadata": {}
    },
    {
     "output_type": "execute_result",
     "data": {
      "text/plain": "Text(0, 0.5, 'Current [a.u.]')"
     },
     "metadata": {},
     "execution_count": 13
    }
   ],
   "source": [
    "fig, ax = plt.subplots(1,1, constrained_layout=True)\n",
    "pixelID = tpc.pixel_from_coordinates(83.6,1.8)\n",
    "current = tpc.pixel_response(pixelID)\n",
    "ax.plot(tpc.anode_t, current, label='Current')\n",
    "ax.set_xlim(300,380)  \n",
    "ax.set_title(\"Pixel (%i,%i) at (%g, %g)\" % (pixelID[0], pixelID[1], \n",
    "                                      (pixelID[0] + tpc.x_pixel_size/2)*tpc.x_pixel_size+consts.tpcBorders[0][0], \n",
    "                                      (pixelID[1] + tpc.y_pixel_size/2)*tpc.y_pixel_size+consts.tpcBorders[1][0]))\n",
    "ax.set_xlabel(\"Time [$\\mathrm{\\mu}$s]\")\n",
    "ax.set_ylabel(\"Current [a.u.]\")\n",
    "# ax.set_yscale(\"log\")\n",
    "# ax.set_ylim(1,1e7)"
   ]
  },
  {
   "cell_type": "code",
   "execution_count": null,
   "metadata": {},
   "outputs": [],
   "source": []
  }
 ],
 "metadata": {
  "kernelspec": {
   "display_name": "Python 3",
   "language": "python",
   "name": "python3"
  },
  "language_info": {
   "codemirror_mode": {
    "name": "ipython",
    "version": 3
   },
   "file_extension": ".py",
   "mimetype": "text/x-python",
   "name": "python",
   "nbconvert_exporter": "python",
   "pygments_lexer": "ipython3",
   "version": "3.8.5"
  }
 },
 "nbformat": 4,
 "nbformat_minor": 4
}