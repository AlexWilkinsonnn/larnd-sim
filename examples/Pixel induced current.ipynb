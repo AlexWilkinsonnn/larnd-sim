{
 "cells": [
  {
   "cell_type": "markdown",
   "metadata": {},
   "source": [
    "# Pixel induced current\n",
    "In this notebook we load a track dataset and we calculate the current induced on the pixels placed at the anode."
   ]
  },
  {
   "cell_type": "code",
   "execution_count": 1,
   "metadata": {},
   "outputs": [],
   "source": [
    "# This is need so you can import larndsim without doing python setup.py install\n",
    "import os,sys,inspect\n",
    "currentdir = os.path.dirname(os.path.abspath(inspect.getfile(inspect.currentframe())))\n",
    "parentdir = os.path.dirname(currentdir)\n",
    "sys.path.insert(0,parentdir) "
   ]
  },
  {
   "cell_type": "code",
   "execution_count": 2,
   "metadata": {},
   "outputs": [],
   "source": [
    "from larndsim import consts, quenching, drifting, detsim, pixels_from_track\n",
    "import importlib\n",
    "importlib.reload(drifting)\n",
    "importlib.reload(quenching)\n",
    "importlib.reload(consts)\n",
    "\n",
    "import numpy as np\n",
    "import matplotlib.pyplot as plt\n",
    "import matplotlib as mpl\n",
    "import matplotlib.cm as cm\n",
    "from mpl_toolkits.mplot3d import Axes3D\n",
    "import mpl_toolkits.mplot3d.art3d as art3d\n",
    "\n",
    "import pickle\n",
    "import numpy as np\n",
    "import numba as nb\n",
    "import pandas as pd\n",
    "from numba import cuda\n",
    "from math import ceil, sqrt, pi, exp, erf\n",
    "from time import time"
   ]
  },
  {
   "cell_type": "markdown",
   "metadata": {},
   "source": [
    "Here we load the dataset with the tracks and we store the column cols corresponding to the each variable."
   ]
  },
  {
   "cell_type": "code",
   "execution_count": 3,
   "metadata": {},
   "outputs": [
    {
     "name": "stderr",
     "output_type": "stream",
     "text": [
      "/global/homes/s/soleti/.conda/envs/numbaenv/lib/python3.7/site-packages/numba/core/dispatcher.py:238: UserWarning: Numba extension module 'numba_scipy' failed to load due to 'ValueError(No function '__pyx_fuse_0pdtr' found in __pyx_capi__ of 'scipy.special.cython_special')'.\n",
      "  entrypoints.init_all()\n"
     ]
    }
   ],
   "source": [
    "tracks_dict = pickle.load(open('edepsimDataset.p', 'rb'))\n",
    "tracks = pd.DataFrame.from_dict(tracks_dict)\n",
    "tracks['t'] = 0.\n",
    "tracks['t_start'] = 0.\n",
    "tracks['t_end'] = 0.\n",
    "tracks['x_start'] = tracks_dict['z_start'] \n",
    "tracks['z_start'] = tracks_dict['x_start'] \n",
    "tracks['x_end'] = tracks_dict['z_end'] \n",
    "tracks['z_end'] = tracks_dict['x_end'] \n",
    "\n",
    "tracks['z_start'] /= 1e2\n",
    "tracks['z_end'] /= 1e2\n",
    "tracks['y_start'] /= 1e2\n",
    "tracks['y_end'] /= 1e2\n",
    "tracks['x_start'] /= 1e2\n",
    "tracks['x_end'] /= 1e2\n",
    "\n",
    "tracks['dx'] = np.sqrt(pow(tracks['x_end']-tracks['x_start'], 2) +\n",
    "                    pow(tracks['y_end']-tracks['y_start'], 2) +\n",
    "                    pow(tracks['z_end']-tracks['z_start'], 2))\n",
    "tracks['x'] = (tracks['x_end']+tracks['x_start'])/2\n",
    "tracks['y'] = (tracks['y_end']+tracks['y_start'])/2\n",
    "tracks['z'] = (tracks['z_end']+tracks['z_start'])/2\n",
    "tracks['dE'] = np.abs(tracks['dE'])*1e3\n",
    "tracks['dEdx'] = tracks['dE']/tracks['dx']\n",
    "tracks['NElectrons'] = 0.\n",
    "tracks['longDiff'] = 0.\n",
    "tracks['tranDiff'] = 0.\n",
    "\n",
    "tracks_np = tracks.to_numpy()\n",
    "cols = nb.typed.Dict()\n",
    "for i, c, in enumerate(tracks.columns):\n",
    "    cols[c] = i\n",
    "\n",
    "tracks_np = np.ascontiguousarray(tracks_np)\n",
    "d_tracks_np = cuda.to_device(tracks_np)"
   ]
  },
  {
   "cell_type": "code",
   "execution_count": 4,
   "metadata": {},
   "outputs": [],
   "source": [
    "threadsperblock = 128\n",
    "blockspergrid = ceil(tracks_np.shape[0] / threadsperblock)\n",
    "quenching.GPU_Quench[threadsperblock,blockspergrid](d_tracks_np, consts.box)\n",
    "drifting.GPU_Drift[threadsperblock,blockspergrid](d_tracks_np)"
   ]
  },
  {
   "cell_type": "markdown",
   "metadata": {},
   "source": [
    "## Charge distribution calculation\n",
    "Here we calculate the current induced by each track on the pixels, taking into account longitudinal and transverse diffusion. The track segment is parametrized as:\n",
    "\\begin{align}\n",
    "x'(r') &=x_s + \\frac{\\Delta x}{\\Delta r}r'\\\\\n",
    "y'(r') &=y_s + \\frac{\\Delta y}{\\Delta r}r'\\\\\n",
    "z'(r') &=z_s + \\frac{\\Delta z}{\\Delta r}r',\n",
    "\\end{align}\n",
    "where $\\Delta r$ is the segment length. Here we assume $z$ as the drift direction.\n",
    "The diffused charge distribution is calculated with the following integral:\n",
    "\\begin{equation}\n",
    "\\rho(x,y,z) = \\frac{Q}{\\sqrt{(2\\pi)^3}\\sigma_x\\sigma_y\\sigma_z\\Delta r}\\exp\\left[-\\frac{(x-x_s)^2}{2\\sigma_x^2}-\\frac{(y-y_s)^2}{2\\sigma_y^2}-\\frac{(z-z_s)^2}{2\\sigma_z^2}\\right]\\int^{r'=\\Delta r}_{r'=0}dr'\\exp[-(ar'^2+br')],\n",
    "\\end{equation}\n",
    "where \n",
    "\\begin{align}\n",
    "a &= \\left[\\left(\\frac{\\Delta x}{\\Delta r}\\right)^2\\frac{1}{2\\sigma_x^2} + \\left(\\frac{\\Delta y}{\\Delta r}\\right)^2\\frac{1}{2\\sigma_y^2} + \\left(\\frac{\\Delta z}{\\Delta r}\\right)^2\\frac{1}{2\\sigma_z^2} \\right]\\\\\n",
    "b &= -\\left[\\frac{(x-x_s)}{\\sigma_x^2}\\frac{\\Delta x}{\\Delta r}+\n",
    "\\frac{(y-y_s)}{\\sigma_y^2}\\frac{\\Delta y}{\\Delta r}+\n",
    "\\frac{(z-z_s)}{\\sigma_z^2}\\frac{\\Delta z}{\\Delta r}\\right].\n",
    "\\end{align}\n",
    "\n",
    "The simmetry of the transverse diffusion along the track allows to take a slice on the $xy$ plane and solve the integral once at a fixed $z$ coordinate (e.g. at $z_{m} = (z_s+z_e)/2$) and re-use it at other $z$ coordinates away from the endpoints (where $\\rho(x,y,z)$ varies along $z$ so must be calculated at each $z$). "
   ]
  },
  {
   "cell_type": "code",
   "execution_count": 5,
   "metadata": {},
   "outputs": [],
   "source": [
    "t_sampling = 1\n",
    "anode_t = np.linspace(consts.time_interval[0], \n",
    "                      consts.time_interval[1], \n",
    "                      int(round(consts.time_interval[1]-consts.time_interval[0])/t_sampling))"
   ]
  },
  {
   "cell_type": "code",
   "execution_count": 6,
   "metadata": {},
   "outputs": [],
   "source": [
    "nn = np.logspace(0,2,10,dtype=np.int32)\n",
    "times_gpu = []\n",
    "times_gpu_memory = []\n",
    "\n",
    "for n in nn:\n",
    "    selected_tracks = d_tracks_np[:n]\n",
    "    threadsperblock = 128\n",
    "    blockspergrid = ceil(selected_tracks.shape[0] / threadsperblock)\n",
    "    \n",
    "    active_pixels = np.zeros(shape=(selected_tracks.shape[0], 10, 2))\n",
    "    neighboring_pixels = np.full((selected_tracks.shape[0], 50, 2), -1)\n",
    "    n_pixels_list = np.zeros(shape=(selected_tracks.shape[0]))\n",
    "\n",
    "    pixels_from_track.get_pixels[threadsperblock,blockspergrid](selected_tracks, \n",
    "                                                                active_pixels, \n",
    "                                                                neighboring_pixels, \n",
    "                                                                n_pixels_list)\n",
    "    signals = np.zeros((selected_tracks.shape[0], \n",
    "                        neighboring_pixels.shape[1], \n",
    "                        anode_t.shape[0]), dtype=np.float32)\n",
    "\n",
    "    threadsperblock = (128,128,128)\n",
    "    blockspergrid_x = ceil(signals.shape[0] / threadsperblock[0])\n",
    "    blockspergrid_y = ceil(signals.shape[1] / threadsperblock[1])\n",
    "    blockspergrid_z = ceil(signals.shape[2] / threadsperblock[2])\n",
    "    blockspergrid = (blockspergrid_x, blockspergrid_y, blockspergrid_z)\n",
    "    \n",
    "    slice_size = 20\n",
    "    start = time()\n",
    "    d_signals = cuda.to_device(signals)\n",
    "    d_pixels = cuda.to_device(neighboring_pixels)\n",
    "    d_selected_tracks = cuda.to_device(selected_tracks)\n",
    "    d_anode_t = cuda.to_device(anode_t)\n",
    "    start_nomemory = time()\n",
    "    detsim.tracks_current[threadsperblock, blockspergrid](d_signals, \n",
    "                                                          d_pixels, \n",
    "                                                          d_selected_tracks, \n",
    "                                                          d_anode_t, \n",
    "                                                          t_sampling, \n",
    "                                                          slice_size)\n",
    "    end_nomemory = time()\n",
    "    end = time()\n",
    "    times_gpu.append(end_nomemory-start_nomemory)\n",
    "    times_gpu_memory.append(end-start)"
   ]
  },
  {
   "cell_type": "code",
   "execution_count": 7,
   "metadata": {},
   "outputs": [],
   "source": [
    "nn_cpu = np.logspace(0,3,10,dtype=np.int32)\n",
    "times_cpu = [0.01742410659790039,\n",
    "             0.050868988037109375,\n",
    "             0.059677839279174805,\n",
    "             0.12185907363891602,\n",
    "             0.23131489753723145,\n",
    "             0.48302698135375977,\n",
    "             1.0946669578552246,\n",
    "             2.4459469318389893,\n",
    "             5.015509843826294,\n",
    "             11.755344152450562]"
   ]
  },
  {
   "cell_type": "code",
   "execution_count": 8,
   "metadata": {},
   "outputs": [
    {
     "data": {
      "image/png": "[encoded data removed]",
      "text/plain": [
       "<Figure size 432x288 with 1 Axes>"
      ]
     },
     "metadata": {
      "needs_background": "light"
     },
     "output_type": "display_data"
    }
   ],
   "source": [
    "plt.plot(nn_cpu,times_cpu,label='2.3 GHz Quad-Core Intel i5 CPU')\n",
    "plt.plot(nn, times_gpu, label='%s (w/o memory transfer)' \n",
    "                              % cuda.cudadrv.driver.Device(0).name.decode())\n",
    "plt.plot(nn, times_gpu_memory, label='%s (w/ memory transfer)'\n",
    "                                     % cuda.cudadrv.driver.Device(0).name.decode())\n",
    "plt.xscale(\"log\")\n",
    "plt.yscale(\"log\")\n",
    "plt.ylim(top=1e2)\n",
    "plt.xlabel(\"Number of track segments\")\n",
    "plt.ylabel(\"Time [s]\")\n",
    "_ = plt.legend()"
   ]
  },
  {
   "cell_type": "code",
   "execution_count": 9,
   "metadata": {},
   "outputs": [],
   "source": [
    "float_array = nb.types.float32[::1]\n",
    "pixelID_type = nb.types.Tuple((nb.int64, nb.int64))\n",
    "signal_type = nb.types.ListType(nb.types.Tuple((nb.float64, nb.float64, float_array)))\n",
    "active_pixels = detsim.join_pixel_signals(d_signals.copy_to_host(), neighboring_pixels)"
   ]
  },
  {
   "cell_type": "code",
   "execution_count": 10,
   "metadata": {},
   "outputs": [],
   "source": [
    "currents = np.array([sum(detsim.pixel_response(active_pixels[p], anode_t)) for p in active_pixels.keys()])"
   ]
  },
  {
   "cell_type": "code",
   "execution_count": 11,
   "metadata": {},
   "outputs": [
    {
     "data": {
      "image/png": "[encoded data removed]",
      "text/plain": [
       "<Figure size 432x288 with 2 Axes>"
      ]
     },
     "metadata": {
      "needs_background": "light"
     },
     "output_type": "display_data"
    }
   ],
   "source": [
    "norm = mpl.colors.LogNorm(vmin=min(currents[currents>0]), vmax=max(currents))\n",
    "cmap = cm.viridis\n",
    "m = cm.ScalarMappable(norm=norm, cmap=cmap)\n",
    "\n",
    "fig, ax = plt.subplots(1,1)\n",
    "for i,p in enumerate(active_pixels.keys()):\n",
    "    if currents[i]:\n",
    "        rect = plt.Rectangle(((p[0])*consts.pixel_size[0]+consts.tpc_borders[0][0],\n",
    "                              (p[1])*consts.pixel_size[1]+consts.tpc_borders[1][0]),\n",
    "                             consts.pixel_size[0],consts.pixel_size[1],\n",
    "                             linewidth=0.3,\n",
    "                             edgecolor='grey', \n",
    "                             facecolor=m.to_rgba(currents[i]), label='Pixel')\n",
    "        ax.add_patch(rect)\n",
    "    \n",
    "for t in selected_tracks:\n",
    "    ax.plot((t[cols['x_start']], t[cols['x_end']]), \n",
    "            (t[cols['y_start']], t[cols['y_end']]),\n",
    "            c='r',\n",
    "            zorder=10)\n",
    "    ax.scatter((t[cols['x_start']], t[cols['x_end']]), \n",
    "               (t[cols['y_start']], t[cols['y_end']]),\n",
    "               c='r',\n",
    "               s=10,\n",
    "               zorder=10)\n",
    "\n",
    "ax.set_xlabel(\"$x$ coordinate [cm]\")\n",
    "ax.set_ylabel(\"$y$ coordinate [cm]\")\n",
    "ax.set_aspect(\"equal\")\n",
    "_ = plt.colorbar(m,fraction=0.046, pad=0.04, label='Current integral [a.u.]')"
   ]
  },
  {
   "cell_type": "code",
   "execution_count": 12,
   "metadata": {},
   "outputs": [
    {
     "name": "stderr",
     "output_type": "stream",
     "text": [
      "/global/u1/s/soleti/larnd-sim/larndsim/detsim.py:278: NumbaWarning: \n",
      "Compilation is falling back to object mode WITH looplifting enabled because Function \"pixel_from_coordinates\" failed type inference due to: No implementation of function Function(<function digitize at 0x2aaaafecadd0>) found for signature:\n",
      " \n",
      " >>> digitize(float64, array(float64, 1d, C))\n",
      " \n",
      "There are 2 candidate implementations:\n",
      "   - Of which 2 did not match due to:\n",
      "   Overload of function 'digitize': File: numba/np/arraymath.py: Line 3562.\n",
      "     With argument(s): '(float64, array(float64, 1d, C))':\n",
      "    No match.\n",
      "\n",
      "During: resolving callee type: Function(<function digitize at 0x2aaaafecadd0>)\n",
      "During: typing of call at /global/u1/s/soleti/larnd-sim/larndsim/detsim.py (293)\n",
      "\n",
      "\n",
      "File \"../larndsim/detsim.py\", line 293:\n",
      "def pixel_from_coordinates(x, y, n_pixels):\n",
      "    <source elided>\n",
      "    y_pixel = np.linspace(tpc_borders[1][0], tpc_borders[1][1], n_pixels)\n",
      "    return np.digitize(x, x_pixel), np.digitize(y, y_pixel)\n",
      "    ^\n",
      "\n",
      "  @nb.jit\n",
      "/global/homes/s/soleti/.conda/envs/numbaenv/lib/python3.7/site-packages/numba/core/object_mode_passes.py:178: NumbaWarning: Function \"pixel_from_coordinates\" was compiled in object mode without forceobj=True.\n",
      "\n",
      "File \"../larndsim/detsim.py\", line 279:\n",
      "@nb.jit\n",
      "def pixel_from_coordinates(x, y, n_pixels):\n",
      "^\n",
      "\n",
      "  state.func_ir.loc))\n",
      "/global/homes/s/soleti/.conda/envs/numbaenv/lib/python3.7/site-packages/numba/core/object_mode_passes.py:188: NumbaDeprecationWarning: \n",
      "Fall-back from the nopython compilation path to the object mode compilation path has been detected, this is deprecated behaviour.\n",
      "\n",
      "For more information visit http://numba.pydata.org/numba-doc/latest/reference/deprecation.html#deprecation-of-object-mode-fall-back-behaviour-when-using-jit\n",
      "\n",
      "File \"../larndsim/detsim.py\", line 279:\n",
      "@nb.jit\n",
      "def pixel_from_coordinates(x, y, n_pixels):\n",
      "^\n",
      "\n",
      "  state.func_ir.loc))\n"
     ]
    },
    {
     "data": {
      "text/plain": [
       "Text(0, 0.5, 'Current [a.u.]')"
      ]
     },
     "execution_count": 12,
     "metadata": {},
     "output_type": "execute_result"
    },
    {
     "data": {
      "image/png": "[encoded data removed]",
      "text/plain": [
       "<Figure size 432x288 with 1 Axes>"
      ]
     },
     "metadata": {
      "needs_background": "light"
     },
     "output_type": "display_data"
    }
   ],
   "source": [
    "fig, ax = plt.subplots(1,1, constrained_layout=True)\n",
    "pixelID = detsim.pixel_from_coordinates(83.6,1.8,consts.n_pixels)\n",
    "current = detsim.pixel_response(active_pixels[pixelID], anode_t)\n",
    "ax.plot(anode_t, current, label='Current')\n",
    "ax.set_xlim(300,380)  \n",
    "ax.set_title(\"Pixel (%i,%i) at (%g, %g)\" % (pixelID[0], pixelID[1], \n",
    "                                      (pixelID[0] + consts.pixel_size[0]/2)*consts.pixel_size[0]+consts.tpc_borders[0][0], \n",
    "                                      (pixelID[1] + consts.pixel_size[0]/2)*consts.pixel_size[1]+consts.tpc_borders[1][0]))\n",
    "ax.set_xlabel(\"Time [$\\mathrm{\\mu}$s]\")\n",
    "ax.set_ylabel(\"Current [a.u.]\")"
   ]
  }
 ],
 "metadata": {
  "kernelspec": {
   "display_name": "NumbaKernel",
   "language": "python",
   "name": "numbaenv"
  },
  "language_info": {
   "codemirror_mode": {
    "name": "ipython",
    "version": 3
   },
   "file_extension": ".py",
   "mimetype": "text/x-python",
   "name": "python",
   "nbconvert_exporter": "python",
   "pygments_lexer": "ipython3",
   "version": "3.7.7"
  }
 },
 "nbformat": 4,
 "nbformat_minor": 4
}
