{
 "cells": [
  {
   "cell_type": "markdown",
   "metadata": {},
   "source": [
    "# Pixel induced current\n",
    "In this notebook we load a track dataset and we calculate the current induced on the pixels placed at the anode."
   ]
  },
  {
   "cell_type": "code",
   "execution_count": null,
   "metadata": {},
   "outputs": [],
   "source": [
    "# This is need so you can import larndsim without doing python setup.py install\n",
    "import os,sys,inspect\n",
    "currentdir = os.path.dirname(os.path.abspath(inspect.getfile(inspect.currentframe())))\n",
    "parentdir = os.path.dirname(currentdir)\n",
    "sys.path.insert(0,parentdir) "
   ]
  },
  {
   "cell_type": "code",
   "execution_count": 2,
   "metadata": {},
   "outputs": [],
   "source": [
    "from larndsim import consts, quenching, drifting, detsim, pixels_from_track\n",
    "from larndsim import indeces as i\n",
    "\n",
    "import importlib\n",
    "importlib.reload(drifting)\n",
    "importlib.reload(quenching)\n",
    "importlib.reload(consts)\n",
    "importlib.reload(pixels_from_track)\n",
    "\n",
    "import numpy as np\n",
    "import matplotlib.pyplot as plt\n",
    "import matplotlib as mpl\n",
    "import matplotlib.cm as cm\n",
    "\n",
    "import pickle\n",
    "import numpy as np\n",
    "import numba as nb\n",
    "import pandas as pd\n",
    "\n",
    "from numba import cuda\n",
    "from math import ceil, sqrt, pi, exp, erf\n",
    "from time import time"
   ]
  },
  {
   "cell_type": "markdown",
   "metadata": {},
   "source": [
    "Here we load the dataset with the tracks and we store the column cols corresponding to the each variable."
   ]
  },
  {
   "cell_type": "code",
   "execution_count": 3,
   "metadata": {},
   "outputs": [],
   "source": [
    "# tracks_dict = pickle.load(open('edepsimDataset.p', 'rb'))\n",
    "# tracks = pd.DataFrame.from_dict(tracks_dict)\n",
    "# tracks['t'] = 0.\n",
    "# tracks['t_start'] = 0.\n",
    "# tracks['t_end'] = 0.\n",
    "# tracks['x_start'] = tracks_dict['z_start'] \n",
    "# tracks['z_start'] = tracks_dict['x_start'] \n",
    "# tracks['x_end'] = tracks_dict['z_end'] \n",
    "# tracks['z_end'] = tracks_dict['x_end'] \n",
    "\n",
    "# tracks['z_start'] /= 1e2\n",
    "# tracks['z_end'] /= 1e2\n",
    "# tracks['y_start'] /= 1e2\n",
    "# tracks['y_end'] /= 1e2\n",
    "# tracks['x_start'] /= 1e2\n",
    "# tracks['x_end'] /= 1e2\n",
    "\n",
    "# tracks['dx'] = np.sqrt(pow(tracks['x_end']-tracks['x_start'], 2) +\n",
    "#                     pow(tracks['y_end']-tracks['y_start'], 2) +\n",
    "#                     pow(tracks['z_end']-tracks['z_start'], 2))\n",
    "# tracks['x'] = (tracks['x_end']+tracks['x_start'])/2\n",
    "# tracks['y'] = (tracks['y_end']+tracks['y_start'])/2\n",
    "# tracks['z'] = (tracks['z_end']+tracks['z_start'])/2\n",
    "# tracks['dE'] = np.abs(tracks['dE'])*1e3\n",
    "# tracks['dEdx'] = tracks['dE']/tracks['dx']\n",
    "# tracks['NElectrons'] = 0.\n",
    "# tracks['longDiff'] = 0.\n",
    "# tracks['tranDiff'] = 0.\n",
    "\n",
    "# tracks_np = tracks.to_numpy()\n",
    "# cols = nb.typed.Dict()\n",
    "# for i, c, in enumerate(tracks.columns):\n",
    "#     cols[c] = i\n",
    "\n",
    "# tracks_np = np.ascontiguousarray(tracks_np)\n",
    "# d_tracks_np = cuda.to_device(tracks_np)"
   ]
  },
  {
   "cell_type": "code",
   "execution_count": 4,
   "metadata": {},
   "outputs": [],
   "source": [
    "tracks_np = pickle.load(open('argoncube_tracks.p', 'rb'))\n",
    "d_tracks_np = cuda.to_device(tracks_np)"
   ]
  },
  {
   "cell_type": "code",
   "execution_count": 5,
   "metadata": {},
   "outputs": [],
   "source": [
    "threadsperblock = 256\n",
    "blockspergrid = ceil(tracks_np.shape[0] / threadsperblock)\n",
    "\n",
    "quenching.Quench[threadsperblock,blockspergrid](d_tracks_np, consts.box)\n",
    "drifting.Drift[threadsperblock,blockspergrid](d_tracks_np)"
   ]
  },
  {
   "cell_type": "code",
   "execution_count": 6,
   "metadata": {},
   "outputs": [],
   "source": [
    "tracks_np = d_tracks_np.copy_to_host()"
   ]
  },
  {
   "cell_type": "code",
   "execution_count": 7,
   "metadata": {},
   "outputs": [
    {
     "data": {
      "text/plain": [
       "<module 'larndsim.consts' from '/global/u1/s/soleti/larnd-sim/larndsim/consts.py'>"
      ]
     },
     "execution_count": 7,
     "metadata": {},
     "output_type": "execute_result"
    }
   ],
   "source": [
    "importlib.reload(detsim)\n",
    "importlib.reload(consts)"
   ]
  },
  {
   "cell_type": "code",
   "execution_count": 8,
   "metadata": {},
   "outputs": [],
   "source": [
    "%load_ext wurlitzer"
   ]
  },
  {
   "cell_type": "markdown",
   "metadata": {},
   "source": [
    "## Charge distribution calculation\n",
    "Here we calculate the current induced by each track on the pixels, taking into account longitudinal and transverse diffusion. The track segment is parametrized as:\n",
    "\\begin{align}\n",
    "x'(r') &=x_s + \\frac{\\Delta x}{\\Delta r}r'\\\\\n",
    "y'(r') &=y_s + \\frac{\\Delta y}{\\Delta r}r'\\\\\n",
    "z'(r') &=z_s + \\frac{\\Delta z}{\\Delta r}r',\n",
    "\\end{align}\n",
    "where $\\Delta r$ is the segment length. Here we assume $z$ as the drift direction.\n",
    "The diffused charge distribution is calculated with the following integral:\n",
    "\\begin{equation}\n",
    "\\rho(x,y,z) = \\frac{Q}{\\sqrt{(2\\pi)^3}\\sigma_x\\sigma_y\\sigma_z\\Delta r}\\exp\\left[-\\frac{(x-x_s)^2}{2\\sigma_x^2}-\\frac{(y-y_s)^2}{2\\sigma_y^2}-\\frac{(z-z_s)^2}{2\\sigma_z^2}\\right]\\int^{r'=\\Delta r}_{r'=0}dr'\\exp[-(ar'^2+br')],\n",
    "\\end{equation}\n",
    "where \n",
    "\\begin{align}\n",
    "a &= \\left[\\left(\\frac{\\Delta x}{\\Delta r}\\right)^2\\frac{1}{2\\sigma_x^2} + \\left(\\frac{\\Delta y}{\\Delta r}\\right)^2\\frac{1}{2\\sigma_y^2} + \\left(\\frac{\\Delta z}{\\Delta r}\\right)^2\\frac{1}{2\\sigma_z^2} \\right]\\\\\n",
    "b &= -\\left[\\frac{(x-x_s)}{\\sigma_x^2}\\frac{\\Delta x}{\\Delta r}+\n",
    "\\frac{(y-y_s)}{\\sigma_y^2}\\frac{\\Delta y}{\\Delta r}+\n",
    "\\frac{(z-z_s)}{\\sigma_z^2}\\frac{\\Delta z}{\\Delta r}\\right].\n",
    "\\end{align}\n",
    "\n",
    "The simmetry of the transverse diffusion along the track allows to take a slice on the $xy$ plane and solve the integral once at a fixed $z$ coordinate (e.g. at $z_{m} = (z_s+z_e)/2$) and re-use it at other $z$ coordinates away from the endpoints (where $\\rho(x,y,z)$ varies along $z$ so must be calculated at each $z$). "
   ]
  },
  {
   "cell_type": "code",
   "execution_count": 9,
   "metadata": {},
   "outputs": [],
   "source": [
    "nn = np.logspace(1,1,1,dtype=np.int32)\n",
    "times_gpu = []\n",
    "times_gpu_memory = []\n",
    "\n",
    "for n in nn:\n",
    "    selected_tracks = d_tracks_np[150:200]\n",
    "    \n",
    "    # Here we find the pixels involved \n",
    "    active_pixels = np.zeros(shape=(selected_tracks.shape[0], 15, 2))\n",
    "    neighboring_pixels = np.full((selected_tracks.shape[0], 50, 2), -1)\n",
    "    n_pixels_list = np.zeros(shape=(selected_tracks.shape[0]))\n",
    "    threadsperblock = 128\n",
    "    blockspergrid = ceil(selected_tracks.shape[0] / threadsperblock)\n",
    "    pixels_from_track.get_pixels[threadsperblock,blockspergrid](selected_tracks, \n",
    "                                                                active_pixels, \n",
    "                                                                neighboring_pixels, \n",
    "                                                                n_pixels_list)\n",
    "\n",
    "    # Here we calculate the track start times and the longest signal time\n",
    "    max_length = np.array([0])\n",
    "    track_starts = np.empty(selected_tracks.shape[0])\n",
    "    blockspergrid = ceil(selected_tracks.shape[0] / threadsperblock)\n",
    "    detsim.time_intervals[threadsperblock, selected_tracks.shape[0]](track_starts, max_length, selected_tracks)\n",
    "    \n",
    "    # Here we calculate the induced current signals\n",
    "    signals = np.zeros((selected_tracks.shape[0], \n",
    "                        neighboring_pixels.shape[1], \n",
    "                        max_length[0]), dtype=np.float32)\n",
    "    threadsperblock = (128, 128, 128)\n",
    "    blockspergrid_x = ceil(signals.shape[0] / threadsperblock[0])\n",
    "    blockspergrid_y = ceil(signals.shape[1] / threadsperblock[1])\n",
    "    blockspergrid_z = ceil(signals.shape[2] / threadsperblock[2])\n",
    "    blockspergrid = (blockspergrid_x, blockspergrid_y, blockspergrid_z)\n",
    "    start = time()\n",
    "    d_signals = cuda.to_device(signals)\n",
    "    d_pixels = cuda.to_device(neighboring_pixels)\n",
    "    start_nomemory = time()\n",
    "    detsim.tracks_current[threadsperblock, blockspergrid](d_signals, \n",
    "                                                          d_pixels, \n",
    "                                                          selected_tracks)\n",
    "    end_nomemory = time()\n",
    "    end = time()\n",
    "    times_gpu.append(end_nomemory-start_nomemory)\n",
    "    times_gpu_memory.append(end-start)"
   ]
  },
  {
   "cell_type": "code",
   "execution_count": 10,
   "metadata": {},
   "outputs": [],
   "source": [
    "nn_cpu = np.logspace(0,3,10,dtype=np.int32)\n",
    "times_cpu = [0.01742410659790039,\n",
    "             0.050868988037109375,\n",
    "             0.059677839279174805,\n",
    "             0.12185907363891602,\n",
    "             0.23131489753723145,\n",
    "             0.48302698135375977,\n",
    "             1.0946669578552246,\n",
    "             2.4459469318389893,\n",
    "             5.015509843826294,\n",
    "             11.755344152450562]"
   ]
  },
  {
   "cell_type": "code",
   "execution_count": 11,
   "metadata": {},
   "outputs": [
    {
     "data": {
      "image/png": "[encoded data removed]",
      "text/plain": [
       "<Figure size 432x288 with 1 Axes>"
      ]
     },
     "metadata": {
      "needs_background": "light"
     },
     "output_type": "display_data"
    }
   ],
   "source": [
    "plt.plot(nn_cpu,times_cpu,label='2.3 GHz Quad-Core Intel i5 CPU')\n",
    "plt.plot(nn, times_gpu, label='%s (w/o memory transfer)' \n",
    "                              % cuda.cudadrv.driver.Device(0).name.decode())\n",
    "plt.plot(nn, times_gpu_memory, label='%s (w/ memory transfer)'\n",
    "                                     % cuda.cudadrv.driver.Device(0).name.decode())\n",
    "plt.xscale(\"log\")\n",
    "plt.yscale(\"log\")\n",
    "plt.ylim(top=1e2)\n",
    "plt.xlabel(\"Number of track segments\")\n",
    "plt.ylabel(\"Time [s]\")\n",
    "_ = plt.legend()\n",
    "plt.savefig(\"times.pdf\")"
   ]
  },
  {
   "cell_type": "code",
   "execution_count": 12,
   "metadata": {},
   "outputs": [
    {
     "name": "stderr",
     "output_type": "stream",
     "text": [
      "/global/homes/s/soleti/.conda/envs/numbaenv/lib/python3.7/site-packages/numba/core/dispatcher.py:238: UserWarning: Numba extension module 'numba_scipy' failed to load due to 'ValueError(No function '__pyx_fuse_0pdtr' found in __pyx_capi__ of 'scipy.special.cython_special')'.\n",
      "  entrypoints.init_all()\n"
     ]
    }
   ],
   "source": [
    "float_array = nb.types.float32[::1]\n",
    "pixelID_type = nb.types.Tuple((nb.int64, nb.int64))\n",
    "signal_type = nb.types.ListType(nb.types.Tuple((nb.float64, nb.float64, float_array)))\n",
    "joined_pixels = detsim.join_pixel_signals(d_signals.copy_to_host(), neighboring_pixels, \n",
    "                                          track_starts, max_length[0])"
   ]
  },
  {
   "cell_type": "code",
   "execution_count": 13,
   "metadata": {},
   "outputs": [],
   "source": [
    "currents = np.array([sum(detsim.pixel_response(joined_pixels[p], consts.time_ticks)) for p in joined_pixels.keys()])"
   ]
  },
  {
   "cell_type": "code",
   "execution_count": 14,
   "metadata": {},
   "outputs": [
    {
     "data": {
      "image/png": "[encoded data removed]",
      "text/plain": [
       "<Figure size 576x576 with 2 Axes>"
      ]
     },
     "metadata": {
      "needs_background": "light"
     },
     "output_type": "display_data"
    }
   ],
   "source": [
    "norm = mpl.colors.LogNorm(vmin=min(currents[currents>0]), vmax=max(currents))\n",
    "cmap = cm.viridis\n",
    "m = cm.ScalarMappable(norm=norm, cmap=cmap)\n",
    "\n",
    "fig, ax = plt.subplots(1,1,figsize=(8,8))\n",
    "for ip,p in enumerate(joined_pixels.keys()):\n",
    "    if currents[ip]:\n",
    "        rect = plt.Rectangle(((p[0])*consts.pixel_size[0]+consts.tpc_borders[0][0],\n",
    "                              (p[1])*consts.pixel_size[1]+consts.tpc_borders[1][0]),\n",
    "                             consts.pixel_size[0],consts.pixel_size[1],\n",
    "                             linewidth=0.3,\n",
    "                             edgecolor='grey', \n",
    "                             facecolor=m.to_rgba(currents[ip]), label='Pixel')\n",
    "        ax.add_patch(rect)\n",
    "    \n",
    "for t in selected_tracks:\n",
    "    ax.plot((t[i.x_start], t[i.x_end]), \n",
    "            (t[i.y_start], t[i.y_end]),\n",
    "            c='r',\n",
    "            zorder=10)\n",
    "    ax.scatter((t[i.x_start], t[i.x_end]), \n",
    "               (t[i.y_start], t[i.y_end]),\n",
    "               c='r',\n",
    "               s=10,\n",
    "               zorder=10)\n",
    "\n",
    "ax.set_xlabel(\"$x$ coordinate [cm]\")\n",
    "ax.set_ylabel(\"$y$ coordinate [cm]\")\n",
    "ax.set_aspect(\"equal\")\n",
    "# ax.set_xlim(92,94)\n",
    "ax.set_ylim(top=-52)\n",
    "_ = plt.colorbar(m,fraction=0.049, pad=0.04, label='Current integral [C]')\n",
    "fig.savefig(\"charge.pdf\")"
   ]
  },
  {
   "cell_type": "code",
   "execution_count": 15,
   "metadata": {},
   "outputs": [
    {
     "data": {
      "image/png": "[encoded data removed]",
      "text/plain": [
       "<Figure size 432x288 with 1 Axes>"
      ]
     },
     "metadata": {
      "needs_background": "light"
     },
     "output_type": "display_data"
    }
   ],
   "source": [
    "fig, ax = plt.subplots(1,1, constrained_layout=True)\n",
    "pixelID = detsim.pixel_from_coordinates(92.54, -53.55, consts.n_pixels)\n",
    "current = detsim.pixel_response(joined_pixels[pixelID], consts.time_ticks)\n",
    "ax.plot(consts.time_ticks, current, label='Current')\n",
    "ax.set_xlim(200,270)  \n",
    "# ax.set_yscale(\"log\")\n",
    "ax.set_title(\"Pixel (%i,%i) at (%g, %g)\" % (pixelID[0], pixelID[1], \n",
    "                                            pixelID[0]*consts.pixel_size[0] + consts.pixel_size[0]/2 + consts.tpc_borders[0][0], \n",
    "                                            pixelID[1]*consts.pixel_size[1] + consts.pixel_size[1]/2 + consts.tpc_borders[1][0]))\n",
    "ax.set_xlabel(\"Time [$\\mathrm{\\mu}$s]\")\n",
    "ax.set_ylabel(\"Current [a.u.]\")\n",
    "fig.savefig(\"current.pdf\")"
   ]
  }
 ],
 "metadata": {
  "kernelspec": {
   "display_name": "NumbaKernel",
   "language": "python",
   "name": "numbaenv"
  },
  "language_info": {
   "codemirror_mode": {
    "name": "ipython",
    "version": 3
   },
   "file_extension": ".py",
   "mimetype": "text/x-python",
   "name": "python",
   "nbconvert_exporter": "python",
   "pygments_lexer": "ipython3",
   "version": "3.7.7"
  }
 },
 "nbformat": 4,
 "nbformat_minor": 4
}
