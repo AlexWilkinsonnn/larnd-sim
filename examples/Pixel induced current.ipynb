{
 "cells": [
  {
   "cell_type": "markdown",
   "metadata": {},
   "source": [
    "# Pixel induced current\n",
    "In this notebook we load a track dataset and we calculate the current induced on the pixels placed at the anode."
   ]
  },
  {
   "cell_type": "code",
   "execution_count": 245,
   "metadata": {},
   "outputs": [],
   "source": [
    "# This is need so you can import larndsim without doing python setup.py install\n",
    "import os,sys,inspect\n",
    "currentdir = os.path.dirname(os.path.abspath(inspect.getfile(inspect.currentframe())))\n",
    "parentdir = os.path.dirname(currentdir)\n",
    "sys.path.insert(0,parentdir) "
   ]
  },
  {
   "cell_type": "code",
   "execution_count": 246,
   "metadata": {},
   "outputs": [],
   "source": [
    "from larndsim import detsim\n",
    "\n",
    "import importlib\n",
    "importlib.reload(detsim)\n",
    "from larndsim import consts, quenching, drifting\n",
    "importlib.reload(drifting)\n",
    "importlib.reload(quenching)\n",
    "\n",
    "import matplotlib.pyplot as plt\n",
    "import matplotlib as mpl\n",
    "import matplotlib.cm as cm\n",
    "from mpl_toolkits.mplot3d import Axes3D\n",
    "import mpl_toolkits.mplot3d.art3d as art3d\n",
    "\n",
    "import pickle\n",
    "import numpy as np\n",
    "import numba as nb\n",
    "from tqdm import tqdm_notebook as progress_bar"
   ]
  },
  {
   "cell_type": "markdown",
   "metadata": {},
   "source": [
    "Here we load the dataset with the tracks and we store the column indeces corresponding to the each variable."
   ]
  },
  {
   "cell_type": "code",
   "execution_count": 247,
   "metadata": {},
   "outputs": [],
   "source": [
    "tracks = pickle.load(open('FakeTrackDataSet.p', 'rb'))\n",
    "tracks['t'] = 0.\n",
    "tracks['t_start'] = 0.\n",
    "tracks['t_end'] = 0.\n",
    "\n",
    "tracks['dx'] = np.sqrt(pow(tracks['x_end']-tracks['x_start'], 2) +\n",
    "                    pow(tracks['y_end']-tracks['y_start'], 2) +\n",
    "                    pow(tracks['z_end']-tracks['z_start'], 2))\n",
    "tracks['x'] = (tracks['x_end']+tracks['x_start'])/2\n",
    "tracks['y'] = (tracks['y_end']+tracks['y_start'])/2\n",
    "tracks['z'] = (tracks['z_end']+tracks['z_start'])/2\n",
    "tracks['dE'] = np.abs(tracks['dE'])*1e3\n",
    "tracks['dEdx'] = tracks['dE']/tracks['dx']\n",
    "tracks['NElectrons'] = 0.\n",
    "tracks['longDiff'] = 0.\n",
    "tracks['tranDiff'] = 0."
   ]
  },
  {
   "cell_type": "markdown",
   "metadata": {},
   "source": [
    "Here we pass our columnar data through the quenching and drifting stages, so we calculate the amount of electrons that reach the anode."
   ]
  },
  {
   "cell_type": "code",
   "execution_count": 248,
   "metadata": {},
   "outputs": [],
   "source": [
    "tracks_np = tracks.to_numpy()\n",
    "cols = nb.typed.Dict()\n",
    "for i, c, in enumerate(tracks.columns):\n",
    "    cols[c] = i"
   ]
  },
  {
   "cell_type": "code",
   "execution_count": 249,
   "metadata": {
    "tags": []
   },
   "outputs": [],
   "source": [
    "quenching.Quench(tracks_np, cols, mode=\"box\")"
   ]
  },
  {
   "cell_type": "code",
   "execution_count": 250,
   "metadata": {},
   "outputs": [],
   "source": [
    "drifting.Drift(tracks_np, cols)"
   ]
  },
  {
   "cell_type": "code",
   "execution_count": 251,
   "metadata": {},
   "outputs": [],
   "source": [
    "indeces = {c:i for i, c, in enumerate(tracks.columns)}\n",
    "selectedTracks = tracks_np[(tracks_np[:,cols['trackID']] > 6) & (tracks_np[:,cols['trackID']] < 9)]"
   ]
  },
  {
   "cell_type": "markdown",
   "metadata": {},
   "source": [
    "Here we instantiate a TPC class with a determined number of pixels per axis and a determined sampling in time."
   ]
  },
  {
   "cell_type": "code",
   "execution_count": 252,
   "metadata": {},
   "outputs": [],
   "source": [
    "tpc = detsim.TPC(t_sampling=1, n_pixels=1000, **indeces)"
   ]
  },
  {
   "cell_type": "markdown",
   "metadata": {},
   "source": [
    "Here we calculate the current induced by each track on the pixels."
   ]
  },
  {
   "cell_type": "code",
   "execution_count": 253,
   "metadata": {
    "tags": []
   },
   "outputs": [
    {
     "data": {
      "application/vnd.jupyter.widget-view+json": {
       "model_id": "2927d73fc9be437f89e97bde841d382d",
       "version_major": 2,
       "version_minor": 0
      },
      "text/plain": [
       "HBox(children=(FloatProgress(value=0.0, description='Processing tracks...', max=2.0, style=ProgressStyle(descr…"
      ]
     },
     "metadata": {},
     "output_type": "display_data"
    },
    {
     "data": {
      "application/vnd.jupyter.widget-view+json": {
       "model_id": "4567cfec018442d8b8e51d6d2aa1a65f",
       "version_major": 2,
       "version_minor": 0
      },
      "text/plain": [
       "HBox(children=(FloatProgress(value=0.0, description='Calculating pixel response...', max=363.0, style=Progress…"
      ]
     },
     "metadata": {},
     "output_type": "display_data"
    },
    {
     "name": "stdout",
     "output_type": "stream",
     "text": [
      "\n"
     ]
    },
    {
     "data": {
      "application/vnd.jupyter.widget-view+json": {
       "model_id": "d40496fb2ab742deacb5598788bdba3b",
       "version_major": 2,
       "version_minor": 0
      },
      "text/plain": [
       "HBox(children=(FloatProgress(value=0.0, description='Calculating pixel response...', max=381.0, style=Progress…"
      ]
     },
     "metadata": {},
     "output_type": "display_data"
    },
    {
     "name": "stdout",
     "output_type": "stream",
     "text": [
      "\n",
      "\n"
     ]
    }
   ],
   "source": [
    "for t in progress_bar(selectedTracks, desc='Processing tracks...'):\n",
    "    img = tpc.calculateCurrent(t)"
   ]
  },
  {
   "cell_type": "code",
   "execution_count": 256,
   "metadata": {},
   "outputs": [],
   "source": [
    "%load_ext line_profiler"
   ]
  },
  {
   "cell_type": "code",
   "execution_count": 259,
   "metadata": {},
   "outputs": [
    {
     "data": {
      "application/vnd.jupyter.widget-view+json": {
       "model_id": "dd2494f791a041fa90386f393aa56bb1",
       "version_major": 2,
       "version_minor": 0
      },
      "text/plain": [
       "HBox(children=(FloatProgress(value=0.0, description='Calculating pixel response...', max=363.0, style=Progress…"
      ]
     },
     "metadata": {},
     "output_type": "display_data"
    },
    {
     "name": "stdout",
     "output_type": "stream",
     "text": [
      "\n"
     ]
    },
    {
     "data": {
      "text/plain": [
       "Timer unit: 1e-06 s\n",
       "\n",
       "Total time: 1.25219 s\n",
       "File: /Users/soleti/dune/larnd-sim/larndsim/detsim.py\n",
       "Function: calculateCurrent at line 207\n",
       "\n",
       "Line #      Hits         Time  Per Hit   % Time  Line Contents\n",
       "==============================================================\n",
       "   207                                               def calculateCurrent(self, track):\n",
       "   208         1       7400.0   7400.0      0.6          pixelsIDs = self.getPixels(track)\n",
       "   209                                           \n",
       "   210         1          5.0      5.0      0.0          xs, xe = track[self.ixStart], track[self.ixEnd]\n",
       "   211         1          1.0      1.0      0.0          ys, ye = track[self.iyStart], track[self.iyEnd]\n",
       "   212         1          3.0      3.0      0.0          zs, ze = track[self.izStart], track[self.izEnd]\n",
       "   213                                           \n",
       "   214         1          7.0      7.0      0.0          startVector = np.array([xs, ys, zs])\n",
       "   215         1          3.0      3.0      0.0          endVector = np.array([xe, ye, ze])\n",
       "   216         1          9.0      9.0      0.0          segmentVector = endVector - startVector\n",
       "   217                                           \n",
       "   218         1         52.0     52.0      0.0          length = np.linalg.norm(segmentVector)\n",
       "   219                                           \n",
       "   220         1          6.0      6.0      0.0          direction = segmentVector/length\n",
       "   221                                           \n",
       "   222         2         10.0      5.0      0.0          sigmas = np.array([track[self.iTranDiff].item()*100,\n",
       "   223         1          2.0      2.0      0.0                             track[self.iTranDiff].item()*100,\n",
       "   224         1          2.0      2.0      0.0                             track[self.iLongDiff].item()*100])\n",
       "   225                                           \n",
       "   226         2         81.0     40.5      0.0          trackCharge = TrackCharge(track[self.iNElectrons],\n",
       "   227         1          4.0      4.0      0.0                                    np.array([xs, ys, zs]),\n",
       "   228         1          3.0      3.0      0.0                                    np.array([xe, ye, ze]),\n",
       "   229         1          1.0      1.0      0.0                                    sigmas=sigmas)\n",
       "   230                                           \n",
       "   231         1          3.0      3.0      0.0          endcap_size = 3*track[self.iLongDiff].item()*100\n",
       "   232         1         94.0     94.0      0.0          x = np.linspace((xe+xs)/2 - self.x_pixel_size * 2, (xe + xs) / 2 + self.x_pixel_size * 2, 10)\n",
       "   233         1         75.0     75.0      0.0          y = np.linspace((ye+ys)/2 - self.y_pixel_size * 2, (ye + ys) / 2 + self.y_pixel_size * 2, 10)\n",
       "   234         1          2.0      2.0      0.0          z = (ze+zs)/2\n",
       "   235                                           \n",
       "   236         1          3.0      3.0      0.0          z_sampling = self.t_sampling * consts.vdrift\n",
       "   237         1        132.0    132.0      0.0          xv, yv, zv = np.meshgrid(x, y, z)\n",
       "   238         1        108.0    108.0      0.0          weights = trackCharge.rho(xv, yv, zv)\n",
       "   239         1          2.0      2.0      0.0          weights_bulk = weights.ravel()\n",
       "   240                                           \n",
       "   241         1          4.0      4.0      0.0          t_start = (track[self.itStart]-20) // self.t_sampling * self.t_sampling\n",
       "   242         1          3.0      3.0      0.0          t_end = (track[self.itEnd]+20) // self.t_sampling * self.t_sampling\n",
       "   243         1          2.0      2.0      0.0          t_length = t_end-t_start\n",
       "   244         1         73.0     73.0      0.0          time_interval = np.linspace(t_start, t_end, round(t_length/self.t_sampling))\n",
       "   245                                           \n",
       "   246         1          2.0      2.0      0.0          weights_endcap = {}\n",
       "   247         1          1.0      1.0      0.0          zIntervals = {}\n",
       "   248       364        620.0      1.7      0.0          for pixelID in pixelsIDs:\n",
       "   249       363        607.0      1.7      0.0              pID = (pixelID[0], pixelID[1])\n",
       "   250       363      19355.0     53.3      1.5              z_start, z_end = self.getZInterval(track, pID)\n",
       "   251       363        724.0      2.0      0.1              zIntervals[pID] = (z_start, z_end)\n",
       "   252                                                       \n",
       "   253       363      29821.0     82.2      2.4              z_range = np.linspace(z_start, z_end, ceil((z_end-z_start)/z_sampling))\n",
       "   254       363       3799.0     10.5      0.3              z_endcaps_range = z_range[(z_range >= ze - endcap_size) | (z_range <= zs + endcap_size)]\n",
       "   255       384       1379.0      3.6      0.1              for z in z_endcaps_range:\n",
       "   256        21       5652.0    269.1      0.5                  xv, yv, zv = self._getSliceCoordinates(startVector, direction, z)\n",
       "   257        21       2986.0    142.2      0.2                  weights_endcap[z] = trackCharge.rho(xv, yv, zv)\n",
       "   258                                           \n",
       "   259                                           \n",
       "   260       364      81343.0    223.5      6.5          for pixelID in progress_bar(pixelsIDs, desc=\"Calculating pixel response...\"):\n",
       "   261       363        579.0      1.6      0.0              pID = (pixelID[0], pixelID[1])\n",
       "   262       363        776.0      2.1      0.1              z_start, z_end = zIntervals[pID]\n",
       "   263                                           \n",
       "   264       363       6412.0     17.7      0.5              signal = np.zeros_like(time_interval)\n",
       "   265                                           \n",
       "   266       363       3791.0     10.4      0.3              x_p = pID[0] * self.x_pixel_size+consts.tpcBorders[0][0] + self.x_pixel_size / 2\n",
       "   267       363       2188.0      6.0      0.2              y_p = pID[1] * self.y_pixel_size+consts.tpcBorders[1][0] + self.y_pixel_size / 2\n",
       "   268                                           \n",
       "   269       363      23348.0     64.3      1.9              z_range = np.linspace(z_start, z_end, ceil((z_end-z_start)/z_sampling))\n",
       "   270                                           \n",
       "   271       363        629.0      1.7      0.1              if z_range.size <= 1:\n",
       "   272         3          3.0      1.0      0.0                  continue\n",
       "   273                                           \n",
       "   274      2269       4910.0      2.2      0.4              for z in z_range:\n",
       "   275      1909     425195.0    222.7     34.0                  xv, yv, zv = self._getSliceCoordinates(startVector, direction, z)\n",
       "   276                                           \n",
       "   277      1909       2901.0      1.5      0.2                  weights = weights_bulk\n",
       "   278      1909       4685.0      2.5      0.4                  if z >= ze - endcap_size or z <= zs + endcap_size:\n",
       "   279        21         39.0      1.9      0.0                      weights = weights_endcap[z]\n",
       "   280                                           \n",
       "   281      1909     535009.0    280.3     42.7                  signals = self._getSliceSignal(x_p, y_p, z, weights, xv, yv, time_interval)\n",
       "   282      1909      82999.0     43.5      6.6                  signal += np.sum(signals, axis=0) * (x[1]-x[0]) * (y[1]-y[0]) * (z_range[1]-z_range[0])\n",
       "   283                                           \n",
       "   284       360       2108.0      5.9      0.2              pixelSignal = PixelSignal(pID, int(track[self.iTrackID]), signal, (t_start, t_end))\n",
       "   285       360       1049.0      2.9      0.1              if pID in self.activePixels:\n",
       "   286       360       1187.0      3.3      0.1                  self.activePixels[pID].append(pixelSignal)\n",
       "   287                                                       else:\n",
       "   288                                                           self.activePixels[pID] = [pixelSignal]"
      ]
     },
     "metadata": {},
     "output_type": "display_data"
    }
   ],
   "source": [
    "%lprun -f tpc.calculateCurrent tpc.calculateCurrent(selectedTracks[0])"
   ]
  },
  {
   "cell_type": "markdown",
   "metadata": {},
   "source": [
    "## Track and pixel display\n",
    "Here we show the selected tracks and the pixels affected by them. The color of the pixel correspond to the integrated induced current."
   ]
  },
  {
   "cell_type": "code",
   "execution_count": 254,
   "metadata": {},
   "outputs": [
    {
     "data": {
      "application/vnd.jupyter.widget-view+json": {
       "model_id": "8df155c73f7148e7b4f8241312515542",
       "version_major": 2,
       "version_minor": 0
      },
      "text/plain": [
       "Canvas(toolbar=Toolbar(toolitems=[('Home', 'Reset original view', 'home', 'home'), ('Back', 'Back to previous …"
      ]
     },
     "metadata": {},
     "output_type": "display_data"
    }
   ],
   "source": [
    "%matplotlib widget\n",
    "fig = plt.figure()\n",
    "ax = fig.add_subplot(111, projection='3d')\n",
    "\n",
    "currents = np.array([sum(tpc.getPixelResponse(p)) for p in tpc.activePixels])\n",
    "norm = mpl.colors.LogNorm(vmin=min(currents[currents>0]), vmax=max(currents))\n",
    "cmap = cm.viridis\n",
    "m = cm.ScalarMappable(norm=norm, cmap=cmap)\n",
    "\n",
    "\n",
    "for i,p in enumerate(list(tpc.activePixels.keys())):\n",
    "    rect = plt.Rectangle((p[0]*tpc.x_pixel_size+consts.tpcBorders[0][0],\n",
    "                          p[1]*tpc.y_pixel_size+consts.tpcBorders[1][0]),\n",
    "                         tpc.x_pixel_size,tpc.y_pixel_size,\n",
    "                         linewidth=0,\n",
    "                         edgecolor='grey', \n",
    "                         facecolor=m.to_rgba(currents[i]), label='Pixel')\n",
    "    ax.add_patch(rect)\n",
    "    art3d.pathpatch_2d_to_3d(rect, z=150, zdir=\"z\")\n",
    "    \n",
    "for t in selectedTracks:\n",
    "    ax.plot((t[indeces['x_start']], t[indeces['x_end']]), \n",
    "            (t[indeces['y_start']], t[indeces['y_end']]),\n",
    "            (t[indeces['z_start']], t[indeces['z_end']]),\n",
    "            c='r')\n",
    "    ax.scatter((t[indeces['x_start']], t[indeces['x_end']]), \n",
    "               (t[indeces['y_start']], t[indeces['y_end']]),\n",
    "               (t[indeces['z_start']], t[indeces['z_end']]),\n",
    "               c='r')\n",
    "\n",
    "ax.set_xlabel(\"$x$ coordinate [cm]\")\n",
    "ax.set_ylabel(\"$y$ coordinate [cm]\")\n",
    "ax.set_zlabel(\"$z$ coordinate [cm]\")\n",
    "ax.set_zlim3d(150,50)\n",
    "ax.set_xlim3d(-80,-130)\n",
    "ax.set_ylim3d(55,100)\n",
    "\n",
    "_ = plt.colorbar(m,fraction=0.046, pad=0.04, label='Current integral')"
   ]
  },
  {
   "cell_type": "code",
   "execution_count": 255,
   "metadata": {},
   "outputs": [
    {
     "data": {
      "application/vnd.jupyter.widget-view+json": {
       "model_id": "dc5e84e06d254241b0c982c247e799a4",
       "version_major": 2,
       "version_minor": 0
      },
      "text/plain": [
       "Canvas(toolbar=Toolbar(toolitems=[('Home', 'Reset original view', 'home', 'home'), ('Back', 'Back to previous …"
      ]
     },
     "metadata": {},
     "output_type": "display_data"
    }
   ],
   "source": [
    "%matplotlib widget\n",
    "fig,ax = plt.subplots(1,1, constrained_layout=True)\n",
    "\n",
    "for i,p in enumerate(list(tpc.activePixels.keys())):\n",
    "    rect = plt.Rectangle((p[0]*tpc.x_pixel_size+consts.tpcBorders[0][0],\n",
    "                          p[1]*tpc.y_pixel_size+consts.tpcBorders[1][0]),\n",
    "                         tpc.x_pixel_size,tpc.y_pixel_size,\n",
    "                         linewidth=0.3,\n",
    "                         edgecolor='grey', \n",
    "                         facecolor=m.to_rgba(currents[i]), label='Pixel')\n",
    "    ax.add_patch(rect)\n",
    "    \n",
    "for t in selectedTracks:\n",
    "    ax.plot((t[indeces['x_start']], t[indeces['x_end']]), \n",
    "            (t[indeces['y_start']], t[indeces['y_end']]),\n",
    "            c='r',\n",
    "            zorder=10)\n",
    "#     ax.scatter((t[indeces['x_start']], t[indeces['x_end']]), \n",
    "#                (t[indeces['y_start']], t[indeces['y_end']]),\n",
    "#                c='r',\n",
    "#                zorder=10)\n",
    "\n",
    "ax.set_xlabel(\"$x$ coordinate [cm]\")\n",
    "ax.set_ylabel(\"$y$ coordinate [cm]\")\n",
    "ax.set_aspect(\"equal\")\n",
    "_ = plt.colorbar(m,fraction=0.046, pad=0.04, label='Current integral')"
   ]
  },
  {
   "cell_type": "markdown",
   "metadata": {},
   "source": [
    "## Pixel induced current\n",
    "We are able to plot the current induced on each pixel. The `getPixelFromCoordinates` allows to get the pixel ID corresponding to a specific $(x,y)$ pair of coordinates."
   ]
  },
  {
   "cell_type": "code",
   "execution_count": 12,
   "metadata": {},
   "outputs": [
    {
     "data": {
      "application/vnd.jupyter.widget-view+json": {
       "model_id": "28892909822e4c1ba499173233b1c820",
       "version_major": 2,
       "version_minor": 0
      },
      "text/plain": [
       "Canvas(toolbar=Toolbar(toolitems=[('Home', 'Reset original view', 'home', 'home'), ('Back', 'Back to previous …"
      ]
     },
     "metadata": {},
     "output_type": "display_data"
    }
   ],
   "source": [
    "fig, ax = plt.subplots(1,1, constrained_layout=True)\n",
    "pixelID = tpc.getPixelFromCoordinates(-111.8,72.3)\n",
    "current = tpc.getPixelResponse(pixelID)\n",
    "ax.plot(tpc.anode_t, current, label='Current')\n",
    "ax.set_xlim(1100,1500) \n",
    "ax.set_title(\"Pixel (%i,%i) at (%.2f, %2.f)\" % (pixelID[0], \n",
    "                                      pixelID[1], \n",
    "                                      (pixelID[0] + 0.5)*tpc.x_pixel_size-150, \n",
    "                                      (pixelID[1] + 0.5)*tpc.y_pixel_size-150))\n",
    "ax.set_xlabel(\"Time [$\\mathrm{\\mu}$s]\")\n",
    "_ = ax.legend()"
   ]
  }
 ],
 "metadata": {
  "kernelspec": {
   "display_name": "Python 3",
   "language": "python",
   "name": "python3"
  },
  "language_info": {
   "codemirror_mode": {
    "name": "ipython",
    "version": 3
   },
   "file_extension": ".py",
   "mimetype": "text/x-python",
   "name": "python",
   "nbconvert_exporter": "python",
   "pygments_lexer": "ipython3",
   "version": "3.8.4"
  }
 },
 "nbformat": 4,
 "nbformat_minor": 4
}
