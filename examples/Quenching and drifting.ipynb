{
 "cells": [
  {
   "cell_type": "markdown",
   "metadata": {},
   "source": [
    "# Quenching and drifting examples\n",
    "In this notebook we apply the quenching and drifting stages to a track dataset"
   ]
  },
  {
   "cell_type": "code",
   "execution_count": 1,
   "metadata": {},
   "outputs": [],
   "source": [
    "# This is need so you can import larndsim without doing python setup.py install\n",
    "import os,sys,inspect\n",
    "currentdir = os.path.dirname(os.path.abspath(inspect.getfile(inspect.currentframe())))\n",
    "parentdir = os.path.dirname(currentdir)\n",
    "sys.path.insert(0,parentdir) "
   ]
  },
  {
   "cell_type": "code",
   "execution_count": 2,
   "metadata": {},
   "outputs": [
    {
     "ename": "NameError",
     "evalue": "name 'importlib' is not defined",
     "output_type": "error",
     "traceback": [
      "\u001b[0;31m---------------------------------------------------------------------------\u001b[0m",
      "\u001b[0;31mNameError\u001b[0m                                 Traceback (most recent call last)",
      "\u001b[0;32m<ipython-input-2-c7e8741f50f9>\u001b[0m in \u001b[0;36m<module>\u001b[0;34m\u001b[0m\n\u001b[1;32m      2\u001b[0m \u001b[0;34m\u001b[0m\u001b[0m\n\u001b[1;32m      3\u001b[0m \u001b[0;32mfrom\u001b[0m \u001b[0mlarndsim\u001b[0m \u001b[0;32mimport\u001b[0m \u001b[0mconsts\u001b[0m\u001b[0;34m,\u001b[0m \u001b[0mquenching\u001b[0m\u001b[0;34m,\u001b[0m \u001b[0mdrifting\u001b[0m\u001b[0;34m\u001b[0m\u001b[0;34m\u001b[0m\u001b[0m\n\u001b[0;32m----> 4\u001b[0;31m \u001b[0mimportlib\u001b[0m\u001b[0;34m.\u001b[0m\u001b[0mreload\u001b[0m\u001b[0;34m(\u001b[0m\u001b[0mdrifting\u001b[0m\u001b[0;34m)\u001b[0m\u001b[0;34m\u001b[0m\u001b[0;34m\u001b[0m\u001b[0m\n\u001b[0m\u001b[1;32m      5\u001b[0m \u001b[0mimportlib\u001b[0m\u001b[0;34m.\u001b[0m\u001b[0mreload\u001b[0m\u001b[0;34m(\u001b[0m\u001b[0mquenching\u001b[0m\u001b[0;34m)\u001b[0m\u001b[0;34m\u001b[0m\u001b[0;34m\u001b[0m\u001b[0m\n\u001b[1;32m      6\u001b[0m \u001b[0;34m\u001b[0m\u001b[0m\n",
      "\u001b[0;31mNameError\u001b[0m: name 'importlib' is not defined"
     ]
    }
   ],
   "source": [
    "from larndsim import indeces as i\n",
    "\n",
    "from larndsim import consts, quenching, drifting\n",
    "importlib.reload(drifting)\n",
    "importlib.reload(quenching)\n",
    "\n",
    "import matplotlib.pyplot as plt\n",
    "\n",
    "import pickle\n",
    "import numpy as np\n",
    "import numba as nb\n",
    "from math import ceil"
   ]
  },
  {
   "cell_type": "code",
   "execution_count": null,
   "metadata": {},
   "outputs": [],
   "source": [
    "tracks_np = pickle.load(open('cosmic_qc_tpc.p', 'rb'))\n",
    "tracks_np = np.vstack(list(tracks_np.values())).T"
   ]
  },
  {
   "cell_type": "code",
   "execution_count": null,
   "metadata": {},
   "outputs": [],
   "source": [
    "tracks_box = np.copy(tracks_np)\n",
    "tracks_birks = np.copy(tracks_np)"
   ]
  },
  {
   "cell_type": "code",
   "execution_count": null,
   "metadata": {},
   "outputs": [],
   "source": [
    "threadsperblock = 256\n",
    "blockspergrid = ceil(tracks_np.shape[0] / threadsperblock)\n",
    "\n",
    "quenching.quench[blockspergrid,threadsperblock](tracks_box, consts.box)\n",
    "quenching.quench[blockspergrid,threadsperblock](tracks_birks, consts.birks)"
   ]
  },
  {
   "cell_type": "markdown",
   "metadata": {},
   "source": [
    "## Recombination\n",
    "\n",
    "The number of ionized electrons must be corrected by the recombination effect. Two models have been implemented:\n",
    "\n",
    "- Birks (Amoruso et al. NIM A 523 (2004) 275)\n",
    "\\begin{equation}\n",
    "R_{Birks} = \\frac{A_b}{1+k_b/\\epsilon\\cdot dE/dx }\n",
    "\\end{equation}\n",
    "\n",
    "- Modified box (Baller, 2013 JINST 8 P08005)\n",
    "\\begin{equation}\n",
    "R_{box} = \\frac{\\log(\\alpha + \\beta \\frac{dE/dx}{E\\rho})}{\\beta/\\epsilon\\cdot dE/dx}\n",
    "\\end{equation}\n",
    "\n",
    "where $\\epsilon=E\\rho_{\\mathrm{LAr}}$."
   ]
  },
  {
   "cell_type": "code",
   "execution_count": null,
   "metadata": {},
   "outputs": [],
   "source": [
    "fig, ax = plt.subplots(1, 1)\n",
    "\n",
    "recomb_birks = tracks_birks[:,i.n_electrons] / (consts.MeVToElectrons * tracks_birks[:,i.dE])\n",
    "recomb_box = tracks_box[:,i.n_electrons] / (consts.MeVToElectrons * tracks_box[:,i.dE])\n",
    "\n",
    "ax.scatter(tracks_box[:,i.dEdx], recomb_box, label=\"Box model\")\n",
    "ax.scatter(tracks_birks[:,i.dEdx], recomb_birks, label=\"Birks model\")\n",
    "ax.set_xlabel(\"$dE/dx$ [MeV/cm]\")\n",
    "ax.set_ylabel(\"Recombination factor\")\n",
    "ax.set_xlim(1,10)\n",
    "_ = ax.legend()"
   ]
  },
  {
   "cell_type": "code",
   "execution_count": null,
   "metadata": {},
   "outputs": [],
   "source": [
    "quenching.quench[blockspergrid,threadsperblock](tracks_np, consts.box)\n",
    "tracks_quenched = np.copy(tracks_np)\n",
    "drifting.drift[blockspergrid,threadsperblock](tracks_np)\n",
    "tracks_drifted = np.copy(tracks_np)"
   ]
  },
  {
   "cell_type": "markdown",
   "metadata": {},
   "source": [
    "## Electron lifetime\n",
    "The electrons traveling towards the anode are absorbed by impurities present in the liquid argon. The decrease follows an exponential curve $N_e^{\\mathrm{anode}}/N_e=\\exp(-t_{\\mathrm{drift}}/e_{\\mathrm{lifetime}})$."
   ]
  },
  {
   "cell_type": "code",
   "execution_count": null,
   "metadata": {},
   "outputs": [],
   "source": [
    "fig, ax = plt.subplots(1, 1)\n",
    "ax.scatter(tracks_quenched[:,i.z], tracks_drifted[:,i.n_electrons]/tracks_quenched[:,i.n_electrons])\n",
    "ax.set_ylabel(\"$N_{e}^{\\mathrm{anode}}/N_{e}$\")\n",
    "_ = ax.set_xlabel(\"$z$ coordinate [cm]\")"
   ]
  },
  {
   "cell_type": "markdown",
   "metadata": {},
   "source": [
    "## Diffusion\n",
    "The diffusion coefficients (longitudinal and transverse) are proportional to $\\sqrt{2t_{\\mathrm{drift}}}$ (which in turn is given by $(z_{\\mathrm{start}} - z_{\\mathrm{anode}})/v_{\\mathrm{drift}}$)."
   ]
  },
  {
   "cell_type": "code",
   "execution_count": null,
   "metadata": {},
   "outputs": [],
   "source": [
    "fig, ax = plt.subplots(1, 1)\n",
    "ax.scatter(tracks_quenched[:,i.z], tracks_np[:,i.long_diff], label=\"Longitudinal diffusion\")\n",
    "ax.scatter(tracks_quenched[:,i.z], tracks_np[:,i.tran_diff], label=\"Transverse diffusion\")\n",
    "ax.set_xlabel(\"$z$ start coordinate [cm]\")\n",
    "ax.set_ylabel(\"Diffusion coefficient\")\n",
    "# ax.set_ylim(5e-5,1e-3)\n",
    "# ax.set_yscale(\"log\")\n",
    "_ = ax.legend()"
   ]
  }
 ],
 "metadata": {
  "kernelspec": {
   "display_name": "NumbaKernel",
   "language": "python",
   "name": "numbaenv"
  },
  "language_info": {
   "codemirror_mode": {
    "name": "ipython",
    "version": 3
   },
   "file_extension": ".py",
   "mimetype": "text/x-python",
   "name": "python",
   "nbconvert_exporter": "python",
   "pygments_lexer": "ipython3",
   "version": "3.7.7"
  }
 },
 "nbformat": 4,
 "nbformat_minor": 4
}
