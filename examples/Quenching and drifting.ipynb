{
 "cells": [
  {
   "cell_type": "markdown",
   "metadata": {},
   "source": [
    "# Quenching and drifting examples\n",
    "In this notebook we apply the quenching and drifting stages to a track dataset"
   ]
  },
  {
   "cell_type": "code",
   "execution_count": null,
   "metadata": {},
   "outputs": [],
   "source": [
    "# This is need so you can import larndsim without doing python setup.py install\n",
    "import os,sys,inspect\n",
    "currentdir = os.path.dirname(os.path.abspath(inspect.getfile(inspect.currentframe())))\n",
    "parentdir = os.path.dirname(currentdir)\n",
    "sys.path.insert(0,parentdir) "
   ]
  },
  {
   "cell_type": "code",
   "execution_count": null,
   "metadata": {},
   "outputs": [],
   "source": [
    "from larndsim import detsim\n",
    "\n",
    "import importlib\n",
    "importlib.reload(detsim)\n",
    "from larndsim import consts, quenching, drifting\n",
    "importlib.reload(drifting)\n",
    "importlib.reload(quenching)\n",
    "\n",
    "import matplotlib.pyplot as plt\n",
    "\n",
    "import pickle\n",
    "import numpy as np\n",
    "import numba as nb\n",
    "\n",
    "from tqdm import tqdm_notebook as progress_bar"
   ]
  },
  {
   "cell_type": "code",
   "execution_count": 3,
   "metadata": {},
   "outputs": [],
   "source": [
    "tracks = pickle.load(open('FakeTrackDataSet.p', 'rb'))\n",
    "tracks['t'] = 0.\n",
    "tracks['t_start'] = 0.\n",
    "tracks['t_end'] = 0.\n",
    "\n",
    "tracks['dx'] = np.sqrt(pow(tracks['x_end']-tracks['x_start'], 2) +\n",
    "                    pow(tracks['y_end']-tracks['y_start'], 2) +\n",
    "                    pow(tracks['z_end']-tracks['z_start'], 2))\n",
    "tracks['x'] = (tracks['x_end']+tracks['x_start'])/2\n",
    "tracks['y'] = (tracks['y_end']+tracks['y_start'])/2\n",
    "tracks['z'] = (tracks['z_end']+tracks['z_start'])/2\n",
    "tracks['dE'] = np.abs(tracks['dE'])*1e3\n",
    "tracks['dEdx'] = tracks['dE']/tracks['dx']\n",
    "tracks['NElectrons'] = 0.\n",
    "tracks['longDiff'] = 0.\n",
    "tracks['tranDiff'] = 0."
   ]
  },
  {
   "cell_type": "code",
   "execution_count": 4,
   "metadata": {},
   "outputs": [],
   "source": [
    "tracks_np = tracks.to_numpy()\n",
    "cols = nb.typed.Dict()\n",
    "for i, c, in enumerate(tracks.columns):\n",
    "    cols[c] = i"
   ]
  },
  {
   "cell_type": "code",
   "execution_count": 5,
   "metadata": {},
   "outputs": [],
   "source": [
    "tracks_box = np.copy(tracks_np)\n",
    "tracks_birks = np.copy(tracks_np)"
   ]
  },
  {
   "cell_type": "code",
   "execution_count": 6,
   "metadata": {},
   "outputs": [],
   "source": [
    "quenching.Quench(tracks_box, cols, mode=\"box\")\n",
    "quenching.Quench(tracks_birks, cols, mode=\"birks\")"
   ]
  },
  {
   "cell_type": "markdown",
   "metadata": {},
   "source": [
    "## Recombination\n",
    "\n",
    "The number of ionized electrons must be corrected by the recombination effect. Two models have been implemented:\n",
    "\n",
    "- Birks (Amoruso et al. NIM A 523 (2004) 275)\n",
    "\\begin{equation}\n",
    "R_{Birks} = \\frac{A_b}{1+k_b/\\epsilon\\cdot dE/dx }\n",
    "\\end{equation}\n",
    "\n",
    "- Modified box (Baller, 2013 JINST 8 P08005)\n",
    "\\begin{equation}\n",
    "R_{box} = \\frac{\\log(\\alpha + \\beta \\frac{dE/dx}{E\\rho})}{\\beta/\\epsilon\\cdot dE/dx}\n",
    "\\end{equation}\n",
    "\n",
    "where $\\epsilon=E\\rho_{\\mathrm{LAr}}$."
   ]
  },
  {
   "cell_type": "code",
   "execution_count": 11,
   "metadata": {},
   "outputs": [
    {
     "data": {
      "application/vnd.jupyter.widget-view+json": {
       "model_id": "83d4b6f94b2541c593d932dbbfa9c01e",
       "version_major": 2,
       "version_minor": 0
      },
      "text/plain": [
       "Canvas(toolbar=Toolbar(toolitems=[('Home', 'Reset original view', 'home', 'home'), ('Back', 'Back to previous …"
      ]
     },
     "metadata": {},
     "output_type": "display_data"
    }
   ],
   "source": [
    "%matplotlib widget\n",
    "fig, ax = plt.subplots(1, 1)\n",
    "\n",
    "recomb_birks = tracks_birks[:,cols['NElectrons']] / (consts.MeVToElectrons * tracks_birks[:,cols['dE']])\n",
    "recomb_box = tracks_box[:,cols['NElectrons']] / (consts.MeVToElectrons * tracks_box[:,cols['dE']])\n",
    "\n",
    "ax.scatter(tracks_box[:,cols['dEdx']], recomb_box, label=\"Box model\")\n",
    "ax.scatter(tracks_birks[:,cols['dEdx']], recomb_birks, label=\"Birks model\")\n",
    "ax.set_xlabel(\"$dE/dx$ [MeV/cm]\")\n",
    "ax.set_ylabel(\"Recombination factor\")\n",
    "_ = ax.legend()"
   ]
  },
  {
   "cell_type": "code",
   "execution_count": 8,
   "metadata": {},
   "outputs": [],
   "source": [
    "quenching.Quench(tracks_np, cols)\n",
    "tracks_quenched = np.copy(tracks_np)\n",
    "drifting.Drift(tracks_np, cols)\n",
    "tracks_drifted = np.copy(tracks_np)"
   ]
  },
  {
   "cell_type": "markdown",
   "metadata": {},
   "source": [
    "## Electron lifetime\n",
    "The electrons traveling towards the anode are absorbed by impurities present in the liquid argon. The decrease follows an exponential curve $N_e^{\\mathrm{anode}}/N_e=\\exp(-t_{\\mathrm{drift}}/e_{\\mathrm{lifetime}})$."
   ]
  },
  {
   "cell_type": "code",
   "execution_count": 9,
   "metadata": {},
   "outputs": [
    {
     "data": {
      "text/plain": [
       "Text(0.5, 0, '$z$ coordinate [cm]')"
      ]
     },
     "execution_count": 9,
     "metadata": {},
     "output_type": "execute_result"
    },
    {
     "data": {
      "image/png": "[encoded data removed]",
      "text/plain": [
       "<Figure size 432x288 with 1 Axes>"
      ]
     },
     "metadata": {
      "needs_background": "light"
     },
     "output_type": "display_data"
    }
   ],
   "source": [
    "fig, ax = plt.subplots(1, 1)\n",
    "ax.scatter(tracks_quenched[:,cols[\"z\"]], tracks_drifted[:,cols[\"NElectrons\"]]/tracks_quenched[:,cols[\"NElectrons\"]])\n",
    "ax.set_ylabel(\"$N_{e}^{\\mathrm{anode}}/N_{e}$\")\n",
    "ax.set_xlabel(\"$z$ coordinate [cm]\")"
   ]
  },
  {
   "cell_type": "markdown",
   "metadata": {},
   "source": [
    "## Diffusion\n",
    "The diffusion coefficients (longitudinal and transverse) are proportional to $\\sqrt{t_{\\mathrm{drift}}}$ (which in turn is given by $(z_{\\mathrm{start}} - z_{\\mathrm{anode}})/v_{\\mathrm{drift}}$)."
   ]
  },
  {
   "cell_type": "code",
   "execution_count": 12,
   "metadata": {},
   "outputs": [
    {
     "data": {
      "application/vnd.jupyter.widget-view+json": {
       "model_id": "6a9d0050b55d44179bc7673cbb6d9f1d",
       "version_major": 2,
       "version_minor": 0
      },
      "text/plain": [
       "Canvas(toolbar=Toolbar(toolitems=[('Home', 'Reset original view', 'home', 'home'), ('Back', 'Back to previous …"
      ]
     },
     "metadata": {},
     "output_type": "display_data"
    }
   ],
   "source": [
    "fig, ax = plt.subplots(1, 1)\n",
    "ax.scatter(tracks_np[:,cols[\"z_start\"]], tracks_np[:,cols[\"longDiff\"]], label=\"Longitudinal diffusion\")\n",
    "ax.scatter(tracks_np[:,cols[\"z_start\"]], tracks_np[:,cols[\"tranDiff\"]], label=\"Transverse diffusion\")\n",
    "ax.set_xlabel(\"$z$ start coordinate [cm]\")\n",
    "ax.set_ylabel(\"Diffusion coefficient\")\n",
    "_ = ax.legend()"
   ]
  }
 ],
 "metadata": {
  "kernelspec": {
   "display_name": "Python 3",
   "language": "python",
   "name": "python3"
  },
  "language_info": {
   "codemirror_mode": {
    "name": "ipython",
    "version": 3
   },
   "file_extension": ".py",
   "mimetype": "text/x-python",
   "name": "python",
   "nbconvert_exporter": "python",
   "pygments_lexer": "ipython3",
   "version": "3.8.5"
  }
 },
 "nbformat": 4,
 "nbformat_minor": 4
}
