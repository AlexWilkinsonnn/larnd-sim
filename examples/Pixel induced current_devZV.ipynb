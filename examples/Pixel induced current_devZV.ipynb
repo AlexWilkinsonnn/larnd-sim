{
 "cells": [
  {
   "cell_type": "code",
   "execution_count": 1,
   "metadata": {},
   "outputs": [],
   "source": [
    "import os,sys,inspect\n",
    "currentdir = os.path.dirname(os.path.abspath(inspect.getfile(inspect.currentframe())))\n",
    "parentdir = os.path.dirname(currentdir)\n",
    "sys.path.insert(0,parentdir)"
   ]
  },
  {
   "cell_type": "code",
   "execution_count": 2,
   "metadata": {},
   "outputs": [],
   "source": [
    "from larndsim import detsim\n",
    "\n",
    "import importlib\n",
    "from larndsim import consts, quenching, drifting, TPC, pixel_response, diffused_charge\n",
    "importlib.reload(detsim)\n",
    "importlib.reload(drifting)\n",
    "importlib.reload(quenching)\n",
    "importlib.reload(TPC)\n",
    "importlib.reload(pixel_response)\n",
    "importlib.reload(diffused_charge)\n",
    "\n",
    "import matplotlib.pyplot as plt\n",
    "import matplotlib as mpl\n",
    "import matplotlib.cm as cm\n",
    "from mpl_toolkits.mplot3d import Axes3D\n",
    "import mpl_toolkits.mplot3d.art3d as art3d\n",
    "\n",
    "import pickle\n",
    "import numpy as np\n",
    "import numba as nb\n",
    "\n",
    "import math\n",
    "import pandas as pd"
   ]
  },
  {
   "cell_type": "code",
   "execution_count": 3,
   "metadata": {},
   "outputs": [],
   "source": [
    "tracks = pickle.load(open('FakeTrackDataSet.p', 'rb'))\n",
    "tracks['t'] = 0.\n",
    "tracks['t_start'] = 0.\n",
    "tracks['t_end'] = 0.\n",
    "\n",
    "tracks['dx'] = np.sqrt(pow(tracks['x_end']-tracks['x_start'], 2) +\n",
    "                    pow(tracks['y_end']-tracks['y_start'], 2) +\n",
    "                    pow(tracks['z_end']-tracks['z_start'], 2))\n",
    "tracks['x'] = (tracks['x_end']+tracks['x_start'])/2\n",
    "tracks['y'] = (tracks['y_end']+tracks['y_start'])/2\n",
    "tracks['z'] = (tracks['z_end']+tracks['z_start'])/2\n",
    "tracks['dE'] = np.abs(tracks['dE'])*1e3\n",
    "tracks['dEdx'] = tracks['dE']/tracks['dx']\n",
    "tracks['NElectrons'] = 0.\n",
    "tracks['longDiff'] = 0.\n",
    "tracks['tranDiff'] = 0."
   ]
  },
  {
   "cell_type": "code",
   "execution_count": 4,
   "metadata": {},
   "outputs": [],
   "source": [
    "tracks_np = tracks.to_numpy()\n",
    "cols = nb.typed.Dict()\n",
    "for i, c, in enumerate(tracks.columns):\n",
    "    cols[c] = i"
   ]
  },
  {
   "cell_type": "code",
   "execution_count": 5,
   "metadata": {},
   "outputs": [],
   "source": [
    "quenching.Quench(tracks_np, cols)"
   ]
  },
  {
   "cell_type": "code",
   "execution_count": 6,
   "metadata": {},
   "outputs": [],
   "source": [
    "drifting.Drift(tracks_np, cols)"
   ]
  },
  {
   "cell_type": "code",
   "execution_count": 7,
   "metadata": {},
   "outputs": [],
   "source": [
    "selectedTracks = tracks_np[(tracks_np[:,cols['trackID']] > 6) & (tracks_np[:,cols['trackID']] < 9)]"
   ]
  },
  {
   "cell_type": "code",
   "execution_count": 8,
   "metadata": {},
   "outputs": [],
   "source": [
    "PixelSignal = pd.DataFrame(columns = ['track_id','pixel_id','t_range','z_range','current'])\n",
    "\n",
    "for track in selectedTracks:\n",
    "    \n",
    "    pixelIDs = pixel_response.getPixels(track, cols)\n",
    "    zIntervals = pixel_response.getZInterval(track, cols, pixelIDs)\n",
    "    weights = diffused_charge.TrackCharge(track, cols, zIntervals)\n",
    "    pixel_signal = pixel_response.getPixelSignal(track, cols, pixelIDs, zIntervals, weights)\n",
    "    \n",
    "    t_start = (track[cols['t_start']]-20) // TPC.t_sampling * TPC.t_sampling\n",
    "    t_end = (track[cols['t_end']]+20) // TPC.t_sampling * TPC.t_sampling\n",
    "    t_range = (t_start, t_end)\n",
    "    \n",
    "    pixel_df = pd.DataFrame(columns = ['track_id','pixel_id','t_range','z_range','current'])\n",
    "    pixel_df['pixel_id'] = list(pixelIDs)\n",
    "    pixel_df['z_range'] = list(zIntervals)\n",
    "    pixel_df['t_range'] = [t_range] * pixel_df.shape[0]\n",
    "    pixel_df['track_id'] = [track[cols['trackID']]] * pixel_df.shape[0]\n",
    "    pixel_df['current'] = pixel_signal\n",
    "    \n",
    "    PixelSignal = pd.concat([PixelSignal, pixel_df], ignore_index = False, sort = False)\n",
    "\n",
    "PixelSignal = PixelSignal.reset_index(drop = True)"
   ]
  },
  {
   "cell_type": "code",
   "execution_count": 9,
   "metadata": {},
   "outputs": [
    {
     "data": {
      "text/html": [
       "<div>\n",
       "<style scoped>\n",
       "    .dataframe tbody tr th:only-of-type {\n",
       "        vertical-align: middle;\n",
       "    }\n",
       "\n",
       "    .dataframe tbody tr th {\n",
       "        vertical-align: top;\n",
       "    }\n",
       "\n",
       "    .dataframe thead th {\n",
       "        text-align: right;\n",
       "    }\n",
       "</style>\n",
       "<table border=\"1\" class=\"dataframe\">\n",
       "  <thead>\n",
       "    <tr style=\"text-align: right;\">\n",
       "      <th></th>\n",
       "      <th>track_id</th>\n",
       "      <th>pixel_id</th>\n",
       "      <th>t_range</th>\n",
       "      <th>z_range</th>\n",
       "      <th>current</th>\n",
       "    </tr>\n",
       "  </thead>\n",
       "  <tbody>\n",
       "    <tr>\n",
       "      <td>0</td>\n",
       "      <td>7.0</td>\n",
       "      <td>[97, 700]</td>\n",
       "      <td>(1306.5, 1482.5)</td>\n",
       "      <td>[54.07216604728626, 54.643392138921875]</td>\n",
       "      <td>[198.08571111575137, 222.4986776161096, 249.95...</td>\n",
       "    </tr>\n",
       "    <tr>\n",
       "      <td>1</td>\n",
       "      <td>7.0</td>\n",
       "      <td>[97, 701]</td>\n",
       "      <td>(1306.5, 1482.5)</td>\n",
       "      <td>[54.07216604728626, 54.80490693389009]</td>\n",
       "      <td>[166.00642563954864, 188.0243396033396, 212.99...</td>\n",
       "    </tr>\n",
       "    <tr>\n",
       "      <td>2</td>\n",
       "      <td>7.0</td>\n",
       "      <td>[98, 700]</td>\n",
       "      <td>(1306.5, 1482.5)</td>\n",
       "      <td>[54.07216604728626, 54.72380503676886]</td>\n",
       "      <td>[112.78389252653025, 128.83401289359006, 147.1...</td>\n",
       "    </tr>\n",
       "    <tr>\n",
       "      <td>3</td>\n",
       "      <td>7.0</td>\n",
       "      <td>[97, 699]</td>\n",
       "      <td>(1306.5, 1482.5)</td>\n",
       "      <td>[54.07216604728626, 54.44771812479305]</td>\n",
       "      <td>[79.97591420999754, 91.30108479897659, 104.247...</td>\n",
       "    </tr>\n",
       "    <tr>\n",
       "      <td>4</td>\n",
       "      <td>7.0</td>\n",
       "      <td>[96, 700]</td>\n",
       "      <td>(1306.5, 1482.5)</td>\n",
       "      <td>[54.07216604728626, 54.49335181906321]</td>\n",
       "      <td>[92.06010654393671, 104.91700770794108, 119.58...</td>\n",
       "    </tr>\n",
       "    <tr>\n",
       "      <td>...</td>\n",
       "      <td>...</td>\n",
       "      <td>...</td>\n",
       "      <td>...</td>\n",
       "      <td>...</td>\n",
       "      <td>...</td>\n",
       "    </tr>\n",
       "    <tr>\n",
       "      <td>739</td>\n",
       "      <td>8.0</td>\n",
       "      <td>[204, 809]</td>\n",
       "      <td>(1176.5, 1351.5)</td>\n",
       "      <td>[54.50038046751879, 54.80836654123566]</td>\n",
       "      <td>[2.4447982149688277e-13, 2.749883704719429e-13...</td>\n",
       "    </tr>\n",
       "    <tr>\n",
       "      <td>740</td>\n",
       "      <td>8.0</td>\n",
       "      <td>[205, 808]</td>\n",
       "      <td>(1176.5, 1351.5)</td>\n",
       "      <td>[54.544202892994065, 54.80836654123566]</td>\n",
       "      <td>[1.4780997215344684e-14, 1.6760726265631515e-1...</td>\n",
       "    </tr>\n",
       "    <tr>\n",
       "      <td>741</td>\n",
       "      <td>8.0</td>\n",
       "      <td>[205, 809]</td>\n",
       "      <td>(1176.5, 1351.5)</td>\n",
       "      <td>[54.63746334954198, 54.80836654123566]</td>\n",
       "      <td>[1.9266445843207218e-15, 2.196122140163857e-15...</td>\n",
       "    </tr>\n",
       "    <tr>\n",
       "      <td>742</td>\n",
       "      <td>8.0</td>\n",
       "      <td>[205, 807]</td>\n",
       "      <td>(1176.5, 1351.5)</td>\n",
       "      <td>[54.52831040027958, 54.80836654123566]</td>\n",
       "      <td>[2.9691467545592667e-16, 3.4212980363069794e-1...</td>\n",
       "    </tr>\n",
       "    <tr>\n",
       "      <td>743</td>\n",
       "      <td>8.0</td>\n",
       "      <td>[203, 809]</td>\n",
       "      <td>(1176.5, 1351.5)</td>\n",
       "      <td>[54.41022715551166, 54.80836654123566]</td>\n",
       "      <td>[2.5014116857807625e-14, 2.8416178371536444e-1...</td>\n",
       "    </tr>\n",
       "  </tbody>\n",
       "</table>\n",
       "<p>744 rows × 5 columns</p>\n",
       "</div>"
      ],
      "text/plain": [
       "     track_id    pixel_id           t_range  \\\n",
       "0         7.0   [97, 700]  (1306.5, 1482.5)   \n",
       "1         7.0   [97, 701]  (1306.5, 1482.5)   \n",
       "2         7.0   [98, 700]  (1306.5, 1482.5)   \n",
       "3         7.0   [97, 699]  (1306.5, 1482.5)   \n",
       "4         7.0   [96, 700]  (1306.5, 1482.5)   \n",
       "..        ...         ...               ...   \n",
       "739       8.0  [204, 809]  (1176.5, 1351.5)   \n",
       "740       8.0  [205, 808]  (1176.5, 1351.5)   \n",
       "741       8.0  [205, 809]  (1176.5, 1351.5)   \n",
       "742       8.0  [205, 807]  (1176.5, 1351.5)   \n",
       "743       8.0  [203, 809]  (1176.5, 1351.5)   \n",
       "\n",
       "                                     z_range  \\\n",
       "0    [54.07216604728626, 54.643392138921875]   \n",
       "1     [54.07216604728626, 54.80490693389009]   \n",
       "2     [54.07216604728626, 54.72380503676886]   \n",
       "3     [54.07216604728626, 54.44771812479305]   \n",
       "4     [54.07216604728626, 54.49335181906321]   \n",
       "..                                       ...   \n",
       "739   [54.50038046751879, 54.80836654123566]   \n",
       "740  [54.544202892994065, 54.80836654123566]   \n",
       "741   [54.63746334954198, 54.80836654123566]   \n",
       "742   [54.52831040027958, 54.80836654123566]   \n",
       "743   [54.41022715551166, 54.80836654123566]   \n",
       "\n",
       "                                               current  \n",
       "0    [198.08571111575137, 222.4986776161096, 249.95...  \n",
       "1    [166.00642563954864, 188.0243396033396, 212.99...  \n",
       "2    [112.78389252653025, 128.83401289359006, 147.1...  \n",
       "3    [79.97591420999754, 91.30108479897659, 104.247...  \n",
       "4    [92.06010654393671, 104.91700770794108, 119.58...  \n",
       "..                                                 ...  \n",
       "739  [2.4447982149688277e-13, 2.749883704719429e-13...  \n",
       "740  [1.4780997215344684e-14, 1.6760726265631515e-1...  \n",
       "741  [1.9266445843207218e-15, 2.196122140163857e-15...  \n",
       "742  [2.9691467545592667e-16, 3.4212980363069794e-1...  \n",
       "743  [2.5014116857807625e-14, 2.8416178371536444e-1...  \n",
       "\n",
       "[744 rows x 5 columns]"
      ]
     },
     "execution_count": 9,
     "metadata": {},
     "output_type": "execute_result"
    }
   ],
   "source": [
    "PixelSignal"
   ]
  },
  {
   "cell_type": "code",
   "execution_count": 10,
   "metadata": {},
   "outputs": [
    {
     "data": {
      "application/vnd.jupyter.widget-view+json": {
       "model_id": "b896b3824d1f4115a76e8f967a67d3fb",
       "version_major": 2,
       "version_minor": 0
      },
      "text/plain": [
       "Canvas(toolbar=Toolbar(toolitems=[('Home', 'Reset original view', 'home', 'home'), ('Back', 'Back to previous …"
      ]
     },
     "metadata": {},
     "output_type": "display_data"
    },
    {
     "name": "stderr",
     "output_type": "stream",
     "text": [
      "/Users/zoya/opt/anaconda3/lib/python3.7/site-packages/matplotlib/colors.py:509: UserWarning: Warning: converting a masked element to nan.\n",
      "  xa = np.array([X])\n"
     ]
    }
   ],
   "source": [
    "%matplotlib widget\n",
    "fig = plt.figure()\n",
    "ax = fig.add_subplot(111, projection='3d')\n",
    "\n",
    "PixelSignal['sum_current'] = PixelSignal['current'].apply(np.sum)\n",
    "currents = np.array(PixelSignal['sum_current'])\n",
    "norm = mpl.colors.LogNorm(vmin=min(currents[currents>0]), vmax=max(currents))\n",
    "cmap = cm.viridis\n",
    "m = cm.ScalarMappable(norm=norm, cmap=cmap)\n",
    "\n",
    "for i, each in PixelSignal.iterrows():\n",
    "    rect = plt.Rectangle((each['pixel_id'][0]*TPC.x_pixel_size+consts.tpcBorders[0][0],\n",
    "                          each['pixel_id'][1]*TPC.y_pixel_size+consts.tpcBorders[1][0]),\n",
    "                         TPC.x_pixel_size,TPC.y_pixel_size,\n",
    "                         linewidth=0,\n",
    "                         edgecolor='grey', \n",
    "                         facecolor=m.to_rgba(each['sum_current']), label='Pixel')\n",
    "    ax.add_patch(rect)\n",
    "    art3d.pathpatch_2d_to_3d(rect, z=150, zdir=\"z\")\n",
    "\n",
    "for t in selectedTracks:\n",
    "    ax.plot((t[cols['x_start']], t[cols['x_end']]), \n",
    "            (t[cols['y_start']], t[cols['y_end']]),\n",
    "            (t[cols['z_start']], t[cols['z_end']]),\n",
    "            c='r')\n",
    "    ax.scatter((t[cols['x_start']], t[cols['x_end']]), \n",
    "               (t[cols['y_start']], t[cols['y_end']]),\n",
    "               (t[cols['z_start']], t[cols['z_end']]),\n",
    "               c='r')\n",
    "\n",
    "ax.set_xlabel(\"$x$ coordinate [cm]\")\n",
    "ax.set_ylabel(\"$y$ coordinate [cm]\")\n",
    "ax.set_zlabel(\"$z$ coordinate [cm]\")\n",
    "ax.set_zlim3d(150,50)\n",
    "ax.set_xlim3d(-80,-130)\n",
    "ax.set_ylim3d(55,100)\n",
    "\n",
    "_ = plt.colorbar(m,fraction=0.046, pad=0.04, label='Current integral')"
   ]
  },
  {
   "cell_type": "code",
   "execution_count": 11,
   "metadata": {},
   "outputs": [
    {
     "data": {
      "application/vnd.jupyter.widget-view+json": {
       "model_id": "36c5ba6efe014ea59df410601d0f90dd",
       "version_major": 2,
       "version_minor": 0
      },
      "text/plain": [
       "Canvas(toolbar=Toolbar(toolitems=[('Home', 'Reset original view', 'home', 'home'), ('Back', 'Back to previous …"
      ]
     },
     "metadata": {},
     "output_type": "display_data"
    },
    {
     "name": "stderr",
     "output_type": "stream",
     "text": [
      "/Users/zoya/opt/anaconda3/lib/python3.7/site-packages/matplotlib/colors.py:509: UserWarning: Warning: converting a masked element to nan.\n",
      "  xa = np.array([X])\n"
     ]
    }
   ],
   "source": [
    "fig,ax = plt.subplots(1,1, constrained_layout=True)\n",
    "\n",
    "for i, each in PixelSignal.iterrows():\n",
    "    rect = plt.Rectangle((each['pixel_id'][0]*TPC.x_pixel_size+consts.tpcBorders[0][0],\n",
    "                          each['pixel_id'][1]*TPC.y_pixel_size+consts.tpcBorders[1][0]),\n",
    "                         TPC.x_pixel_size,TPC.y_pixel_size,\n",
    "                         linewidth=0.3,\n",
    "                         edgecolor='grey', \n",
    "                         facecolor=m.to_rgba(each['sum_current']), label='Pixel')\n",
    "    ax.add_patch(rect)\n",
    "    \n",
    "for t in selectedTracks:\n",
    "    ax.plot((t[cols['x_start']], t[cols['x_end']]), \n",
    "            (t[cols['y_start']], t[cols['y_end']]),\n",
    "            c='r',\n",
    "            zorder=10)\n",
    "\n",
    "ax.set_xlabel(\"$x$ coordinate [cm]\")\n",
    "ax.set_ylabel(\"$y$ coordinate [cm]\")\n",
    "ax.set_aspect(\"equal\")\n",
    "_ = plt.colorbar(m,fraction=0.046, pad=0.04, label='Current integral')"
   ]
  },
  {
   "cell_type": "code",
   "execution_count": 12,
   "metadata": {},
   "outputs": [
    {
     "data": {
      "application/vnd.jupyter.widget-view+json": {
       "model_id": "13f5878ec82c49eb8f2dc3f6a3e3d833",
       "version_major": 2,
       "version_minor": 0
      },
      "text/plain": [
       "Canvas(toolbar=Toolbar(toolitems=[('Home', 'Reset original view', 'home', 'home'), ('Back', 'Back to previous …"
      ]
     },
     "metadata": {},
     "output_type": "display_data"
    },
    {
     "data": {
      "text/plain": [
       "Text(0, 0.5, 'Current [a.u.]')"
      ]
     },
     "execution_count": 12,
     "metadata": {},
     "output_type": "execute_result"
    }
   ],
   "source": [
    "fig, ax = plt.subplots(1,1, constrained_layout=True)\n",
    "\n",
    "pixelID = pixel_response.getPixelFromCoordinates(-111.8,72.3)\n",
    "current = np.zeros_like(TPC.anode_t)\n",
    "temp = PixelSignal.loc[[(i == pixelID[0] and j == pixelID[1]) for i,j in PixelSignal['pixel_id']],['t_range','current']]\n",
    "for i, each in temp.iterrows():\n",
    "    current[(TPC.anode_t >= each['t_range'][0]) \n",
    "            &(TPC.anode_t <= each['t_range'][1])] += each['current']\n",
    "\n",
    "ax.plot(TPC.anode_t, current, label='Current')\n",
    "ax.set_xlim(1100,1500) \n",
    "ax.set_title(\"Pixel (%i,%i) at (%.2f, %2.f)\" % (pixelID[0], \n",
    "                                      pixelID[1], \n",
    "                                      (pixelID[0] + 0.5)*TPC.x_pixel_size+consts.tpcBorders[0][0], \n",
    "                                      (pixelID[1] + 0.5)*TPC.y_pixel_size+consts.tpcBorders[1][0]))\n",
    "ax.set_xlabel(\"Time [$\\mathrm{\\mu}$s]\")\n",
    "ax.set_ylabel(\"Current [a.u.]\")"
   ]
  },
  {
   "cell_type": "code",
   "execution_count": null,
   "metadata": {},
   "outputs": [],
   "source": []
  }
 ],
 "metadata": {
  "kernelspec": {
   "display_name": "Python 3",
   "language": "python",
   "name": "python3"
  },
  "language_info": {
   "codemirror_mode": {
    "name": "ipython",
    "version": 3
   },
   "file_extension": ".py",
   "mimetype": "text/x-python",
   "name": "python",
   "nbconvert_exporter": "python",
   "pygments_lexer": "ipython3",
   "version": "3.7.4"
  }
 },
 "nbformat": 4,
 "nbformat_minor": 2
}
