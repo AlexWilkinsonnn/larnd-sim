{
 "cells": [
  {
   "cell_type": "code",
   "execution_count": 1,
   "metadata": {},
   "outputs": [],
   "source": [
    "import os,sys,inspect\n",
    "currentdir = os.path.dirname(os.path.abspath(inspect.getfile(inspect.currentframe())))\n",
    "parentdir = os.path.dirname(currentdir)\n",
    "sys.path.insert(0,parentdir) "
   ]
  },
  {
   "cell_type": "code",
   "execution_count": 2,
   "metadata": {},
   "outputs": [],
   "source": [
    "from larndsim import consts, quenching, drifting, detsim, pixels_from_track\n",
    "import importlib\n",
    "importlib.reload(drifting)\n",
    "importlib.reload(quenching)\n",
    "importlib.reload(pixels_from_track)\n",
    "importlib.reload(consts)\n",
    "\n",
    "import numpy as np\n",
    "import matplotlib.pyplot as plt\n",
    "import matplotlib as mpl\n",
    "import matplotlib.cm as cm\n",
    "from mpl_toolkits.mplot3d import Axes3D\n",
    "import mpl_toolkits.mplot3d.art3d as art3d\n",
    "\n",
    "import pickle\n",
    "import numpy as np\n",
    "import numba as nb\n",
    "import pandas as pd\n",
    "import time\n",
    "\n",
    "from numba import cuda\n",
    "import cupy as cp\n",
    "from math import ceil"
   ]
  },
  {
   "cell_type": "markdown",
   "metadata": {},
   "source": [
    "Input Arrays"
   ]
  },
  {
   "cell_type": "code",
   "execution_count": 3,
   "metadata": {},
   "outputs": [],
   "source": [
    "tracks_dict = pickle.load(open('edepsimDataset.p', 'rb'))\n",
    "\n",
    "trackID_device = cp.array(tracks_dict['trackID'])\n",
    "x_start_device = (cp.array(tracks_dict['z_start']))/1e2\n",
    "y_start_device = (cp.array(tracks_dict['y_start']))/1e2\n",
    "z_start_device = (cp.array(tracks_dict['x_start']))/1e2\n",
    "x_end_device = (cp.array(tracks_dict['z_end']))/1e2\n",
    "y_end_device = (cp.array(tracks_dict['y_end']))/1e2\n",
    "z_end_device = (cp.array(tracks_dict['x_end']))/1e2\n",
    "\n",
    "x_mid_device = (x_start_device + x_end_device)/2.\n",
    "y_mid_device = (y_start_device + y_end_device)/2.\n",
    "z_mid_device = (z_start_device + z_end_device)/2.\n",
    "\n",
    "start_pos_device = cp.vstack([x_start_device, y_start_device, z_start_device]).T\n",
    "end_pos_device = cp.vstack([x_end_device, y_end_device, z_end_device]).T\n",
    "\n",
    "dE_device = cp.abs((cp.array(tracks_dict['dE'])))*1e3\n",
    "dx_device = cp.sqrt(cp.sum((end_pos_device - start_pos_device)**2, axis=1))\n",
    "dEdx_device = dE_device/dx_device"
   ]
  },
  {
   "cell_type": "markdown",
   "metadata": {},
   "source": [
    "Declare Output Arrays"
   ]
  },
  {
   "cell_type": "code",
   "execution_count": 4,
   "metadata": {},
   "outputs": [],
   "source": [
    "t_start_device = cp.zeros_like(x_start_device)\n",
    "t_mid_device = cp.zeros_like(x_mid_device)\n",
    "t_end_device = cp.zeros_like(x_end_device)\n",
    "\n",
    "nElectrons_device = cp.zeros_like(x_start_device)\n",
    "long_diffusion_device = cp.zeros_like(x_start_device)\n",
    "tran_diffusion_device = cp.zeros_like(x_start_device)\n",
    "arr_device = cp.zeros_like(x_start_device)\n",
    "\n",
    "active_pixels_device = cp.zeros(shape=(x_start_device.shape[0], 10, 2))\n",
    "neighboring_pixels_device = cp.zeros(shape =(x_start_device.shape[0], 100, 2))\n",
    "n_pixels_device = cp.zeros(shape =(x_start_device.shape[0]))"
   ]
  },
  {
   "cell_type": "markdown",
   "metadata": {},
   "source": [
    "GPU CONFIG"
   ]
  },
  {
   "cell_type": "code",
   "execution_count": 5,
   "metadata": {},
   "outputs": [],
   "source": [
    "TPB = 128\n",
    "BPG = ceil(x_start_device.shape[0] / TPB)"
   ]
  },
  {
   "cell_type": "markdown",
   "metadata": {},
   "source": [
    "QUENCHING"
   ]
  },
  {
   "cell_type": "code",
   "execution_count": 6,
   "metadata": {},
   "outputs": [],
   "source": [
    "quenching.GPU_Quench[TPB,BPG](dEdx_device, dE_device, nElectrons_device)"
   ]
  },
  {
   "cell_type": "code",
   "execution_count": 7,
   "metadata": {},
   "outputs": [],
   "source": [
    "cuda.synchronize()"
   ]
  },
  {
   "cell_type": "markdown",
   "metadata": {},
   "source": [
    "DRIFITING"
   ]
  },
  {
   "cell_type": "code",
   "execution_count": 8,
   "metadata": {},
   "outputs": [],
   "source": [
    "drifting.GPU_Drift[TPB,BPG](z_start_device, z_end_device, z_mid_device,\n",
    "                        t_start_device, t_end_device, t_mid_device,\n",
    "                        nElectrons_device, long_diffusion_device, tran_diffusion_device)"
   ]
  },
  {
   "cell_type": "code",
   "execution_count": 9,
   "metadata": {},
   "outputs": [],
   "source": [
    "cuda.synchronize()"
   ]
  },
  {
   "cell_type": "markdown",
   "metadata": {},
   "source": [
    "IMPACTED PIXELS"
   ]
  },
  {
   "cell_type": "code",
   "execution_count": 10,
   "metadata": {},
   "outputs": [],
   "source": [
    "pixels_from_track.get_pixels[TPB,BPG](x_start_device, y_start_device, x_end_device, y_end_device, \n",
    "                                      active_pixels_device, neighboring_pixels_device, n_pixels_device)"
   ]
  },
  {
   "cell_type": "code",
   "execution_count": 11,
   "metadata": {},
   "outputs": [],
   "source": [
    "cuda.synchronize()"
   ]
  },
  {
   "cell_type": "code",
   "execution_count": 12,
   "metadata": {},
   "outputs": [],
   "source": [
    "total_pixels = cp.sum(n_pixels_device)\n",
    "trackID = cp.zeros(shape=(int(total_pixels)))\n",
    "pixelID = cp.zeros(shape =(int(total_pixels),2))"
   ]
  },
  {
   "cell_type": "code",
   "execution_count": 13,
   "metadata": {},
   "outputs": [],
   "source": [
    "for i in range(10):\n",
    "    npix = int(n_pixels_device[i])\n",
    "    stride = i * npix\n",
    "    for trk in range(npix):\n",
    "        trackID[trk + stride] = trackID_device[i]\n",
    "        pixelID[trk + stride] = neighboring_pixels_device[i][trk]"
   ]
  },
  {
   "cell_type": "code",
   "execution_count": 14,
   "metadata": {},
   "outputs": [],
   "source": [
    "#trackID[0:50]\n",
    "#pixelID[0:50]"
   ]
  },
  {
   "cell_type": "code",
   "execution_count": 15,
   "metadata": {},
   "outputs": [],
   "source": [
    "n = cp.argmax(n_pixels)"
   ]
  },
  {
   "cell_type": "code",
   "execution_count": 16,
   "metadata": {},
   "outputs": [
    {
     "data": {
      "text/plain": [
       "array([[188., 168.],\n",
       "       [189., 169.],\n",
       "       [190., 170.],\n",
       "       [190., 171.],\n",
       "       [191., 172.],\n",
       "       [192., 173.],\n",
       "       [  0.,   0.],\n",
       "       [  0.,   0.],\n",
       "       [  0.,   0.],\n",
       "       [  0.,   0.]])"
      ]
     },
     "execution_count": 16,
     "metadata": {},
     "output_type": "execute_result"
    }
   ],
   "source": [
    "active_pixels_device[61090]"
   ]
  },
  {
   "cell_type": "code",
   "execution_count": null,
   "metadata": {},
   "outputs": [],
   "source": []
  }
 ],
 "metadata": {
  "kernelspec": {
   "display_name": "Python3_Numba_gpu",
   "language": "python",
   "name": "numba_cuda_env"
  },
  "language_info": {
   "codemirror_mode": {
    "name": "ipython",
    "version": 3
   },
   "file_extension": ".py",
   "mimetype": "text/x-python",
   "name": "python",
   "nbconvert_exporter": "python",
   "pygments_lexer": "ipython3",
   "version": "3.7.7"
  }
 },
 "nbformat": 4,
 "nbformat_minor": 4
}
