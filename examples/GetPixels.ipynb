{
 "cells": [
  {
   "cell_type": "code",
   "execution_count": 1,
   "metadata": {},
   "outputs": [],
   "source": [
    "import os,sys,inspect\n",
    "currentdir = os.path.dirname(os.path.abspath(inspect.getfile(inspect.currentframe())))\n",
    "parentdir = os.path.dirname(currentdir)\n",
    "sys.path.insert(0,parentdir) "
   ]
  },
  {
   "cell_type": "code",
   "execution_count": 2,
   "metadata": {},
   "outputs": [],
   "source": [
    "from larndsim import consts, quenching, drifting, detsim, pixels_from_track\n",
    "import importlib\n",
    "importlib.reload(drifting)\n",
    "importlib.reload(quenching)\n",
    "importlib.reload(pixels_from_track)\n",
    "importlib.reload(consts)\n",
    "\n",
    "import numpy as np\n",
    "import matplotlib.pyplot as plt\n",
    "import matplotlib as mpl\n",
    "import matplotlib.cm as cm\n",
    "from mpl_toolkits.mplot3d import Axes3D\n",
    "import mpl_toolkits.mplot3d.art3d as art3d\n",
    "\n",
    "import pickle\n",
    "import numpy as np\n",
    "import numba as nb\n",
    "import pandas as pd\n",
    "import time\n",
    "\n",
    "from numba import cuda\n",
    "import cupy as cp\n",
    "from math import ceil"
   ]
  },
  {
   "cell_type": "code",
   "execution_count": 3,
   "metadata": {},
   "outputs": [],
   "source": [
    "tracks_dict = pickle.load(open('edepsimDataset.p', 'rb'))\n",
    "tracks = pd.DataFrame.from_dict(tracks_dict)\n",
    "tracks['t'] = 0.\n",
    "tracks['t_start'] = 0.\n",
    "tracks['t_end'] = 0.\n",
    "tracks['x_start'] = tracks_dict['z_start'] \n",
    "tracks['z_start'] = tracks_dict['x_start'] \n",
    "tracks['x_end'] = tracks_dict['z_end'] \n",
    "tracks['z_end'] = tracks_dict['x_end'] \n",
    "\n",
    "tracks['z_start'] /= 1e2\n",
    "tracks['z_end'] /= 1e2\n",
    "tracks['y_start'] /= 1e2\n",
    "tracks['y_end'] /= 1e2\n",
    "tracks['x_start'] /= 1e2\n",
    "tracks['x_end'] /= 1e2\n",
    "\n",
    "tracks['dx'] = np.sqrt(pow(tracks['x_end']-tracks['x_start'], 2) +\n",
    "                    pow(tracks['y_end']-tracks['y_start'], 2) +\n",
    "                    pow(tracks['z_end']-tracks['z_start'], 2))\n",
    "tracks['x'] = (tracks['x_end']+tracks['x_start'])/2\n",
    "tracks['y'] = (tracks['y_end']+tracks['y_start'])/2\n",
    "tracks['z'] = (tracks['z_end']+tracks['z_start'])/2\n",
    "tracks['dE'] = np.abs(tracks['dE'])*1e3\n",
    "tracks['dEdx'] = tracks['dE']/tracks['dx']\n",
    "tracks['NElectrons'] = 0.\n",
    "tracks['longDiff'] = 0.\n",
    "tracks['tranDiff'] = 0.\n",
    "\n",
    "tracks_np = tracks.to_numpy()\n",
    "cols = nb.typed.Dict()\n",
    "for i, c, in enumerate(tracks.columns):\n",
    "    cols[c] = i"
   ]
  },
  {
   "cell_type": "code",
   "execution_count": 4,
   "metadata": {},
   "outputs": [],
   "source": [
    "quenching.Quench(tracks_np, cols, mode=\"box\")\n",
    "drifting.Drift(tracks_np, cols)"
   ]
  },
  {
   "cell_type": "code",
   "execution_count": 5,
   "metadata": {},
   "outputs": [],
   "source": [
    "x_start_device = cuda.to_device(tracks['x_start'])\n",
    "x_end_device = cuda.to_device(tracks['x_end'])\n",
    "y_start_device = cuda.to_device(tracks['y_start'])\n",
    "y_end_device = cuda.to_device(tracks['y_end'])"
   ]
  },
  {
   "cell_type": "code",
   "execution_count": 6,
   "metadata": {},
   "outputs": [],
   "source": [
    "active_pixels_device = cp.zeros(shape =(x_start_device.shape[0], 10, 2))\n",
    "neighboring_pixels_device = cp.zeros(shape =(x_start_device.shape[0], 100, 2))\n",
    "n_pixels_device = cp.zeros(shape =(x_start_device.shape[0]))"
   ]
  },
  {
   "cell_type": "code",
   "execution_count": 7,
   "metadata": {},
   "outputs": [],
   "source": [
    "TPB = 128\n",
    "BPG = ceil(x_start_device.shape[0] / TPB)"
   ]
  },
  {
   "cell_type": "code",
   "execution_count": 8,
   "metadata": {},
   "outputs": [],
   "source": [
    "pixels_from_track.get_pixels[TPB,BPG](x_start_device, y_start_device, x_end_device, y_end_device, \n",
    "                                      active_pixels_device, neighboring_pixels_device, n_pixels_device)"
   ]
  },
  {
   "cell_type": "code",
   "execution_count": 9,
   "metadata": {},
   "outputs": [
    {
     "data": {
      "text/plain": [
       "array(66.)"
      ]
     },
     "execution_count": 9,
     "metadata": {},
     "output_type": "execute_result"
    }
   ],
   "source": [
    "n = cp.argmax(n_pixels_device)\n",
    "n_pixels_device[n]"
   ]
  },
  {
   "cell_type": "code",
   "execution_count": 10,
   "metadata": {},
   "outputs": [
    {
     "data": {
      "text/plain": [
       "array([[188., 168.],\n",
       "       [189., 169.],\n",
       "       [190., 170.],\n",
       "       [190., 171.],\n",
       "       [191., 172.],\n",
       "       [192., 173.],\n",
       "       [  0.,   0.],\n",
       "       [  0.,   0.],\n",
       "       [  0.,   0.],\n",
       "       [  0.,   0.]])"
      ]
     },
     "execution_count": 10,
     "metadata": {},
     "output_type": "execute_result"
    }
   ],
   "source": [
    "active_pixels_device[n]"
   ]
  },
  {
   "cell_type": "code",
   "execution_count": 11,
   "metadata": {},
   "outputs": [
    {
     "data": {
      "text/plain": [
       "array([[186., 166.],\n",
       "       [186., 167.],\n",
       "       [186., 168.],\n",
       "       [186., 169.],\n",
       "       [186., 170.],\n",
       "       [187., 166.],\n",
       "       [187., 167.],\n",
       "       [187., 168.],\n",
       "       [187., 169.],\n",
       "       [187., 170.],\n",
       "       [188., 166.],\n",
       "       [188., 167.],\n",
       "       [188., 168.],\n",
       "       [188., 169.],\n",
       "       [188., 170.],\n",
       "       [189., 166.],\n",
       "       [189., 167.],\n",
       "       [189., 168.],\n",
       "       [189., 169.],\n",
       "       [189., 170.],\n",
       "       [190., 166.],\n",
       "       [190., 167.],\n",
       "       [190., 168.],\n",
       "       [190., 169.],\n",
       "       [190., 170.],\n",
       "       [187., 171.],\n",
       "       [188., 171.],\n",
       "       [189., 171.],\n",
       "       [190., 171.],\n",
       "       [191., 167.],\n",
       "       [191., 168.],\n",
       "       [191., 169.],\n",
       "       [191., 170.],\n",
       "       [191., 171.],\n",
       "       [188., 172.],\n",
       "       [189., 172.],\n",
       "       [190., 172.],\n",
       "       [191., 172.],\n",
       "       [192., 168.],\n",
       "       [192., 169.],\n",
       "       [192., 170.],\n",
       "       [192., 171.],\n",
       "       [192., 172.],\n",
       "       [188., 173.],\n",
       "       [189., 173.],\n",
       "       [190., 173.],\n",
       "       [191., 173.],\n",
       "       [192., 173.],\n",
       "       [189., 174.],\n",
       "       [190., 174.],\n",
       "       [191., 174.],\n",
       "       [192., 174.],\n",
       "       [193., 170.],\n",
       "       [193., 171.],\n",
       "       [193., 172.],\n",
       "       [193., 173.],\n",
       "       [193., 174.],\n",
       "       [190., 175.],\n",
       "       [191., 175.],\n",
       "       [192., 175.],\n",
       "       [193., 175.],\n",
       "       [194., 171.],\n",
       "       [194., 172.],\n",
       "       [194., 173.],\n",
       "       [194., 174.],\n",
       "       [194., 175.],\n",
       "       [  0.,   0.],\n",
       "       [  0.,   0.],\n",
       "       [  0.,   0.],\n",
       "       [  0.,   0.],\n",
       "       [  0.,   0.],\n",
       "       [  0.,   0.],\n",
       "       [  0.,   0.],\n",
       "       [  0.,   0.],\n",
       "       [  0.,   0.],\n",
       "       [  0.,   0.],\n",
       "       [  0.,   0.],\n",
       "       [  0.,   0.],\n",
       "       [  0.,   0.],\n",
       "       [  0.,   0.],\n",
       "       [  0.,   0.],\n",
       "       [  0.,   0.],\n",
       "       [  0.,   0.],\n",
       "       [  0.,   0.],\n",
       "       [  0.,   0.],\n",
       "       [  0.,   0.],\n",
       "       [  0.,   0.],\n",
       "       [  0.,   0.],\n",
       "       [  0.,   0.],\n",
       "       [  0.,   0.],\n",
       "       [  0.,   0.],\n",
       "       [  0.,   0.],\n",
       "       [  0.,   0.],\n",
       "       [  0.,   0.],\n",
       "       [  0.,   0.],\n",
       "       [  0.,   0.],\n",
       "       [  0.,   0.],\n",
       "       [  0.,   0.],\n",
       "       [  0.,   0.],\n",
       "       [  0.,   0.]])"
      ]
     },
     "execution_count": 11,
     "metadata": {},
     "output_type": "execute_result"
    }
   ],
   "source": [
    "neighboring_pixels_device[n]"
   ]
  },
  {
   "cell_type": "code",
   "execution_count": 12,
   "metadata": {},
   "outputs": [],
   "source": [
    "total_pixels = cp.sum(n_pixels_device)\n",
    "pixels = cp.zeros(shape=(int(total_pixels)))\n",
    "trackID = cp.zeros_like(pixels)\n",
    "pixelID = cp.zeros(shape = (int(total_pixels),2))"
   ]
  }
 ],
 "metadata": {
  "kernelspec": {
   "display_name": "Python3_Numba_gpu",
   "language": "python",
   "name": "numba_cuda_env"
  },
  "language_info": {
   "codemirror_mode": {
    "name": "ipython",
    "version": 3
   },
   "file_extension": ".py",
   "mimetype": "text/x-python",
   "name": "python",
   "nbconvert_exporter": "python",
   "pygments_lexer": "ipython3",
   "version": "3.7.7"
  }
 },
 "nbformat": 4,
 "nbformat_minor": 4
}
