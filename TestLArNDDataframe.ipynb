{
 "cells": [
  {
   "cell_type": "code",
   "execution_count": 1,
   "metadata": {},
   "outputs": [],
   "source": [
    "import h5py\n",
    "import numpy as np"
   ]
  },
  {
   "cell_type": "code",
   "execution_count": 2,
   "metadata": {},
   "outputs": [],
   "source": [
    "f = h5py.File('TestLArNDSim.h5', 'w')"
   ]
  },
  {
   "cell_type": "code",
   "execution_count": 3,
   "metadata": {},
   "outputs": [],
   "source": [
    "'Create groups and subgroups'\n",
    "trueObj        = f.create_group(\"TrueObjects\")\n",
    "trk            = trueObj.create_group(\"Tracks\")\n",
    "trkSeg         = trk.create_group(\"TrackSegments\")\n",
    "trueHits       = f.create_group(\"TrueHits\")\n",
    "trueChargeHits = trueHits.create_group(\"TruthChargeHits\")\n",
    "trueLightHits  = trueHits.create_group(\"TruthLightHits\")\n",
    "chan           = f.create_group(\"DataHits\")\n",
    "recoHits       = f.create_group(\"RecoHits\")\n",
    "recoObj        = f.create_group(\"RecoObjects\")\n",
    "dataChargeHits = chan.create_group(\"DataChargeHits\")\n",
    "dataLightHits  = chan.create_group(\"DataLightHits\")"
   ]
  },
  {
   "cell_type": "code",
   "execution_count": 4,
   "metadata": {},
   "outputs": [],
   "source": [
    "'Create links for charge/light hits to be accessible both from TrueHits and TrueObj/Tracks/TrackSegments'\n",
    "trkSeg['TruthChargeHits'] = trueChargeHits\n",
    "trkSeg['TruthLightHits']  = trueLightHits"
   ]
  },
  {
   "cell_type": "code",
   "execution_count": 5,
   "metadata": {},
   "outputs": [],
   "source": [
    "'''Create empty datasets to model the date framework required.\n",
    "Size = 100 is taken as an example.No size parameter is required.'''\n",
    "runID    = trueObj.create_dataset(\"RunID\",shape=(100,), maxshape=None, dtype=\"i\")\n",
    "subrunID = trueObj.create_dataset(\"SubrunID\", shape=(100,), maxshape=None, dtype=\"i\")\n",
    "spillID  = trueObj.create_dataset(\"SpillID\", shape=(100,), maxshape=None, dtype=\"i\")\n",
    "intID    = trueObj.create_dataset(\"InteractionID\", shape=(100,), maxshape=None, dtype=\"i\")"
   ]
  },
  {
   "cell_type": "code",
   "execution_count": 6,
   "metadata": {},
   "outputs": [],
   "source": [
    "'''Create empty datasets unique to track objects.\n",
    "Arrays of M from Brooke's graphics. Example : M = 1e4'''\n",
    "trkID       = trk.create_dataset(\"TrackID\", shape=(1e4,), maxshape=None, dtype=\"i\")\n",
    "trkMotherID = trk.create_dataset(\"TrackMotherID\", shape=(1e4,), maxshape=None, dtype=\"i\")\n",
    "pdg         = trk.create_dataset(\"PDG\", shape=(1e4,), maxshape=None, dtype=\"i\")\n",
    "start_pos   = trk.create_dataset(\"Start4Pos\", shape = (1e4,4), maxshape=(None,4), dtype='f')\n",
    "end_pos     = trk.create_dataset(\"End4Pos\", shape = (1e4,4), maxshape=(None,4), dtype='f')\n",
    "edep        = trk.create_dataset(\"EnergyDep\", shape =(1e4,), maxshape=None, dtype='f')\n",
    "efluc       = trk.create_dataset(\"EnergyFluctuation\", shape =(1e4,), maxshape=None, dtype='f')"
   ]
  },
  {
   "cell_type": "code",
   "execution_count": 7,
   "metadata": {},
   "outputs": [],
   "source": [
    "'''Create empty datasets unique to track segment objects.\n",
    "Arrays of N from Brooke's graphics. Example : N = 1e5'''\n",
    "trkSegID          = trkSeg.create_dataset(\"TrackID\", (1e5,), maxshape=None, dtype=\"i\")\n",
    "trkSegMotherID    = trkSeg.create_dataset(\"TrackMotherID\", (1e5,), maxshape=None, dtype=\"i\")\n",
    "trkSegPDG         = trkSeg.create_dataset(\"PDG\", (1e5,), maxshape=None, dtype=\"i\")\n",
    "trkSegStart_pos   = trkSeg.create_dataset(\"Start4Pos\", shape = (1e5,4), maxshape=(None,4), dtype='f')\n",
    "trkSegEnd_pos     = trkSeg.create_dataset(\"End4Pos\", shape = (1e5,4), maxshape=(None,4), dtype='f')\n",
    "trkSegEdep        = trkSeg.create_dataset(\"EnergyDep\", (1e5,), maxshape=None, dtype='f')"
   ]
  },
  {
   "cell_type": "code",
   "execution_count": 8,
   "metadata": {},
   "outputs": [],
   "source": [
    "'''Create empty datasets unique to true hit objects.\n",
    "Arrays of N from Brooke's graphics. Example : N = 1e5'''\n",
    "\n",
    "'Common Information --> same as Track Seg so created a link.'\n",
    "trueHits['TrackID']         = trkSegID\n",
    "trueHits['TrackMotherID']   = trkSegMotherID\n",
    "trueHits['PDG']             = trkSegPDG\n",
    "trueHits['Start4Pos']       = trkSegStart_pos\n",
    "trueHits['End4Pos']         = trkSegEnd_pos\n",
    "\n",
    "'Charge Hits'\n",
    "long_diff_coeff       = trueChargeHits.create_dataset(\"LongitudnalDiffusion\",(1e5,), maxshape=None, dtype=\"f\")\n",
    "trans_diff_coeff      = trueChargeHits.create_dataset(\"TransverseDiffusion\", (1e5,), maxshape=None, dtype=\"f\")\n",
    "ionization_electrons  = trueChargeHits.create_dataset(\"IonizationElectrons\", (1e5,), maxshape=None, dtype=\"f\")\n",
    "\n",
    "'Light Hits'\n",
    "scintillation_photons = trueLightHits.create_dataset(\"ScintillationPhotons\", (1e5,), maxshape=None, dtype=\"f\")\n",
    "cherenkov_photons     = trueLightHits.create_dataset(\"CherenkovPhotons\",     (1e5,), maxshape=None, dtype=\"f\")"
   ]
  },
  {
   "cell_type": "code",
   "execution_count": 9,
   "metadata": {},
   "outputs": [],
   "source": [
    "'''Create empty datasets unique to data hit objects.'''\n",
    "\n",
    "'Charge Data Hits : Array of P = 5e4'\n",
    "chanID       = dataChargeHits.create_dataset(\"ChannelID\", (5e4,), maxshape=None, dtype=\"f\")\n",
    "timestamp    = dataChargeHits.create_dataset(\"Timestamp\", (5e4,), maxshape=None, dtype=\"f\")\n",
    "adc_value    = dataChargeHits.create_dataset(\"ADCValue\",  (5e4,), maxshape=None, dtype=\"f\")\n",
    "\n",
    "'Light Data Hits : Array of Q = 1e4'\n",
    "chanID       = dataLightHits.create_dataset(\"ChannelID\", (1e4,), maxshape=None, dtype=\"f\")\n",
    "timestamp    = dataLightHits.create_dataset(\"Timestamp\", (1e4,), maxshape=None, dtype=\"f\")\n",
    "adc_value    = dataLightHits.create_dataset(\"ADCValue\",  (1e4,), maxshape=None, dtype=\"f\")"
   ]
  },
  {
   "cell_type": "code",
   "execution_count": 10,
   "metadata": {},
   "outputs": [],
   "source": [
    "def visitor_func(name, node):\n",
    "    '''function to traverse the hdf5 file and\n",
    "    print all groups/subgroups and dataset.'''\n",
    "    if isinstance(node, h5py.Dataset):\n",
    "        print(\"\")\n",
    "        print(node.name + ' --> Dataset of size : ', end=\"\"), print( node.shape)\n",
    "    else:\n",
    "         # node is a group\n",
    "        print(\"\")\n",
    "        print(node.name + ' --> Group')"
   ]
  },
  {
   "cell_type": "code",
   "execution_count": 11,
   "metadata": {},
   "outputs": [
    {
     "name": "stdout",
     "output_type": "stream",
     "text": [
      "\n",
      "/DataHits --> Group\n",
      "\n",
      "/DataHits/DataChargeHits --> Group\n",
      "\n",
      "/DataHits/DataChargeHits/ADCValue --> Dataset of size : (50000,)\n",
      "\n",
      "/DataHits/DataChargeHits/ChannelID --> Dataset of size : (50000,)\n",
      "\n",
      "/DataHits/DataChargeHits/Timestamp --> Dataset of size : (50000,)\n",
      "\n",
      "/DataHits/DataLightHits --> Group\n",
      "\n",
      "/DataHits/DataLightHits/ADCValue --> Dataset of size : (10000,)\n",
      "\n",
      "/DataHits/DataLightHits/ChannelID --> Dataset of size : (10000,)\n",
      "\n",
      "/DataHits/DataLightHits/Timestamp --> Dataset of size : (10000,)\n",
      "\n",
      "/RecoHits --> Group\n",
      "\n",
      "/RecoObjects --> Group\n",
      "\n",
      "/TrueHits --> Group\n",
      "\n",
      "/TrueHits/End4Pos --> Dataset of size : (100000, 4)\n",
      "\n",
      "/TrueHits/PDG --> Dataset of size : (100000,)\n",
      "\n",
      "/TrueHits/Start4Pos --> Dataset of size : (100000, 4)\n",
      "\n",
      "/TrueHits/TrackID --> Dataset of size : (100000,)\n",
      "\n",
      "/TrueHits/TrackMotherID --> Dataset of size : (100000,)\n",
      "\n",
      "/TrueHits/TruthChargeHits --> Group\n",
      "\n",
      "/TrueHits/TruthChargeHits/IonizationElectrons --> Dataset of size : (100000,)\n",
      "\n",
      "/TrueHits/TruthChargeHits/LongitudnalDiffusion --> Dataset of size : (100000,)\n",
      "\n",
      "/TrueHits/TruthChargeHits/TransverseDiffusion --> Dataset of size : (100000,)\n",
      "\n",
      "/TrueHits/TruthLightHits --> Group\n",
      "\n",
      "/TrueHits/TruthLightHits/CherenkovPhotons --> Dataset of size : (100000,)\n",
      "\n",
      "/TrueHits/TruthLightHits/ScintillationPhotons --> Dataset of size : (100000,)\n",
      "\n",
      "/TrueObjects --> Group\n",
      "\n",
      "/TrueObjects/InteractionID --> Dataset of size : (100,)\n",
      "\n",
      "/TrueObjects/RunID --> Dataset of size : (100,)\n",
      "\n",
      "/TrueObjects/SpillID --> Dataset of size : (100,)\n",
      "\n",
      "/TrueObjects/SubrunID --> Dataset of size : (100,)\n",
      "\n",
      "/TrueObjects/Tracks --> Group\n",
      "\n",
      "/TrueObjects/Tracks/End4Pos --> Dataset of size : (10000, 4)\n",
      "\n",
      "/TrueObjects/Tracks/EnergyDep --> Dataset of size : (10000,)\n",
      "\n",
      "/TrueObjects/Tracks/EnergyFluctuation --> Dataset of size : (10000,)\n",
      "\n",
      "/TrueObjects/Tracks/PDG --> Dataset of size : (10000,)\n",
      "\n",
      "/TrueObjects/Tracks/Start4Pos --> Dataset of size : (10000, 4)\n",
      "\n",
      "/TrueObjects/Tracks/TrackID --> Dataset of size : (10000,)\n",
      "\n",
      "/TrueObjects/Tracks/TrackMotherID --> Dataset of size : (10000,)\n",
      "\n",
      "/TrueObjects/Tracks/TrackSegments --> Group\n",
      "\n",
      "/TrueObjects/Tracks/TrackSegments/EnergyDep --> Dataset of size : (100000,)\n"
     ]
    }
   ],
   "source": [
    "f.visititems(visitor_func)"
   ]
  },
  {
   "cell_type": "code",
   "execution_count": 12,
   "metadata": {},
   "outputs": [],
   "source": [
    "f.close()"
   ]
  },
  {
   "cell_type": "code",
   "execution_count": null,
   "metadata": {},
   "outputs": [],
   "source": []
  }
 ],
 "metadata": {
  "kernelspec": {
   "display_name": "Python 3",
   "language": "python",
   "name": "python3"
  },
  "language_info": {
   "codemirror_mode": {
    "name": "ipython",
    "version": 3
   },
   "file_extension": ".py",
   "mimetype": "text/x-python",
   "name": "python",
   "nbconvert_exporter": "python",
   "pygments_lexer": "ipython3",
   "version": "3.7.4"
  }
 },
 "nbformat": 4,
 "nbformat_minor": 4
}
