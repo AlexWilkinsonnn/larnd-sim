{
 "cells": [
  {
   "cell_type": "code",
   "execution_count": 1,
   "metadata": {},
   "outputs": [],
   "source": [
    "import numpy as np\n",
    "import pandas as pd\n",
    "import time\n",
    "import timeit\n",
    "from numba import cuda, config\n",
    "import math\n",
    "import consts\n",
    "import sys\n",
    "import h5py"
   ]
  },
  {
   "cell_type": "markdown",
   "metadata": {},
   "source": [
    "Define GPU Kernel functions:  \n",
    "__1. Dummy Segmenter__  \n",
    "__2. Quenching__  \n",
    "__3. Drifting__  "
   ]
  },
  {
   "cell_type": "code",
   "execution_count": 2,
   "metadata": {},
   "outputs": [],
   "source": [
    "'''A dummy segmenter which takes in track information and divides it by number of segments per track\n",
    "to produce arrays of track segments in GPU device'''\n",
    "@cuda.jit\n",
    "def DummySegmenter(trkHeader, trkPos, trkdE,\n",
    "                   segHeader, segPos, segdE):\n",
    "    \n",
    "    index = cuda.grid(1)    \n",
    "    \n",
    "    if (index < segHeader.shape[0]): \n",
    "        tID         = int(index/nseg_per_track)\n",
    "        \n",
    "        pos         = trkPos[tID]\n",
    "        \n",
    "        dx          = (pos['end_x'] - pos['start_x'])/nseg_per_track\n",
    "        dy          = (pos['end_y'] - pos['start_y'])/nseg_per_track\n",
    "        dz          = (pos['end_z'] - pos['start_z'])/nseg_per_track\n",
    "        \n",
    "        cuda.syncthreads()\n",
    "        segPos[index]['start_x'] = pos['start_x'] + dx*(index%nseg_per_track)\n",
    "        segPos[index]['end_x']   = pos['start_x'] + dx*((index%nseg_per_track)+1)\n",
    "        segPos[index]['start_y'] = pos['start_y'] + dy*(index%nseg_per_track)\n",
    "        segPos[index]['end_y']   = pos['start_y'] + dy*((index%nseg_per_track)+1)\n",
    "        segPos[index]['start_z'] = pos['start_z'] + dz*(index%nseg_per_track)\n",
    "        segPos[index]['end_z']   = pos['start_z'] + dz*((index%nseg_per_track)+1)\n",
    "        \n",
    "        segdE[index]       = trkdE[tID]/nseg_per_track\n",
    "        segHeader[index]   = trkHeader[tID]"
   ]
  },
  {
   "cell_type": "code",
   "execution_count": 3,
   "metadata": {},
   "outputs": [],
   "source": [
    "'''GPU Quenching Kernel function'''\n",
    "@cuda.jit\n",
    "def Quenching(segPos, segdE, ionElectrons):\n",
    "    \n",
    "    index  = cuda.grid(1)         \n",
    "    if (index < segPos.shape[0]):   \n",
    "        \n",
    "        pos        = segPos[index]\n",
    "        dx         = math.sqrt((pos['end_x'] - pos['start_x']) ** 2 + \n",
    "                    (pos['end_y'] - pos['start_y']) ** 2 +\n",
    "                    (pos['end_z'] - pos['start_z']) ** 2)\n",
    "        dedx        = abs(segdE[index])*consts.GeVToMeV/dx\n",
    "        epsilon     = consts.recombBeta/(consts.lArDensity * consts.eField) * dedx\n",
    "        recomb      = math.log(consts.recombAlpha + epsilon) / epsilon\n",
    "        \n",
    "        ionElectrons[index]['nElectrons']  = recomb * segdE[index] * consts.GeVToMeV * consts.MeVToElectrons"
   ]
  },
  {
   "cell_type": "code",
   "execution_count": 4,
   "metadata": {},
   "outputs": [],
   "source": [
    "'''GPU Drift Simulation Kernel function'''\n",
    "@cuda.jit\n",
    "def Drifting(segPos, ionElectrons):\n",
    "    index  = cuda.grid(1)    \n",
    "    if (index < segPos.shape[0]): \n",
    "        z = (segPos[index]['end_z'] + segPos[index]['start_z'])/2.    \n",
    "        drift_time  = abs(z - consts.tpcPlaneZ)/ consts.vdrift;\n",
    "        lifetime    = math.exp(-drift_time/consts.msTous)\n",
    "        ionElectrons[index]['nElectrons'] *= lifetime\n",
    "        ionElectrons[index]['long_diff']   = math.sqrt(drift_time) * consts.longDiff\n",
    "        ionElectrons[index]['trans_diff']  = math.sqrt(drift_time) * consts.transDiff"
   ]
  },
  {
   "cell_type": "markdown",
   "metadata": {},
   "source": [
    "  \n",
    "__Read Track Data from input hdf5 file \n",
    "and initialize output file and arrays__\n",
    "  "
   ]
  },
  {
   "cell_type": "code",
   "execution_count": 5,
   "metadata": {},
   "outputs": [],
   "source": [
    "inFile  = h5py.File('FakeTrackDataSet.h5', 'r')\n",
    "outFile = h5py.File('TrackSegmentDataSet.h5', 'w')"
   ]
  },
  {
   "cell_type": "code",
   "execution_count": 6,
   "metadata": {},
   "outputs": [],
   "source": [
    "headType  = ([('run',int), ('subrun', int), ('spill', int), ('interactionID', int), ('trackID', int), ('pdg', int)])\n",
    "header    = np.zeros(inFile['RunID'].shape[0], dtype=headType)"
   ]
  },
  {
   "cell_type": "code",
   "execution_count": 7,
   "metadata": {},
   "outputs": [],
   "source": [
    "header['run']           = np.array(inFile['RunID'])\n",
    "header['subrun']        = np.array(inFile['SubrunID'])\n",
    "header['spill']         = np.array(inFile['SpillID'])\n",
    "header['interactionID'] = np.array(inFile['InteractionID'])\n",
    "header['trackID']       = np.array(inFile['TrackID'])\n",
    "header['pdg']           = np.array(inFile['PDG'])"
   ]
  },
  {
   "cell_type": "code",
   "execution_count": 8,
   "metadata": {},
   "outputs": [],
   "source": [
    "posType  = ([('start_x', float), ('end_x', float), ('start_y', float), ('end_y', float), ('start_z', float), ('end_z', float)])\n",
    "trkPos   = np.zeros(inFile['StartXPos'].shape[0], dtype=posType)\n",
    "trkPos['start_x'] = np.array(inFile['StartXPos'])\n",
    "trkPos['end_x']   = np.array(inFile['EndXPos'])\n",
    "trkPos['start_y'] = np.array(inFile['StartYPos'])\n",
    "trkPos['end_y']   = np.array(inFile['EndYPos'])\n",
    "trkPos['start_z'] = np.array(inFile['StartZPos'])\n",
    "trkPos['end_z']   = np.array(inFile['EndZPos'])"
   ]
  },
  {
   "cell_type": "code",
   "execution_count": 9,
   "metadata": {},
   "outputs": [],
   "source": [
    "dE = np.array(inFile['EnergyDep'])"
   ]
  },
  {
   "cell_type": "code",
   "execution_count": 10,
   "metadata": {},
   "outputs": [],
   "source": [
    "header_device = cuda.to_device(header)\n",
    "trkPos_device = cuda.to_device(trkPos)\n",
    "dE_device     = cuda.to_device(dE)"
   ]
  },
  {
   "cell_type": "code",
   "execution_count": 11,
   "metadata": {},
   "outputs": [],
   "source": [
    "ntracks = trkPos.shape[0]\n",
    "nseg_per_track = 500\n",
    "nout = ntracks*nseg_per_track"
   ]
  },
  {
   "cell_type": "code",
   "execution_count": 12,
   "metadata": {},
   "outputs": [],
   "source": [
    "seg_header_device = cuda.to_device(np.zeros(nout, dtype=headType))\n",
    "seg_pos_device    = cuda.to_device(np.zeros(nout, dtype=posType))\n",
    "seg_dE_device     = cuda.to_device(np.zeros(nout, dtype=float))"
   ]
  },
  {
   "cell_type": "code",
   "execution_count": 13,
   "metadata": {},
   "outputs": [],
   "source": [
    "chargeType          = ([('long_diff', float), ('trans_diff', float), ('nElectrons', float)])\n",
    "ionElectrons_device = cuda.to_device(np.zeros(nout, dtype=chargeType))"
   ]
  },
  {
   "cell_type": "markdown",
   "metadata": {},
   "source": [
    "__Define GPU thread configuration and\n",
    "call the kernel functions__"
   ]
  },
  {
   "cell_type": "code",
   "execution_count": 14,
   "metadata": {},
   "outputs": [],
   "source": [
    "threads_per_block = 512\n",
    "blocks_per_grid   = int((nout+threads_per_block -1)/threads_per_block)"
   ]
  },
  {
   "cell_type": "code",
   "execution_count": 27,
   "metadata": {},
   "outputs": [
    {
     "name": "stdout",
     "output_type": "stream",
     "text": [
      "350 µs ± 30.3 µs per loop (mean ± std. dev. of 7 runs, 100 loops each)\n"
     ]
    }
   ],
   "source": [
    "%%timeit -n100\n",
    "DummySegmenter[blocks_per_grid, threads_per_block](header_device, trkPos_device, dE_device,\n",
    "                                                   seg_header_device, seg_pos_device, seg_dE_device)"
   ]
  },
  {
   "cell_type": "code",
   "execution_count": 16,
   "metadata": {},
   "outputs": [],
   "source": [
    "cuda.synchronize()"
   ]
  },
  {
   "cell_type": "code",
   "execution_count": 28,
   "metadata": {},
   "outputs": [
    {
     "name": "stdout",
     "output_type": "stream",
     "text": [
      "211 µs ± 25 µs per loop (mean ± std. dev. of 7 runs, 100 loops each)\n"
     ]
    }
   ],
   "source": [
    "%%timeit -n100\n",
    "Quenching[blocks_per_grid, threads_per_block](seg_pos_device, seg_dE_device, ionElectrons_device)"
   ]
  },
  {
   "cell_type": "code",
   "execution_count": 18,
   "metadata": {},
   "outputs": [],
   "source": [
    "cuda.synchronize()"
   ]
  },
  {
   "cell_type": "code",
   "execution_count": 29,
   "metadata": {},
   "outputs": [
    {
     "name": "stdout",
     "output_type": "stream",
     "text": [
      "197 µs ± 53.6 µs per loop (mean ± std. dev. of 7 runs, 100 loops each)\n"
     ]
    }
   ],
   "source": [
    "%%timeit -n100\n",
    "Drifting[blocks_per_grid, threads_per_block](seg_pos_device, ionElectrons_device)"
   ]
  },
  {
   "cell_type": "code",
   "execution_count": 20,
   "metadata": {},
   "outputs": [],
   "source": [
    "cuda.synchronize()"
   ]
  },
  {
   "cell_type": "markdown",
   "metadata": {},
   "source": [
    "__Copy output from device to host machine__"
   ]
  },
  {
   "cell_type": "code",
   "execution_count": 21,
   "metadata": {},
   "outputs": [],
   "source": [
    "segPos  = seg_pos_device.copy_to_host()\n",
    "segHead = seg_header_device.copy_to_host()\n",
    "ionE    = ionElectrons_device.copy_to_host()"
   ]
  },
  {
   "cell_type": "markdown",
   "metadata": {},
   "source": [
    "__Make a pandas data frame to locally inspect the output__"
   ]
  },
  {
   "cell_type": "code",
   "execution_count": 22,
   "metadata": {},
   "outputs": [],
   "source": [
    "df_final = pd.DataFrame()"
   ]
  },
  {
   "cell_type": "code",
   "execution_count": 23,
   "metadata": {},
   "outputs": [],
   "source": [
    "df_final['RunID']                = segHead[:]['run']\n",
    "df_final['SubrunID']             = segHead[:]['subrun']\n",
    "df_final['SpillID']              = segHead[:]['spill']\n",
    "df_final['InteractionID']        = segHead[:]['interactionID']\n",
    "df_final['trackID']              = segHead[:]['trackID']\n",
    "df_final['PDG']                  = segHead[:]['pdg']\n",
    "df_final['x_start']              = segPos[:]['start_x']\n",
    "df_final['x_end']                = segPos[:]['end_x']\n",
    "df_final['y_start']              = segPos[:]['start_y']\n",
    "df_final['y_end']                = segPos[:]['end_y']\n",
    "df_final['z_start']              = segPos[:]['start_z']\n",
    "df_final['z_end']                = segPos[:]['end_z']\n",
    "df_final['nElectrons']           = ionE[:]['nElectrons']\n",
    "df_final['Long Diff']            = ionE[:]['long_diff']\n",
    "df_final['Tran Diff']            = ionE[:]['trans_diff']"
   ]
  },
  {
   "cell_type": "code",
   "execution_count": 24,
   "metadata": {},
   "outputs": [
    {
     "data": {
      "text/html": [
       "<div>\n",
       "<style scoped>\n",
       "    .dataframe tbody tr th:only-of-type {\n",
       "        vertical-align: middle;\n",
       "    }\n",
       "\n",
       "    .dataframe tbody tr th {\n",
       "        vertical-align: top;\n",
       "    }\n",
       "\n",
       "    .dataframe thead th {\n",
       "        text-align: right;\n",
       "    }\n",
       "</style>\n",
       "<table border=\"1\" class=\"dataframe\">\n",
       "  <thead>\n",
       "    <tr style=\"text-align: right;\">\n",
       "      <th></th>\n",
       "      <th>RunID</th>\n",
       "      <th>SubrunID</th>\n",
       "      <th>SpillID</th>\n",
       "      <th>InteractionID</th>\n",
       "      <th>trackID</th>\n",
       "      <th>PDG</th>\n",
       "      <th>x_start</th>\n",
       "      <th>x_end</th>\n",
       "      <th>y_start</th>\n",
       "      <th>y_end</th>\n",
       "      <th>z_start</th>\n",
       "      <th>z_end</th>\n",
       "      <th>nElectrons</th>\n",
       "      <th>Long Diff</th>\n",
       "      <th>Tran Diff</th>\n",
       "    </tr>\n",
       "  </thead>\n",
       "  <tbody>\n",
       "    <tr>\n",
       "      <th>0</th>\n",
       "      <td>1</td>\n",
       "      <td>1</td>\n",
       "      <td>0</td>\n",
       "      <td>0</td>\n",
       "      <td>0</td>\n",
       "      <td>13</td>\n",
       "      <td>-26.467743</td>\n",
       "      <td>-26.422064</td>\n",
       "      <td>-127.677666</td>\n",
       "      <td>-127.639941</td>\n",
       "      <td>64.699921</td>\n",
       "      <td>64.745773</td>\n",
       "      <td>3967.322517</td>\n",
       "      <td>0.000232</td>\n",
       "      <td>0.000609</td>\n",
       "    </tr>\n",
       "    <tr>\n",
       "      <th>1</th>\n",
       "      <td>1</td>\n",
       "      <td>1</td>\n",
       "      <td>0</td>\n",
       "      <td>0</td>\n",
       "      <td>0</td>\n",
       "      <td>13</td>\n",
       "      <td>-26.422064</td>\n",
       "      <td>-26.376385</td>\n",
       "      <td>-127.639941</td>\n",
       "      <td>-127.602216</td>\n",
       "      <td>64.745773</td>\n",
       "      <td>64.791626</td>\n",
       "      <td>3967.204250</td>\n",
       "      <td>0.000232</td>\n",
       "      <td>0.000609</td>\n",
       "    </tr>\n",
       "    <tr>\n",
       "      <th>2</th>\n",
       "      <td>1</td>\n",
       "      <td>1</td>\n",
       "      <td>0</td>\n",
       "      <td>0</td>\n",
       "      <td>0</td>\n",
       "      <td>13</td>\n",
       "      <td>-26.376385</td>\n",
       "      <td>-26.330705</td>\n",
       "      <td>-127.602216</td>\n",
       "      <td>-127.564491</td>\n",
       "      <td>64.791626</td>\n",
       "      <td>64.837478</td>\n",
       "      <td>3967.085987</td>\n",
       "      <td>0.000232</td>\n",
       "      <td>0.000609</td>\n",
       "    </tr>\n",
       "    <tr>\n",
       "      <th>3</th>\n",
       "      <td>1</td>\n",
       "      <td>1</td>\n",
       "      <td>0</td>\n",
       "      <td>0</td>\n",
       "      <td>0</td>\n",
       "      <td>13</td>\n",
       "      <td>-26.330705</td>\n",
       "      <td>-26.285026</td>\n",
       "      <td>-127.564491</td>\n",
       "      <td>-127.526766</td>\n",
       "      <td>64.837478</td>\n",
       "      <td>64.883330</td>\n",
       "      <td>3966.967727</td>\n",
       "      <td>0.000232</td>\n",
       "      <td>0.000609</td>\n",
       "    </tr>\n",
       "    <tr>\n",
       "      <th>4</th>\n",
       "      <td>1</td>\n",
       "      <td>1</td>\n",
       "      <td>0</td>\n",
       "      <td>0</td>\n",
       "      <td>0</td>\n",
       "      <td>13</td>\n",
       "      <td>-26.285026</td>\n",
       "      <td>-26.239347</td>\n",
       "      <td>-127.526766</td>\n",
       "      <td>-127.489041</td>\n",
       "      <td>64.883330</td>\n",
       "      <td>64.929183</td>\n",
       "      <td>3966.849470</td>\n",
       "      <td>0.000232</td>\n",
       "      <td>0.000609</td>\n",
       "    </tr>\n",
       "    <tr>\n",
       "      <th>...</th>\n",
       "      <td>...</td>\n",
       "      <td>...</td>\n",
       "      <td>...</td>\n",
       "      <td>...</td>\n",
       "      <td>...</td>\n",
       "      <td>...</td>\n",
       "      <td>...</td>\n",
       "      <td>...</td>\n",
       "      <td>...</td>\n",
       "      <td>...</td>\n",
       "      <td>...</td>\n",
       "      <td>...</td>\n",
       "      <td>...</td>\n",
       "      <td>...</td>\n",
       "      <td>...</td>\n",
       "    </tr>\n",
       "    <tr>\n",
       "      <th>999995</th>\n",
       "      <td>1</td>\n",
       "      <td>1</td>\n",
       "      <td>19</td>\n",
       "      <td>199</td>\n",
       "      <td>1999</td>\n",
       "      <td>13</td>\n",
       "      <td>52.815390</td>\n",
       "      <td>52.850188</td>\n",
       "      <td>-23.070872</td>\n",
       "      <td>-23.024503</td>\n",
       "      <td>-90.587365</td>\n",
       "      <td>-90.552857</td>\n",
       "      <td>3761.608273</td>\n",
       "      <td>0.000122</td>\n",
       "      <td>0.000320</td>\n",
       "    </tr>\n",
       "    <tr>\n",
       "      <th>999996</th>\n",
       "      <td>1</td>\n",
       "      <td>1</td>\n",
       "      <td>19</td>\n",
       "      <td>199</td>\n",
       "      <td>1999</td>\n",
       "      <td>13</td>\n",
       "      <td>52.850188</td>\n",
       "      <td>52.884986</td>\n",
       "      <td>-23.024503</td>\n",
       "      <td>-22.978135</td>\n",
       "      <td>-90.552857</td>\n",
       "      <td>-90.518349</td>\n",
       "      <td>3761.523882</td>\n",
       "      <td>0.000122</td>\n",
       "      <td>0.000320</td>\n",
       "    </tr>\n",
       "    <tr>\n",
       "      <th>999997</th>\n",
       "      <td>1</td>\n",
       "      <td>1</td>\n",
       "      <td>19</td>\n",
       "      <td>199</td>\n",
       "      <td>1999</td>\n",
       "      <td>13</td>\n",
       "      <td>52.884986</td>\n",
       "      <td>52.919784</td>\n",
       "      <td>-22.978135</td>\n",
       "      <td>-22.931766</td>\n",
       "      <td>-90.518349</td>\n",
       "      <td>-90.483841</td>\n",
       "      <td>3761.439492</td>\n",
       "      <td>0.000122</td>\n",
       "      <td>0.000321</td>\n",
       "    </tr>\n",
       "    <tr>\n",
       "      <th>999998</th>\n",
       "      <td>1</td>\n",
       "      <td>1</td>\n",
       "      <td>19</td>\n",
       "      <td>199</td>\n",
       "      <td>1999</td>\n",
       "      <td>13</td>\n",
       "      <td>52.919784</td>\n",
       "      <td>52.954582</td>\n",
       "      <td>-22.931766</td>\n",
       "      <td>-22.885398</td>\n",
       "      <td>-90.483841</td>\n",
       "      <td>-90.449333</td>\n",
       "      <td>3761.355105</td>\n",
       "      <td>0.000122</td>\n",
       "      <td>0.000321</td>\n",
       "    </tr>\n",
       "    <tr>\n",
       "      <th>999999</th>\n",
       "      <td>1</td>\n",
       "      <td>1</td>\n",
       "      <td>19</td>\n",
       "      <td>199</td>\n",
       "      <td>1999</td>\n",
       "      <td>13</td>\n",
       "      <td>52.954582</td>\n",
       "      <td>52.989380</td>\n",
       "      <td>-22.885398</td>\n",
       "      <td>-22.839029</td>\n",
       "      <td>-90.449333</td>\n",
       "      <td>-90.414825</td>\n",
       "      <td>3761.270719</td>\n",
       "      <td>0.000122</td>\n",
       "      <td>0.000321</td>\n",
       "    </tr>\n",
       "  </tbody>\n",
       "</table>\n",
       "<p>1000000 rows × 15 columns</p>\n",
       "</div>"
      ],
      "text/plain": [
       "        RunID  SubrunID  SpillID  InteractionID  trackID  PDG    x_start  \\\n",
       "0           1         1        0              0        0   13 -26.467743   \n",
       "1           1         1        0              0        0   13 -26.422064   \n",
       "2           1         1        0              0        0   13 -26.376385   \n",
       "3           1         1        0              0        0   13 -26.330705   \n",
       "4           1         1        0              0        0   13 -26.285026   \n",
       "...       ...       ...      ...            ...      ...  ...        ...   \n",
       "999995      1         1       19            199     1999   13  52.815390   \n",
       "999996      1         1       19            199     1999   13  52.850188   \n",
       "999997      1         1       19            199     1999   13  52.884986   \n",
       "999998      1         1       19            199     1999   13  52.919784   \n",
       "999999      1         1       19            199     1999   13  52.954582   \n",
       "\n",
       "            x_end     y_start       y_end    z_start      z_end   nElectrons  \\\n",
       "0      -26.422064 -127.677666 -127.639941  64.699921  64.745773  3967.322517   \n",
       "1      -26.376385 -127.639941 -127.602216  64.745773  64.791626  3967.204250   \n",
       "2      -26.330705 -127.602216 -127.564491  64.791626  64.837478  3967.085987   \n",
       "3      -26.285026 -127.564491 -127.526766  64.837478  64.883330  3966.967727   \n",
       "4      -26.239347 -127.526766 -127.489041  64.883330  64.929183  3966.849470   \n",
       "...           ...         ...         ...        ...        ...          ...   \n",
       "999995  52.850188  -23.070872  -23.024503 -90.587365 -90.552857  3761.608273   \n",
       "999996  52.884986  -23.024503  -22.978135 -90.552857 -90.518349  3761.523882   \n",
       "999997  52.919784  -22.978135  -22.931766 -90.518349 -90.483841  3761.439492   \n",
       "999998  52.954582  -22.931766  -22.885398 -90.483841 -90.449333  3761.355105   \n",
       "999999  52.989380  -22.885398  -22.839029 -90.449333 -90.414825  3761.270719   \n",
       "\n",
       "        Long Diff  Tran Diff  \n",
       "0        0.000232   0.000609  \n",
       "1        0.000232   0.000609  \n",
       "2        0.000232   0.000609  \n",
       "3        0.000232   0.000609  \n",
       "4        0.000232   0.000609  \n",
       "...           ...        ...  \n",
       "999995   0.000122   0.000320  \n",
       "999996   0.000122   0.000320  \n",
       "999997   0.000122   0.000321  \n",
       "999998   0.000122   0.000321  \n",
       "999999   0.000122   0.000321  \n",
       "\n",
       "[1000000 rows x 15 columns]"
      ]
     },
     "execution_count": 24,
     "metadata": {},
     "output_type": "execute_result"
    }
   ],
   "source": [
    "df_final"
   ]
  },
  {
   "cell_type": "markdown",
   "metadata": {},
   "source": [
    "__Store output arrays in the output hdf5 file__"
   ]
  },
  {
   "cell_type": "code",
   "execution_count": 25,
   "metadata": {},
   "outputs": [
    {
     "data": {
      "text/plain": [
       "<HDF5 dataset \"TransverseDiffusion\": shape (1000000,), type \"<f8\">"
      ]
     },
     "execution_count": 25,
     "metadata": {},
     "output_type": "execute_result"
    }
   ],
   "source": [
    "outFile.create_dataset(\"RunID\",                    data=segHead[:]['run'])\n",
    "outFile.create_dataset(\"SubrunID\",                 data=segHead[:]['subrun'])\n",
    "outFile.create_dataset(\"SpillID\",                  data=segHead[:]['spill'])\n",
    "outFile.create_dataset(\"InteractionID\",            data=segHead[:]['interactionID'])\n",
    "outFile.create_dataset(\"TrackID\",                  data=segHead[:]['trackID'])\n",
    "outFile.create_dataset(\"PDG\",                      data=segHead[:]['pdg'])\n",
    "outFile.create_dataset(\"StartXPos\",                data=segPos[:]['start_x'])\n",
    "outFile.create_dataset(\"EndXPos\",                  data=segPos[:]['end_x'])\n",
    "outFile.create_dataset(\"StartYPos\",                data=segPos[:]['start_y'])\n",
    "outFile.create_dataset(\"EndYPos\",                  data=segPos[:]['end_y'])\n",
    "outFile.create_dataset(\"StartZPos\",                data=segPos[:]['start_z'])\n",
    "outFile.create_dataset(\"EndZPos\",                  data=segPos[:]['end_z'])\n",
    "outFile.create_dataset(\"IonizationElectrons\",      data=ionE[:]['nElectrons'])\n",
    "outFile.create_dataset(\"LongitudnalDiffusion\",     data=ionE[:]['long_diff'])\n",
    "outFile.create_dataset(\"TransverseDiffusion\",      data=ionE[:]['trans_diff'])"
   ]
  },
  {
   "cell_type": "code",
   "execution_count": 26,
   "metadata": {},
   "outputs": [],
   "source": [
    "inFile.close()\n",
    "outFile.close()"
   ]
  },
  {
   "cell_type": "markdown",
   "metadata": {},
   "source": [
    "<font color=black>__The End!__</font>"
   ]
  }
 ],
 "metadata": {
  "kernelspec": {
   "display_name": "Python3_Numba_gpu",
   "language": "python",
   "name": "numba_cuda_env"
  },
  "language_info": {
   "codemirror_mode": {
    "name": "ipython",
    "version": 3
   },
   "file_extension": ".py",
   "mimetype": "text/x-python",
   "name": "python",
   "nbconvert_exporter": "python",
   "pygments_lexer": "ipython3",
   "version": "3.7.7"
  }
 },
 "nbformat": 4,
 "nbformat_minor": 4
}
