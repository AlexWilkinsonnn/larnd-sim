{
 "cells": [
  {
   "cell_type": "code",
   "execution_count": 15,
   "metadata": {},
   "outputs": [],
   "source": [
    "import detsim\n",
    "import importlib\n",
    "importlib.reload(detsim)\n",
    "\n",
    "import matplotlib.pyplot as plt\n",
    "import pickle\n",
    "import numpy as np\n",
    "import torch \n",
    "from tqdm import tqdm_notebook\n",
    "\n",
    "tracks = pickle.load(open('tracks.p', 'rb'))\n",
    "tracks['t'] = 0\n",
    "tracks['t_start'] = 0\n",
    "tracks['t_end'] = 0\n",
    "\n",
    "tracks['dx'] = np.sqrt(pow(tracks['x_end']-tracks['x_start'], 2) +\n",
    "                    pow(tracks['y_end']-tracks['y_start'], 2) +\n",
    "                    pow(tracks['z_end']-tracks['z_start'], 2))\n",
    "tracks['x'] = (tracks['x_end']+tracks['x_start'])/2\n",
    "tracks['y'] = (tracks['y_end']+tracks['y_start'])/2\n",
    "tracks['z'] = (tracks['z_end']+tracks['z_start'])/2\n",
    "tracks['dE'] = np.abs(tracks['dE'])*1e3\n",
    "tracks['dEdx'] = tracks['dE']/tracks['dx']\n",
    "tracks['NElectrons'] = 0\n",
    "tracks['longDiff'] = 0\n",
    "tracks['tranDiff'] = 0\n",
    "\n",
    "indeces = {c:i for i, c, in enumerate(tracks.columns)}\n",
    "device = torch.device('cuda' if torch.cuda.is_available() else 'cpu')\n",
    "\n",
    "track_tensor = torch.tensor(tracks.values).to(device)\n",
    "\n",
    "quenching = detsim.Quenching(**indeces)\n",
    "quenchedTracks = quenching(track_tensor)\n",
    "\n",
    "drifting = detsim.Drifting(**indeces)\n",
    "driftedTracks = drifting(quenchedTracks)\n",
    "\n",
    "selectedTracks = driftedTracks[(driftedTracks[:, indeces['trackID']] > 6) & (driftedTracks[:, indeces['trackID']] < 10)]"
   ]
  },
  {
   "cell_type": "code",
   "execution_count": 16,
   "metadata": {},
   "outputs": [
    {
     "data": {
      "application/vnd.jupyter.widget-view+json": {
       "model_id": "6764ba18bc0a43f4bba5d1840520cba3",
       "version_major": 2,
       "version_minor": 0
      },
      "text/plain": [
       "HBox(children=(IntProgress(value=0, description='Processing tracks...', max=3, style=ProgressStyle(description…"
      ]
     },
     "metadata": {},
     "output_type": "display_data"
    },
    {
     "name": "stdout",
     "output_type": "stream",
     "text": [
      "\n"
     ]
    }
   ],
   "source": [
    "tpc = detsim.TPC(t_sampling=1, n_pixels=1000, **indeces)\n",
    "\n",
    "for t in tqdm_notebook(selectedTracks, desc='Processing tracks...'):\n",
    "    img = tpc.depositTrackCharge(t)"
   ]
  },
  {
   "cell_type": "code",
   "execution_count": 17,
   "metadata": {},
   "outputs": [
    {
     "data": {
      "application/vnd.jupyter.widget-view+json": {
       "model_id": "492a2f08c8e642209ad33642fcdf4d51",
       "version_major": 2,
       "version_minor": 0
      },
      "text/plain": [
       "HBox(children=(IntProgress(value=0, description='Calculating pixels response...', max=1278, style=ProgressStyl…"
      ]
     },
     "metadata": {},
     "output_type": "display_data"
    },
    {
     "name": "stdout",
     "output_type": "stream",
     "text": [
      "\n"
     ]
    }
   ],
   "source": [
    "tpc.activePixelsResponse()"
   ]
  },
  {
   "cell_type": "code",
   "execution_count": 18,
   "metadata": {},
   "outputs": [
    {
     "data": {
      "application/vnd.jupyter.widget-view+json": {
       "model_id": "4a72093d8dee423cb7706cda249b74d4",
       "version_major": 2,
       "version_minor": 0
      },
      "text/plain": [
       "Canvas(toolbar=Toolbar(toolitems=[('Home', 'Reset original view', 'home', 'home'), ('Back', 'Back to previous …"
      ]
     },
     "metadata": {},
     "output_type": "display_data"
    }
   ],
   "source": [
    "%matplotlib widget\n",
    "fig, ax = plt.subplots(1,1,figsize=(6,6),constrained_layout=True)\n",
    "ax.set_aspect('equal')\n",
    "\n",
    "x = selectedTracks[:,indeces['x_start']].numpy(),selectedTracks[:,indeces['x_end']].numpy()\n",
    "y = selectedTracks[:,indeces['y_start']].numpy(),selectedTracks[:,indeces['y_end']].numpy()\n",
    "ax.plot(x,y,lw=1,c='r')\n",
    "\n",
    "import matplotlib as mpl\n",
    "import matplotlib.cm as cm\n",
    "\n",
    "charges = [sum(p.charge) for p in tpc.activePixels]\n",
    "norm = mpl.colors.LogNorm(vmin=1, vmax=max(charges))\n",
    "cmap = cm.viridis\n",
    "\n",
    "m = cm.ScalarMappable(norm=norm, cmap=cmap)\n",
    "\n",
    "for i, p in enumerate(tpc.activePixels):\n",
    "    rect = plt.Rectangle((p.id[0]*tpc.x_pixel_size-150, p.id[1]*tpc.y_pixel_size-150),\n",
    "                         tpc.x_pixel_size,\n",
    "                         tpc.y_pixel_size,\n",
    "                         linewidth=0.5,\n",
    "                         edgecolor='grey', \n",
    "                         facecolor=m.to_rgba(charges[i]))\n",
    "    ax.add_patch(rect)\n",
    "\n",
    "ax.set_xlabel(\"x [cm]\")\n",
    "ax.set_ylabel(\"y [cm]\")\n",
    "\n",
    "cax = fig.add_axes([ax.get_position().x1+0.13,ax.get_position().y0-0.05,0.05,ax.get_position().height*1.21])\n",
    "_ = plt.colorbar(m,cax=cax,label='Deposited charge')"
   ]
  },
  {
   "cell_type": "code",
   "execution_count": 26,
   "metadata": {},
   "outputs": [
    {
     "data": {
      "text/plain": [
       "True"
      ]
     },
     "execution_count": 26,
     "metadata": {},
     "output_type": "execute_result"
    }
   ],
   "source": [
    "tpc.getPixelFromCoordinates(-112,72) in tpc.activePixelsIDs"
   ]
  },
  {
   "cell_type": "code",
   "execution_count": 49,
   "metadata": {},
   "outputs": [
    {
     "data": {
      "application/vnd.jupyter.widget-view+json": {
       "model_id": "c54057aa97c24636a063ae982b3dfa15",
       "version_major": 2,
       "version_minor": 0
      },
      "text/plain": [
       "Canvas(toolbar=Toolbar(toolitems=[('Home', 'Reset original view', 'home', 'home'), ('Back', 'Back to previous …"
      ]
     },
     "metadata": {},
     "output_type": "display_data"
    },
    {
     "data": {
      "text/plain": [
       "Text(0.5, 0, 'Time [$\\\\mu$s]')"
      ]
     },
     "execution_count": 49,
     "metadata": {},
     "output_type": "execute_result"
    }
   ],
   "source": [
    "fig, ax = plt.subplots(1,1)\n",
    "pixelID = tpc.getPixelFromCoordinates(-112,72.5)\n",
    "ax.plot(tpc.anode_t, tpc.activePixels[tpc.activePixelsIDs.index(pixelID)].charge, label='Charge')\n",
    "ax.plot(tpc.anode_t, tpc.activePixels[tpc.activePixelsIDs.index(pixelID)].current*10, label='Current')\n",
    "ax.set_xlim(150,250)\n",
    "ax.set_title(\"Pixel (%i,%i)\" % (pixelID[0], pixelID[1]))\n",
    "ax.set_xlabel(\"Time [$\\mu$s]\")\n",
    "_ "
   ]
  },
  {
   "cell_type": "code",
   "execution_count": null,
   "metadata": {},
   "outputs": [],
   "source": []
  }
 ],
 "metadata": {
  "kernelspec": {
   "display_name": "Python 3",
   "language": "python",
   "name": "python3"
  },
  "language_info": {
   "codemirror_mode": {
    "name": "ipython",
    "version": 3
   },
   "file_extension": ".py",
   "mimetype": "text/x-python",
   "name": "python",
   "nbconvert_exporter": "python",
   "pygments_lexer": "ipython3",
   "version": "3.7.7"
  }
 },
 "nbformat": 4,
 "nbformat_minor": 4
}
