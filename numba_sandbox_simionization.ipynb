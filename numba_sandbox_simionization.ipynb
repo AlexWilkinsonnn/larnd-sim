{
 "cells": [
  {
   "cell_type": "code",
   "execution_count": 1,
   "metadata": {},
   "outputs": [],
   "source": [
    "'''This code is a prototype to demonstrate the use\n",
    "of numba for GPU computing. It takes a mock dataset of\n",
    "tracks position and energy deposit and computes\n",
    "recombination factor, longitudna and transverse diffusion,\n",
    "lifetime and number of electrons.'''\n",
    "\n",
    "import numpy as np\n",
    "import cupy as cp\n",
    "import pandas as pd\n",
    "import sys\n",
    "import time\n",
    "import numba\n",
    "from numba import cuda\n",
    "from numba import vectorize\n",
    "import math"
   ]
  },
  {
   "cell_type": "code",
   "execution_count": 84,
   "metadata": {},
   "outputs": [],
   "source": [
    "'''Functions to declare constants to calcuate recombination.\n",
    "A function decorated with device=True only resides\n",
    "on GPU memory and is accessible only via GPU machines.'''\n",
    "\n",
    "@cuda.jit(device=True)\n",
    "def calc_epsilon(dedx):\n",
    "    _density = 1.38    # g/cm^3\n",
    "    _alpha   = 0.930\n",
    "    _beta    = 0.212\n",
    "    _efield  = 0.500   # V/sm\n",
    "   \n",
    "    _epsilon = _beta/(_density * _efield) * dedx\n",
    "    return _alpha, _epsilon\n",
    "\n",
    "'''Function to calculate the recombination factor.\n",
    "A function decorated with vecotrize is a way to \n",
    "define a numpy ufunc --> universal func to do\n",
    "elementwise calculation on an array on gpu'''\n",
    "\n",
    "@vectorize(['float64(float64, float64, float64, float64, float64, float64, float64)'], target='cuda')\n",
    "def get_recomb_factor(x_start,x_end,y_start,y_end,z_start,z_end,de):\n",
    "    dx        = math.sqrt((x_end - x_start) ** 2 + \n",
    "                   (y_end - y_start) ** 2 +\n",
    "                   (z_end - z_start) ** 2)\n",
    "    dedx      = abs(de)*1e3/dx\n",
    "    alpha, ep = calc_epsilon(dedx)\n",
    "    return math.log(alpha + ep) / ep;"
   ]
  },
  {
   "cell_type": "code",
   "execution_count": 79,
   "metadata": {},
   "outputs": [],
   "source": [
    "@cuda.jit(device=True)\n",
    "def get_diffusion_consts():\n",
    "    _vdrift   = 0.153812 # cm/us\n",
    "    _msTous   = 10e3 # us\n",
    "    _tpcZ     = 0\n",
    "    _lDiff    = 6.2e-6 # cm^2/us\n",
    "    _tDiff    = 16.3e-6 # cm^2/us\n",
    "    return _tpcZ, _vdrift, _msTous, _lDiff, _tDiff\n",
    "\n",
    "'''Function to calculate lifetime and diffusion coefficients.\n",
    "Traditional GPU kernel function which loops over blocks and grids\n",
    "on GPU machines. Not using a vectorize decorator as we can calculate\n",
    "3 different quantities in the same call and return them together.'''\n",
    "\n",
    "@cuda.jit\n",
    "def get_lifetime_diffusion_coeff(z_start, z_end, dE, lifetime, long_diffusion, trans_diffusion):\n",
    "    start  = cuda.grid(1)      # 1 = one dimensional thread grid, returns a single value\n",
    "    stride = cuda.gridsize(1) # ditto\n",
    "\n",
    "    _tpcPlaneZ, _vdrift, _msTous, _lDiff, _tDiff = get_diffusion_consts();\n",
    "    for i in range(start, z_start.shape[0], stride):\n",
    "        z = (z_end[i] - z_start[i])/2.    \n",
    "        drift_time  = abs(z - _tpcPlaneZ)/ _vdrift;\n",
    "        lifetime[i] = math.exp(-drift_time/_msTous)\n",
    "        long_diffusion[i]  = math.sqrt(drift_time) * _lDiff\n",
    "        trans_diffusion[i] = math.sqrt(drift_time) * _tDiff/_vdrift + drift_time"
   ]
  },
  {
   "cell_type": "code",
   "execution_count": 95,
   "metadata": {},
   "outputs": [],
   "source": [
    "'''Vectorize to declare numpy ufunc equivalent for GPU.\n",
    "Numba's power in declaring custom kernel function:\n",
    "While numpy.multiply (or GPU equivalent cupy.multiply)\n",
    "exists to mulitply two arrays. This will directly multiply\n",
    "3 array with a const in equivalent time. '''\n",
    "\n",
    "@vectorize(['float64(float64, float64, float64)'], target='cuda')\n",
    "def get_nElectrons(de,recomb, lifetime):\n",
    "    _MeVToElectrons = 4.237e+04\n",
    "    return de * recomb * lifetime * _MeVToElectrons"
   ]
  },
  {
   "cell_type": "code",
   "execution_count": 85,
   "metadata": {},
   "outputs": [],
   "source": [
    "'''Function to copy track information to GPU arrays\n",
    "and declare new GPU arrays for computation.'''\n",
    "\n",
    "def initialize_gpu_arrays(tracks):\n",
    "    '''Input Data as GPU arrays'''   \n",
    "    global x_start_device, x_end_device, y_start_device, y_end_device, z_start_device, z_end_device, dE_device\n",
    "    x_start_device = cuda.to_device(tracks['x_start'].to_numpy())\n",
    "    x_end_device   = cuda.to_device(tracks['x_end'].to_numpy())\n",
    "    y_start_device = cuda.to_device(tracks['y_start'].to_numpy())\n",
    "    y_end_device   = cuda.to_device(tracks['y_end'].to_numpy())\n",
    "    z_start_device = cuda.to_device(tracks['z_start'].to_numpy())\n",
    "    z_end_device   = cuda.to_device(tracks['z_end'].to_numpy())\n",
    "    dE_device      = cuda.to_device(tracks['dE'].to_numpy())\n",
    "\n",
    "    '''Output as GPU arrays'''\n",
    "    global recomb_device, lifetime_device, long_diffusion_device, trans_diffusion_device, nelec_device\n",
    "    recomb_device          = cuda.device_array_like(x_start_device)\n",
    "    lifetime_device        = cuda.device_array_like(x_start_device)\n",
    "    long_diffusion_device  = cuda.device_array_like(x_start_device)\n",
    "    trans_diffusion_device = cuda.device_array_like(x_start_device)\n",
    "    nelec_device           = cuda.device_array_like(x_start_device)"
   ]
  },
  {
   "cell_type": "code",
   "execution_count": 122,
   "metadata": {},
   "outputs": [],
   "source": [
    "def main():\n",
    "    \n",
    "        tracks = pd.read_csv('tracks.txt', delim_whitespace=True)\n",
    "        #print(\"Input data: \")\n",
    "        #print(tracks[0:10])\n",
    "        \n",
    "        initialize_gpu_arrays(tracks)\n",
    "        \n",
    "        threads_per_block = 128\n",
    "        blocks_per_grid   = 30\n",
    "        \n",
    "        get_lifetime_diffusion_coeff[blocks_per_grid, threads_per_block](z_start_device, \n",
    "                                     z_end_device, \n",
    "                                     dE_device, \n",
    "                                     lifetime_device, \n",
    "                                     long_diffusion_device,\n",
    "                                     trans_diffusion_device)\n",
    "        \n",
    "      \n",
    "        recomb_device = get_recomb_factor(x_start_device,\n",
    "                                         x_end_device,\n",
    "                                         y_start_device,\n",
    "                                         y_end_device,\n",
    "                                         z_start_device,\n",
    "                                         z_end_device,\n",
    "                                         dE_device)  \n",
    "\n",
    "        nelec_device = get_nElectrons(dE_device, recomb_device, lifetime_device)\n",
    "        \n",
    "        tracks['recomb_factor']         = recomb_device.copy_to_host()\n",
    "        tracks['lifetime']              = lifetime_device.copy_to_host()\n",
    "        tracks['longitudnal_diffusion'] = long_diffusion_device.copy_to_host()\n",
    "        tracks['transverse_diffusion']  = trans_diffusion_device.copy_to_host()\n",
    "        tracks['nElectrons']            = nelec_device.copy_to_host()\n",
    "        \n",
    "        #print(\"The new data frame after calculation is: \")\n",
    "        #print(tracks[0:10])"
   ]
  },
  {
   "cell_type": "code",
   "execution_count": 123,
   "metadata": {},
   "outputs": [],
   "source": [
    "main()"
   ]
  },
  {
   "cell_type": "code",
   "execution_count": 124,
   "metadata": {},
   "outputs": [
    {
     "name": "stdout",
     "output_type": "stream",
     "text": [
      "14.6 ms ± 224 µs per loop (mean ± std. dev. of 7 runs, 100 loops each)\n"
     ]
    }
   ],
   "source": [
    "%timeit main()"
   ]
  },
  {
   "cell_type": "code",
   "execution_count": 119,
   "metadata": {},
   "outputs": [
    {
     "name": "stdout",
     "output_type": "stream",
     "text": [
      "CPU times: user 667 µs, sys: 0 ns, total: 667 µs\n",
      "Wall time: 601 µs\n"
     ]
    }
   ],
   "source": [
    "%%time\n",
    "threads_per_block = 128\n",
    "blocks_per_grid   = 30\n",
    "        \n",
    "get_lifetime_diffusion_coeff[blocks_per_grid, threads_per_block](z_start_device, \n",
    "                                     z_end_device, \n",
    "                                     dE_device, \n",
    "                                     lifetime_device, \n",
    "                                     long_diffusion_device,\n",
    "                                     trans_diffusion_device)"
   ]
  },
  {
   "cell_type": "code",
   "execution_count": 120,
   "metadata": {},
   "outputs": [
    {
     "name": "stdout",
     "output_type": "stream",
     "text": [
      "CPU times: user 3 µs, sys: 3.77 ms, total: 3.77 ms\n",
      "Wall time: 3.14 ms\n"
     ]
    }
   ],
   "source": [
    "%time nelec_device = get_nElectrons(dE_device, recomb_device, lifetime_device)"
   ]
  },
  {
   "cell_type": "code",
   "execution_count": 121,
   "metadata": {},
   "outputs": [
    {
     "name": "stdout",
     "output_type": "stream",
     "text": [
      "CPU times: user 5.25 ms, sys: 74 µs, total: 5.32 ms\n",
      "Wall time: 4.57 ms\n"
     ]
    }
   ],
   "source": [
    "%%time \n",
    "recomb_device = get_recomb_factor(x_start_device,\n",
    "                                         x_end_device,\n",
    "                                         y_start_device,\n",
    "                                         y_end_device,\n",
    "                                         z_start_device,\n",
    "                                         z_end_device,\n",
    "                                         dE_device)"
   ]
  },
  {
   "cell_type": "code",
   "execution_count": null,
   "metadata": {},
   "outputs": [],
   "source": []
  }
 ],
 "metadata": {
  "kernelspec": {
   "display_name": "Python3_Numba_gpu",
   "language": "python",
   "name": "numba_cuda_env"
  },
  "language_info": {
   "codemirror_mode": {
    "name": "ipython",
    "version": 3
   },
   "file_extension": ".py",
   "mimetype": "text/x-python",
   "name": "python",
   "nbconvert_exporter": "python",
   "pygments_lexer": "ipython3",
   "version": "3.7.7"
  }
 },
 "nbformat": 4,
 "nbformat_minor": 4
}
