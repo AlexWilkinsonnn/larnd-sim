{
 "cells": [
  {
   "cell_type": "code",
   "execution_count": 115,
   "metadata": {},
   "outputs": [],
   "source": [
    "import pandas as pd\n",
    "import numpy as np\n",
    "import torch\n",
    "import matplotlib.pyplot as plt"
   ]
  },
  {
   "cell_type": "code",
   "execution_count": 3,
   "metadata": {},
   "outputs": [
    {
     "name": "stdout",
     "output_type": "stream",
     "text": [
      "Using device: cuda\n"
     ]
    }
   ],
   "source": [
    "device = torch.device('cuda' if torch.cuda.is_available() else 'cpu')\n",
    "print('Using device:', device)"
   ]
  },
  {
   "cell_type": "code",
   "execution_count": 36,
   "metadata": {},
   "outputs": [],
   "source": [
    "tracks = pd.read_csv('tracks.txt', delim_whitespace=True)\n",
    "\n",
    "tracks['dx'] = np.sqrt(pow(tracks['x_end']-tracks['x_start'], 2) + \n",
    "                       pow(tracks['y_end']-tracks['y_start'], 2) +\n",
    "                       pow(tracks['z_end']-tracks['z_start'], 2))\n",
    "\n",
    "tracks['x'] = (tracks['x_end']-tracks['x_start'])/2\n",
    "tracks['y'] = (tracks['y_end']-tracks['y_start'])/2\n",
    "tracks['z'] = (tracks['z_end']-tracks['z_start'])/2\n",
    "\n",
    "tracks['dE'] = np.abs(tracks['dE']*1e3)\n",
    "tracks['dEdx'] = tracks['dE']/tracks['dx']\n",
    "# tracks = tracks.drop(columns=['x_start','y_start','z_start','x_end','y_end','z_end'])\n",
    "device = torch.device(\"cuda:0\" if torch.cuda.is_available() else \"cpu\")\n",
    "ttracks = torch.tensor(tracks.values).to(device)\n",
    "\n",
    "ix = tracks.columns.get_loc(\"x\")\n",
    "iy = tracks.columns.get_loc(\"y\")\n",
    "idE = tracks.columns.get_loc(\"dE\")\n",
    "idx = tracks.columns.get_loc(\"dx\")\n",
    "idEdx = tracks.columns.get_loc(\"dEdx\")\n",
    "iz = tracks.columns.get_loc(\"z\")\n",
    "iNElectrons = iz+1\n",
    "iDriftTime =iz+2\n",
    "iLDiff = iz+3\n",
    "iTDiff = iz+4"
   ]
  },
  {
   "cell_type": "code",
   "execution_count": 101,
   "metadata": {},
   "outputs": [],
   "source": [
    "\n",
    "class IonizationElectrons(torch.nn.Module):\n",
    "    def __init__(self):\n",
    "        \"\"\"\n",
    "        \"\"\"\n",
    "        self._MeVToElectrons = 4.237e+04\n",
    "        self._alpha   = 0.847\n",
    "        self._beta    = 0.2061\n",
    "        self._vdrift  = 0.153812 # cm/us\n",
    "        self._lifetime = 10e3 # us\n",
    "        self._tpcPlaneZ = 0\n",
    "        self._lDiff = 6.2e-6 # cm^2/us\n",
    "        self._tDiff = 16.3e-6 # cm^2/us\n",
    "\n",
    "        super(IonizationElectrons, self).__init__()\n",
    "\n",
    "        \n",
    "    def forward(self, x):\n",
    "        \"\"\"\n",
    "        In the forward function we accept a Tensor of input data and we must return\n",
    "        a Tensor of output data. We can use Modules defined in the constructor as\n",
    "        well as arbitrary operators on Tensors.\n",
    "        \"\"\"\n",
    "\n",
    "        add_column = torch.nn.ZeroPad2d((0, 1, 0, 0))\n",
    "        x = add_column(x)\n",
    "        x = add_column(x)\n",
    "        x = add_column(x)\n",
    "        x = add_column(x)\n",
    "\n",
    "        recomb = torch.log(self._alpha + self._beta * x[:,idEdx]) / (self._beta * x[:,idEdx])\n",
    "        recomb = torch.where(recomb<=0, torch.zeros_like(recomb), recomb)\n",
    "        recomb = torch.where(torch.isnan(recomb), torch.zeros_like(recomb), recomb)\n",
    "\n",
    "        driftDistance = torch.abs(x[:,iz] - self._tpcPlaneZ)\n",
    "        driftTime = driftDistance / self._vdrift\n",
    "        lifetime = torch.exp(-driftTime / self._lifetime)\n",
    "\n",
    "        x[:,iNElectrons] = self._MeVToElectrons * x[:,idE] * recomb * lifetime\n",
    "        x[:,iDriftTime] = driftTime\n",
    "        x[:,iLDiff] = torch.sqrt(driftTime) * self._lDiff\n",
    "        x[:,iTDiff] = torch.sqrt(driftTime) * self._tDiff / self._vdrift + x[:,iDriftTime] \n",
    "\n",
    "        return x"
   ]
  },
  {
   "cell_type": "code",
   "execution_count": 102,
   "metadata": {},
   "outputs": [],
   "source": [
    "ionizationElectrons = IonizationElectrons()\n",
    "driftedTracks = ionizationElectrons(ttracks)"
   ]
  },
  {
   "cell_type": "code",
   "execution_count": 123,
   "metadata": {},
   "outputs": [
    {
     "data": {
      "image/png": "[encoded data removed]",
      "text/plain": [
       "<Figure size 432x288 with 1 Axes>"
      ]
     },
     "metadata": {
      "needs_background": "light"
     },
     "output_type": "display_data"
    }
   ],
   "source": [
    "_ = plt.hist(driftedTracks[:,3].cpu().numpy(), bins=20)"
   ]
  },
  {
   "cell_type": "code",
   "execution_count": null,
   "metadata": {},
   "outputs": [],
   "source": []
  }
 ],
 "metadata": {
  "kernelspec": {
   "display_name": "pytorch-v1.2.0-gpu",
   "language": "python",
   "name": "pytorch-v1.2.0-gpu"
  },
  "language_info": {
   "codemirror_mode": {
    "name": "ipython",
    "version": 3
   },
   "file_extension": ".py",
   "mimetype": "text/x-python",
   "name": "python",
   "nbconvert_exporter": "python",
   "pygments_lexer": "ipython3",
   "version": "3.6.9"
  }
 },
 "nbformat": 4,
 "nbformat_minor": 4
}
