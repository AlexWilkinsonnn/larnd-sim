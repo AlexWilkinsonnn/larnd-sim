{
 "cells": [
  {
   "cell_type": "code",
   "execution_count": 89,
   "metadata": {},
   "outputs": [],
   "source": [
    "import random \n",
    "\n",
    "sample = open('tracks.txt', 'w')\n",
    "\n",
    "print(\"track_id x_start y_start z_start x_end y_end z_end dE\", file=sample)\n",
    "\n",
    "for i in range(int(1e2)):\n",
    "    for j in range(int(random.random()*1000)):\n",
    "        print(i, random.random(), random.random(), random.random(), \n",
    "              2*random.random(), 2*random.random(), 2*random.random(), \n",
    "              abs(random.random())*10, file=sample)\n",
    "    \n",
    "sample.close()"
   ]
  },
  {
   "cell_type": "code",
   "execution_count": 90,
   "metadata": {},
   "outputs": [],
   "source": [
    "import pandas as pd\n",
    "import numpy as np\n",
    "import torch"
   ]
  },
  {
   "cell_type": "code",
   "execution_count": 131,
   "metadata": {},
   "outputs": [],
   "source": [
    "tracks = pd.read_csv('tracks.txt', delim_whitespace=True)\n",
    "\n",
    "tracks['dx'] = np.sqrt(pow(tracks['x_end']-tracks['x_start'], 2) + \n",
    "                       pow(tracks['y_end']-tracks['y_start'], 2) +\n",
    "                       pow(tracks['z_end']-tracks['z_start'], 2))\n",
    "\n",
    "tracks['x'] = (tracks['x_end']-tracks['x_start'])/2\n",
    "tracks['y'] = (tracks['y_end']-tracks['y_start'])/2\n",
    "tracks['z'] = (tracks['z_end']-tracks['z_start'])/2\n",
    "\n",
    "tracks['dE'] = np.abs(tracks['dE'])\n",
    "tracks['dEdx'] = tracks['dE']/tracks['dx']\n",
    "tracks['dEdx'][tracks['dEdx'] < 1] = 1\n",
    "tracks = tracks.drop(columns=['x_start','y_start','z_start','x_end','y_end','z_end'])\n",
    "device = torch.device(\"cuda:0\" if torch.cuda.is_available() else \"cpu\")\n",
    "ttracks = torch.tensor(tracks.values).to(device)\n",
    "\n",
    "ix = tracks.columns.get_loc(\"x\")\n",
    "idE = tracks.columns.get_loc(\"dE\")\n",
    "idx = tracks.columns.get_loc(\"dx\")\n",
    "idEdx = tracks.columns.get_loc(\"dEdx\")\n"
   ]
  },
  {
   "cell_type": "code",
   "execution_count": 138,
   "metadata": {},
   "outputs": [],
   "source": [
    "\n",
    "class IonizationElectrons(torch.nn.Module):\n",
    "    def __init__(self):\n",
    "        \"\"\"\n",
    "        In the constructor we instantiate two nn.Linear modules and assign them as\n",
    "        member variables.\n",
    "        \"\"\"\n",
    "        self._MeVToElectrons = 4.237e+04\n",
    "        self._alpha   = 0.847\n",
    "        self._beta    = 0.2061\n",
    "        self._vdrift  = 0.153812 # cm/us\n",
    "        self._lifetime = 6000.  # ms\n",
    "\n",
    "        super(IonizationElectrons, self).__init__()\n",
    "\n",
    "        \n",
    "    def forward(self, x):\n",
    "        \"\"\"\n",
    "        In the forward function we accept a Tensor of input data and we must return\n",
    "        a Tensor of output data. We can use Modules defined in the constructor as\n",
    "        well as arbitrary operators on Tensors.\n",
    "        \"\"\"\n",
    "        add_column = torch.nn.ZeroPad2d((0, 1, 0, 0))\n",
    "        x = add_column(x)\n",
    "\n",
    "        recomb = torch.log(self._alpha + self._beta * x[:,idEdx]) / (self._beta * x[:,idEdx])\n",
    "        lifetime = torch.exp( -1. * x[:,ix] / self._vdrift / self._lifetime)\n",
    "        x[:,-1] = self._MeVToElectrons * x[:,idE] * recomb * lifetime\n",
    "        \n",
    "        return x"
   ]
  },
  {
   "cell_type": "code",
   "execution_count": 143,
   "metadata": {},
   "outputs": [
    {
     "name": "stdout",
     "output_type": "stream",
     "text": [
      "tensor([0.9997, 1.0002, 0.9992,  ..., 0.9993, 1.0004, 1.0000],\n",
      "       dtype=torch.float64)\n"
     ]
    }
   ],
   "source": [
    "ionizationElectrons = IonizationElectrons()\n",
    "ttracks = ionizationElectrons(ttracks)"
   ]
  },
  {
   "cell_type": "code",
   "execution_count": 146,
   "metadata": {},
   "outputs": [],
   "source": [
    "head = ttracks[:10]"
   ]
  },
  {
   "cell_type": "code",
   "execution_count": 216,
   "metadata": {},
   "outputs": [
    {
     "data": {
      "text/plain": [
       "tensor([[ 0.0000e+00,  8.7146e+00,  1.8030e+00,  2.9352e-01,  4.8586e-01,\n",
       "          7.0034e-01,  4.8334e+00,  2.2658e+05,  2.2658e+05],\n",
       "        [ 0.0000e+00,  5.9056e+00,  1.0336e+00, -1.4539e-01,  1.5261e-01,\n",
       "          4.7189e-01,  5.7134e+00,  1.4990e+05,  1.4990e+05],\n",
       "        [ 0.0000e+00,  5.1408e+00,  1.8252e+00,  7.0177e-01,  3.7837e-01,\n",
       "          4.4403e-01,  2.8166e+00,  1.3345e+05,  1.3345e+05],\n",
       "        [ 0.0000e+00,  3.4608e+00,  3.7379e-01,  1.6124e-01,  9.4322e-02,\n",
       "          5.9868e-03,  9.2587e+00,  7.7868e+04,  7.7868e+04],\n",
       "        [ 0.0000e+00,  6.1849e+00,  1.4931e+00,  6.3315e-01, -1.7205e-01,\n",
       "          3.5615e-01,  4.1424e+00,  1.6290e+05,  1.6290e+05],\n",
       "        [ 0.0000e+00,  1.8484e+00,  1.3534e+00,  3.0020e-01, -3.6456e-01,\n",
       "          4.8465e-01,  1.3657e+00,  3.3619e+04,  3.3619e+04],\n",
       "        [ 0.0000e+00,  3.8517e+00,  2.0974e+00,  2.6614e-01,  3.9730e-01,\n",
       "          9.3330e-01,  1.8365e+00,  8.7651e+04,  8.7651e+04],\n",
       "        [ 0.0000e+00,  1.9746e-01,  1.5656e+00,  2.4627e-01,  2.2159e-01,\n",
       "          7.0923e-01,  1.0000e+00,  2.0997e+03,  2.0997e+03],\n",
       "        [ 0.0000e+00,  4.7137e+00,  2.5263e-01,  1.5585e-02, -1.0846e-01,\n",
       "          6.2832e-02,  1.8659e+01,  8.0290e+04,  8.0290e+04],\n",
       "        [ 0.0000e+00,  5.8436e+00,  1.3412e+00,  3.9893e-01,  4.7827e-01,\n",
       "         -2.4860e-01,  4.3570e+00,  1.5344e+05,  1.5344e+05]],\n",
       "       dtype=torch.float64)"
      ]
     },
     "execution_count": 216,
     "metadata": {},
     "output_type": "execute_result"
    }
   ],
   "source": [
    "head.size()\n",
    "torch.ceil(head[0][-1])\n",
    "tracks = head\n",
    "tracks"
   ]
  },
  {
   "cell_type": "code",
   "execution_count": 207,
   "metadata": {},
   "outputs": [
    {
     "data": {
      "text/plain": [
       "torch.Size([18458, 1])"
      ]
     },
     "execution_count": 207,
     "metadata": {},
     "output_type": "execute_result"
    }
   ],
   "source": [
    "clusters = torch.zeros((tracks[0][-1]/60).int(), 1)\n",
    "\n",
    "for t in tracks[1:]:\n",
    "    cluster = torch.zeros((t[-1]/60).int(), 1)\n",
    "    clusters = torch.cat((clusters, cluster))"
   ]
  },
  {
   "cell_type": "code",
   "execution_count": null,
   "metadata": {},
   "outputs": [],
   "source": []
  }
 ],
 "metadata": {
  "kernelspec": {
   "display_name": "Python 3",
   "language": "python",
   "name": "python3"
  },
  "language_info": {
   "codemirror_mode": {
    "name": "ipython",
    "version": 3
   },
   "file_extension": ".py",
   "mimetype": "text/x-python",
   "name": "python",
   "nbconvert_exporter": "python",
   "pygments_lexer": "ipython3",
   "version": "3.7.7"
  }
 },
 "nbformat": 4,
 "nbformat_minor": 4
}
