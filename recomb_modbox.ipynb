{
 "cells": [
  {
   "cell_type": "code",
   "execution_count": 5,
   "metadata": {},
   "outputs": [],
   "source": [
    "import numpy as np\n",
    "import cupy as cp\n",
    "import sys\n",
    "import time\n",
    "from numba import cuda\n",
    "from numba import vectorize\n",
    "import math"
   ]
  },
  {
   "cell_type": "code",
   "execution_count": 6,
   "metadata": {},
   "outputs": [],
   "source": [
    "@cuda.jit(device=True)\n",
    "def calc_epsilon(dedx):\n",
    "    density = 1.38    # g/cm^3\n",
    "    alpha   = 0.847\n",
    "    beta    = 0.2061\n",
    "    efield  = 0.500   # V/sm\n",
    "   \n",
    "    epsilon = beta/(density*efield) * dedx\n",
    "    return alpha, epsilon\n",
    "\n",
    "@vectorize(['float64(float64)'], target='cuda')\n",
    "def modified_box(dedx):\n",
    "    alpha, ep = calc_epsilon(dedx)\n",
    "    return math.log(alpha + ep) / ep;"
   ]
  },
  {
   "cell_type": "code",
   "execution_count": 20,
   "metadata": {},
   "outputs": [
    {
     "name": "stdout",
     "output_type": "stream",
     "text": [
      "CPU times: user 881 ms, sys: 144 ms, total: 1.03 s\n",
      "Wall time: 1.02 s\n"
     ]
    }
   ],
   "source": [
    "%%time\n",
    "npts = int(1e8)\n",
    "dedx = np.random.random(npts) * 0.5 + 2.\n",
    "result = np.empty_like(dedx)\n",
    "np_dedx_device = cuda.to_device(dedx)\n",
    "np_result_device = cuda.device_array_like(np_dedx)"
   ]
  },
  {
   "cell_type": "code",
   "execution_count": 22,
   "metadata": {},
   "outputs": [
    {
     "name": "stdout",
     "output_type": "stream",
     "text": [
      "CPU times: user 0 ns, sys: 6.79 ms, total: 6.79 ms\n",
      "Wall time: 6.09 ms\n"
     ]
    }
   ],
   "source": [
    "%%time\n",
    "npts = int(1e8)\n",
    "cp_dedx_device = cp.random.random(npts) * 0.5 + 2.\n",
    "cp_result_device = cp.zeros_like(cp_dedx_device)"
   ]
  },
  {
   "cell_type": "code",
   "execution_count": 23,
   "metadata": {},
   "outputs": [
    {
     "name": "stdout",
     "output_type": "stream",
     "text": [
      "463 ms ± 35.6 ms per loop (mean ± std. dev. of 7 runs, 1 loop each)\n"
     ]
    }
   ],
   "source": [
    "%timeit result = modified_box(dedx)"
   ]
  },
  {
   "cell_type": "code",
   "execution_count": 24,
   "metadata": {},
   "outputs": [
    {
     "name": "stdout",
     "output_type": "stream",
     "text": [
      "1.94 ms ± 213 µs per loop (mean ± std. dev. of 7 runs, 1000 loops each)\n"
     ]
    }
   ],
   "source": [
    "%timeit modified_box(np_dedx_device, out=np_result_device)"
   ]
  },
  {
   "cell_type": "code",
   "execution_count": 25,
   "metadata": {},
   "outputs": [
    {
     "name": "stdout",
     "output_type": "stream",
     "text": [
      "1.99 ms ± 89.4 µs per loop (mean ± std. dev. of 7 runs, 1000 loops each)\n"
     ]
    }
   ],
   "source": [
    "%timeit modified_box(cp_dedx_device, out=cp_result_device)"
   ]
  },
  {
   "cell_type": "code",
   "execution_count": null,
   "metadata": {},
   "outputs": [],
   "source": []
  }
 ],
 "metadata": {
  "kernelspec": {
   "display_name": "Python3_Numba_gpu",
   "language": "python",
   "name": "numba_cuda_env"
  },
  "language_info": {
   "codemirror_mode": {
    "name": "ipython",
    "version": 3
   },
   "file_extension": ".py",
   "mimetype": "text/x-python",
   "name": "python",
   "nbconvert_exporter": "python",
   "pygments_lexer": "ipython3",
   "version": "3.7.7"
  }
 },
 "nbformat": 4,
 "nbformat_minor": 4
}
